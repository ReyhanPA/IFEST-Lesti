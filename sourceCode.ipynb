{
 "cells": [
  {
   "cell_type": "markdown",
   "metadata": {},
   "source": [
    "### Persiapan Data"
   ]
  },
  {
   "cell_type": "markdown",
   "metadata": {},
   "source": [
    "#### 01. Import Library"
   ]
  },
  {
   "cell_type": "code",
   "execution_count": 102,
   "metadata": {},
   "outputs": [],
   "source": [
    "# EDA\n",
    "import pandas as pd\n",
    "import numpy as np"
   ]
  },
  {
   "cell_type": "code",
   "execution_count": 103,
   "metadata": {},
   "outputs": [],
   "source": [
    "# Data Visualization\n",
    "import matplotlib.pyplot as plt\n",
    "import seaborn as sns"
   ]
  },
  {
   "cell_type": "code",
   "execution_count": 104,
   "metadata": {},
   "outputs": [],
   "source": [
    "# Text Cleaning\n",
    "import neattext.functions as nfx"
   ]
  },
  {
   "cell_type": "code",
   "execution_count": 105,
   "metadata": {},
   "outputs": [],
   "source": [
    "# Machine Learning\n",
    "# Estimators\n",
    "from sklearn.linear_model import LogisticRegression\n",
    "from sklearn.naive_bayes import MultinomialNB\n",
    "\n",
    "# Transformers\n",
    "from sklearn.feature_extraction.text import CountVectorizer\n",
    "from sklearn.model_selection import train_test_split\n",
    "from sklearn.metrics import accuracy_score,classification_report,confusion_matrix"
   ]
  },
  {
   "cell_type": "markdown",
   "metadata": {},
   "source": [
    "#### 02. Load Data"
   ]
  },
  {
   "cell_type": "code",
   "execution_count": 106,
   "metadata": {},
   "outputs": [
    {
      "cell_type": "markdown",
      "metadata": {},
      "source": [
        "### Persiapan Data"
      ]
     },
     "execution_count": 106,
     "metadata": {},
     "output_type": "execute_result"
    }
   ],
   "source": [
    "# Membaca Dataset Berisi\n",
    "dataset = pd.read_csv(\"Dataset Babak Penyisihan.csv\")\n",
    "dataset"
   ]
  },
  {
   "cell_type": "code",
   "execution_count": 107,
   "metadata": {},
   "outputs": [],
   "source": [
    "# Membuat Dataset Berisi dan Prediksi Terpisah\n",
    "dataset_berisi = dataset.dropna(how = \"any\").reset_index(drop = True)\n",
    "dataset_prediksi = dataset[dataset.isnull().any(axis = 1)].reset_index(drop = True)"
   ]
  },
  {
   "cell_type": "markdown",
   "metadata": {},
   "source": [
    "#### 03. Data Cleaning"
   ]
  },
  {
   "cell_type": "code",
   "execution_count": 108,
   "metadata": {},
   "outputs": [
    {
     "data": {
      "text/html": [
       "<div>\n",
       "<style scoped>\n",
       "    .dataframe tbody tr th:only-of-type {\n",
       "        vertical-align: middle;\n",
       "    }\n",
       "\n",
       "    .dataframe tbody tr th {\n",
       "        vertical-align: top;\n",
       "    }\n",
       "\n",
       "    .dataframe thead th {\n",
       "        text-align: right;\n",
       "    }\n",
       "</style>\n",
       "<table border=\"1\" class=\"dataframe\">\n",
       "  <thead>\n",
       "    <tr style=\"text-align: right;\">\n",
       "      <th></th>\n",
       "      <th>label</th>\n",
       "      <th>tweet</th>\n",
       "    </tr>\n",
       "  </thead>\n",
       "  <tbody>\n",
       "    <tr>\n",
       "      <th>0</th>\n",
       "      <td>NaN</td>\n",
       "      <td>Saya taKan raguKan besarNya kasih sayang Tuhan...</td>\n",
       "    </tr>\n",
       "    <tr>\n",
       "      <th>1</th>\n",
       "      <td>NaN</td>\n",
       "      <td>Cc in ke cebong2 dungu... Maksd hati pengen ca...</td>\n",
       "    </tr>\n",
       "    <tr>\n",
       "      <th>2</th>\n",
       "      <td>NaN</td>\n",
       "      <td>Nah, yg keterlaluan adl kalo ada pjbt eselon y...</td>\n",
       "    </tr>\n",
       "    <tr>\n",
       "      <th>3</th>\n",
       "      <td>NaN</td>\n",
       "      <td>Melody masih membatasi diri ala member ya? Yan...</td>\n",
       "    </tr>\n",
       "    <tr>\n",
       "      <th>4</th>\n",
       "      <td>NaN</td>\n",
       "      <td>Rasa amarah ini membuatku merasa seperti aku a...</td>\n",
       "    </tr>\n",
       "    <tr>\n",
       "      <th>...</th>\n",
       "      <td>...</td>\n",
       "      <td>...</td>\n",
       "    </tr>\n",
       "    <tr>\n",
       "      <th>995</th>\n",
       "      <td>NaN</td>\n",
       "      <td>Aku termasuk orang yang tidak habis pikir deng...</td>\n",
       "    </tr>\n",
       "    <tr>\n",
       "      <th>996</th>\n",
       "      <td>NaN</td>\n",
       "      <td>Melawan sibuk Selasamu, jangan patah semangat ...</td>\n",
       "    </tr>\n",
       "    <tr>\n",
       "      <th>997</th>\n",
       "      <td>NaN</td>\n",
       "      <td>Momen di mana kamu merasa begitu mendalam terh...</td>\n",
       "    </tr>\n",
       "    <tr>\n",
       "      <th>998</th>\n",
       "      <td>NaN</td>\n",
       "      <td>Tapi tentunya secara ini Bekasi ada hal-hal yg...</td>\n",
       "    </tr>\n",
       "    <tr>\n",
       "      <th>999</th>\n",
       "      <td>NaN</td>\n",
       "      <td>Happy Mensive My Love makasih udh nemenin sela...</td>\n",
       "    </tr>\n",
       "  </tbody>\n",
       "</table>\n",
       "<p>1000 rows × 2 columns</p>\n",
       "</div>"
      ],
      "text/plain": [
       "    label                                              tweet\n",
       "0     NaN  Saya taKan raguKan besarNya kasih sayang Tuhan...\n",
       "1     NaN  Cc in ke cebong2 dungu... Maksd hati pengen ca...\n",
       "2     NaN  Nah, yg keterlaluan adl kalo ada pjbt eselon y...\n",
       "3     NaN  Melody masih membatasi diri ala member ya? Yan...\n",
       "4     NaN  Rasa amarah ini membuatku merasa seperti aku a...\n",
       "..    ...                                                ...\n",
       "995   NaN  Aku termasuk orang yang tidak habis pikir deng...\n",
       "996   NaN  Melawan sibuk Selasamu, jangan patah semangat ...\n",
       "997   NaN  Momen di mana kamu merasa begitu mendalam terh...\n",
       "998   NaN  Tapi tentunya secara ini Bekasi ada hal-hal yg...\n",
       "999   NaN  Happy Mensive My Love makasih udh nemenin sela...\n",
       "\n",
       "[1000 rows x 2 columns]"
      ]
     },
     "execution_count": 108,
     "metadata": {},
     "output_type": "execute_result"
    }
   ],
   "source": [
    "# Data Cleaning Column \"tweet\" dari dataset_prediksi\n",
    "dataset_prediksi.dropna(subset = [\"tweet\"], inplace = True)\n",
    "dataset_prediksi.reset_index(drop=True, inplace=True)\n",
    "dataset_prediksi"
   ]
  },
  {
   "cell_type": "code",
   "execution_count": 109,
   "metadata": {},
   "outputs": [
    {
      "cell_type": "markdown",
      "metadata": {},
      "source": [
        "#### 01. Import Library"
      ]
     },
     "execution_count": 109,
     "metadata": {},
     "output_type": "execute_result"
    }
   ],
   "source": [
    "# Data Cleaning Column \"tweet\" dari dataset_prediksi\n",
    "dataset_prediksi.dropna(subset = [\"tweet\"], inplace = True)\n",
    "dataset_prediksi.reset_index(drop=True, inplace=True)\n",
    "\n",
    "# Stopwords (Menghapus Kata Tidak Penting, seperti a, the, dll)\n",
    "dataset_prediksi[\"teks_bersih\"] = dataset_prediksi[\"tweet\"].apply(nfx.remove_stopwords)\n",
    "\n",
    "# Menghapus Kata [USERNAME]\n",
    "dataset_prediksi[\"teks_bersih\"] = dataset_prediksi['teks_bersih'].str.replace(r\"\\[USERNAME]\", \"\")\n",
    "\n",
    "# Menghapus koma, titik, dan lain lain\n",
    "dataset_prediksi[\"teks_bersih\"] = dataset_prediksi[\"teks_bersih\"].apply(nfx.remove_punctuations)\n",
    "dataset_prediksi\n"
   ]
  },
  {
   "cell_type": "code",
   "execution_count": 110,
   "metadata": {},
   "outputs": [
    {
     "data": {
      "text/html": [
       "<div>\n",
       "<style scoped>\n",
       "    .dataframe tbody tr th:only-of-type {\n",
       "        vertical-align: middle;\n",
       "    }\n",
       "\n",
       "    .dataframe tbody tr th {\n",
       "        vertical-align: top;\n",
       "    }\n",
       "\n",
       "    .dataframe thead th {\n",
       "        text-align: right;\n",
       "    }\n",
       "</style>\n",
       "<table border=\"1\" class=\"dataframe\">\n",
       "  <thead>\n",
       "    <tr style=\"text-align: right;\">\n",
       "      <th></th>\n",
       "      <th>label</th>\n",
       "      <th>tweet</th>\n",
       "      <th>teks_bersih</th>\n",
       "    </tr>\n",
       "  </thead>\n",
       "  <tbody>\n",
       "    <tr>\n",
       "      <th>0</th>\n",
       "      <td>fear</td>\n",
       "      <td>Lebih menyeramkan kalo punya grup WA keluarga ...</td>\n",
       "      <td>Lebih menyeramkan kalo punya grup WA keluarga ...</td>\n",
       "    </tr>\n",
       "    <tr>\n",
       "      <th>1</th>\n",
       "      <td>joy</td>\n",
       "      <td>Hepibesdey canteeeekk [USERNAME] panjang umur,...</td>\n",
       "      <td>Hepibesdey canteeeekk [USERNAME] panjang umur ...</td>\n",
       "    </tr>\n",
       "    <tr>\n",
       "      <th>2</th>\n",
       "      <td>joy</td>\n",
       "      <td>Jumat lalu nonton inih! Selain tertarik settin...</td>\n",
       "      <td>Jumat lalu nonton inih Selain tertarik setting...</td>\n",
       "    </tr>\n",
       "    <tr>\n",
       "      <th>3</th>\n",
       "      <td>joy</td>\n",
       "      <td>Nyante dulu.. Sruput kopi biar tambah bijak...</td>\n",
       "      <td>Nyante dulu Sruput kopi biar tambah bijak</td>\n",
       "    </tr>\n",
       "    <tr>\n",
       "      <th>4</th>\n",
       "      <td>love</td>\n",
       "      <td>Happy annyversarry yg pertama kalinya .. Trsra...</td>\n",
       "      <td>Happy annyversarry yg pertama kalinya  Trsrah ...</td>\n",
       "    </tr>\n",
       "    <tr>\n",
       "      <th>...</th>\n",
       "      <td>...</td>\n",
       "      <td>...</td>\n",
       "      <td>...</td>\n",
       "    </tr>\n",
       "    <tr>\n",
       "      <th>4146</th>\n",
       "      <td>anger</td>\n",
       "      <td>sini berobat sama saya ini ngantri dokter saja...</td>\n",
       "      <td>sini berobat sama saya ini ngantri dokter saja...</td>\n",
       "    </tr>\n",
       "    <tr>\n",
       "      <th>4147</th>\n",
       "      <td>joy</td>\n",
       "      <td>Selamat pagi generasi Tik Tok yang kadang kepa...</td>\n",
       "      <td>Selamat pagi generasi Tik Tok yang kadang kepa...</td>\n",
       "    </tr>\n",
       "    <tr>\n",
       "      <th>4148</th>\n",
       "      <td>love</td>\n",
       "      <td>Salah satu sahabat terbaik! Teman, kakak, insp...</td>\n",
       "      <td>Salah satu sahabat terbaik Teman kakak inspira...</td>\n",
       "    </tr>\n",
       "    <tr>\n",
       "      <th>4149</th>\n",
       "      <td>anger</td>\n",
       "      <td>[USERNAME] Gila kok ada ya perempuan pikiranny...</td>\n",
       "      <td>[USERNAME] Gila kok ada ya perempuan pikiranny...</td>\n",
       "    </tr>\n",
       "    <tr>\n",
       "      <th>4150</th>\n",
       "      <td>anger</td>\n",
       "      <td>[USERNAME] saya coba hubungi yg di cakung dan ...</td>\n",
       "      <td>[USERNAME] saya coba hubungi yg di cakung dan ...</td>\n",
       "    </tr>\n",
       "  </tbody>\n",
       "</table>\n",
       "<p>4151 rows × 3 columns</p>\n",
       "</div>"
      ],
      "text/plain": [
       "      label                                              tweet  \\\n",
       "0      fear  Lebih menyeramkan kalo punya grup WA keluarga ...   \n",
       "1       joy  Hepibesdey canteeeekk [USERNAME] panjang umur,...   \n",
       "2       joy  Jumat lalu nonton inih! Selain tertarik settin...   \n",
       "3       joy     Nyante dulu.. Sruput kopi biar tambah bijak...   \n",
       "4      love  Happy annyversarry yg pertama kalinya .. Trsra...   \n",
       "...     ...                                                ...   \n",
       "4146  anger  sini berobat sama saya ini ngantri dokter saja...   \n",
       "4147    joy  Selamat pagi generasi Tik Tok yang kadang kepa...   \n",
       "4148   love  Salah satu sahabat terbaik! Teman, kakak, insp...   \n",
       "4149  anger  [USERNAME] Gila kok ada ya perempuan pikiranny...   \n",
       "4150  anger  [USERNAME] saya coba hubungi yg di cakung dan ...   \n",
       "\n",
       "                                            teks_bersih  \n",
       "0     Lebih menyeramkan kalo punya grup WA keluarga ...  \n",
       "1     Hepibesdey canteeeekk [USERNAME] panjang umur ...  \n",
       "2     Jumat lalu nonton inih Selain tertarik setting...  \n",
       "3             Nyante dulu Sruput kopi biar tambah bijak  \n",
       "4     Happy annyversarry yg pertama kalinya  Trsrah ...  \n",
       "...                                                 ...  \n",
       "4146  sini berobat sama saya ini ngantri dokter saja...  \n",
       "4147  Selamat pagi generasi Tik Tok yang kadang kepa...  \n",
       "4148  Salah satu sahabat terbaik Teman kakak inspira...  \n",
       "4149  [USERNAME] Gila kok ada ya perempuan pikiranny...  \n",
       "4150  [USERNAME] saya coba hubungi yg di cakung dan ...  \n",
       "\n",
       "[4151 rows x 3 columns]"
      ]
     },
     "execution_count": 110,
     "metadata": {},
     "output_type": "execute_result"
    }
   ],
   "source": [
    "# Data Cleaning Column \"tweet\" dari dataset_berisi\n",
    "# Stopwords (Menghapus Kata Tidak Penting, seperti a, the, dll)\n",
    "dataset_berisi[\"teks_bersih\"] = dataset_berisi[\"tweet\"].apply(nfx.remove_stopwords)\n",
    "\n",
    "# Menghapus Kata [USERNAME]\n",
    "dataset_berisi[\"teks_bersih\"] = dataset_berisi['teks_bersih'].str.replace(r\"\\[USERNAME]\", \"\")\n",
    "\n",
    "# Menghapus koma, titik, dan lain lain\n",
    "dataset_berisi[\"teks_bersih\"] = dataset_berisi[\"teks_bersih\"].apply(nfx.remove_punctuations)\n",
    "\n",
    "dataset_berisi"
   ]
  },
  {
   "cell_type": "markdown",
   "metadata": {},
   "source": [
    "### Pemrosesan Data"
   ]
  },
  {
   "cell_type": "code",
   "execution_count": 111,
   "metadata": {},
   "outputs": [],
   "source": [
    "# Word Extraction\n",
    "\n",
    "from collections import Counter"
   ]
  },
  {
   "cell_type": "code",
   "execution_count": 112,
   "metadata": {},
   "outputs": [],
   "source": [
    "def extract_keywords(text, num=50):\n",
    "    tokens = [tok for tok in text.split()]\n",
    "    most_common_tokens = Counter(tokens).most_common(num)\n",
    "    return dict(most_common_tokens)"
   ]
  },
  {
   "cell_type": "code",
   "execution_count": 113,
   "metadata": {},
   "outputs": [],
   "source": [
    "#list of emotions\n",
    "\n",
    "emotion_list = dataset_berisi[\"label\"].unique().tolist()"
   ]
  },
  {
   "cell_type": "code",
   "execution_count": 114,
   "metadata": {},
   "outputs": [
    {
     "data": {
      "text/plain": [
       "['fear', 'joy', 'love', 'sadness', 'anger']"
      ]
     },
     "execution_count": 114,
     "metadata": {},
     "output_type": "execute_result"
    }
   ],
   "source": [
    "emotion_list"
   ]
  },
  {
   "cell_type": "code",
   "execution_count": 115,
   "metadata": {},
   "outputs": [],
   "source": [
    "fear_list = dataset_berisi[dataset_berisi['label'] == 'fear']['teks_bersih'].tolist()"
   ]
  },
  {
   "cell_type": "code",
   "execution_count": 116,
   "metadata": {},
   "outputs": [],
   "source": [
    "fear_docx =  ''.join(fear_list)"
   ]
  },
  {
   "cell_type": "code",
   "execution_count": 117,
   "metadata": {},
   "outputs": [
    {
     "data": {
      "text/plain": [
       "'Lebih menyeramkan kalo punya grup WA keluarga yg isinya sharing2 hadist  ayat AlQuran DAN grup WA lingkungan paroki gereja Serem kalo salah replyYa gimana Diajak jalan aja gatau kenapa suka ada rasa takut Seringnya nolak Mungkin itu yang membuatku ga pernah bertahan lama hubungannya :/ ga pernah nyampe sebulan Eee e e kalo di imvu sih paling lama berapa yak Ya sama agun itu 3 bulan sama 2 bulan HmmmAku dulu nemu ig nya dia Pas dia lg liat camera gitu serem dah Itu gatau pake softlens atau gimana tapi matanya tuh jd gede bgtEntah gatau kenapa semakin bertambahnya umur malah semakin takut pacaran takut dikhianati ya semacam itu lahTidak disemua tempat kita boleh melaksanakan sholat salah satunya di bangunan yang didirikan untuk kekafiran (salah satunya gereja) Aku berlindung kepada ALLAAH SWT dari godaan setan yang terkutuk/rlt/ minta saran dong akukan pesen sepatu PO gitu nah biasanya datengnya seminggu 2minggu tapi ini udah lebih dari sebulan sepatunya ga dateng22 yaa belom bayar sih cumakan sepatunya mau aku pake enaknya tanya gimana sama penjual mau pesen ke yg lain takut sepatunya datengInilah salah satu sebab kenapa aku mending nggak usah punya anak Cuma suka anak kecil selama masih lucu aja Ya tapi kalo dikasih makan anak kecil pasti jadi anak besar kan yaMomen di mana perasaan takut membuatmu merasa seperti kamu harus berlari dari segala yang menakutkan 🏃\\u200d♂️😨 #RunningFromFearOkay makin kesini makin yakin untuk segera pindah dari kata2 bisa jadi kenyataan bahaya nih harus bener2 perhatiin sama omongan takutnya kejadianselalu takut kalo mama tau gue abis belanja2 pdhl belanja juga pake tabungan sendiri cm kalo mama udh ngomel ntah knp jd nyesel sendiri udh belanja online trsSerem jg nih kalo sering mati lampu gini Ngeri aje pas lg ditinggal keluarga ke jogja besok sendirian di rumah trus mati lampu Jadi apa aqBagaimana ya Jalur yang dilewati juga jalur lewat truck juga Aku mikir gini sayang gak sih sama nyawa Dan beberapa umpatan lainnya Dan jalan itu kurang penerangan dan banyak sekali yang ngelawan arus jalan[USERNAME] [USERNAME] Biar saja mereka asal jangan kita Naudzubillah berat pertanggungjawabannya Yg jelas gelar tahta harta kedudukan / jabatan TIDAK DIBAWA MATI semua akan jadi 1 panggilan akhir yg melekat yakni alm / almhserembaru buka fb eh ada notif banyak bener ini cowo ngelike semua2nya dari awal w buat fb sampe sekarang :) terus ngechat2 ga jelasplease leave[USERNAME] [USERNAME] [USERNAME] Tidak disemua tempat kita boleh melaksanakan sholat salah satunya di bangunan yang didirikan untuk kekafiran (salah satunya gereja) Aku berlindung kepada ALLAAH SWT dari godaan setan yang terkutuk httpsOh iya pada saat itu hanya mahasiswa reguler yang mendapatkan kelas bersama beliau dan aku bersyukur menjadi mahasiswa reguler dan dipertemukan dengan beliau ini impression kami terhadap Ka Abel jujur saja kami ngeri Maksudnya kami masih semester II masih bau cikurItulah pentingnya materi kode etik diajarkan sejak SD atau minimal ilmu ilmu dasar untuk berbuat baik sopan teratur Lah kalo ga ya jadinya kaya gitu bablas ga peka keadaan gue lupa dulu BK atau PKn atau SosUm bahas apaan ya ada si kesananya tp ga khusus jadi ga ngenaDulu waktu kecil kan ditakut2in kalo makan biji buah bijinya bakal numbuh di perut Pas itu gue makan semangka dong bijinya ketelen Terus gue nangis takut jadi pohon semangkaMasi ga ngerti kenapa bisa takut ketinggian :) padahal dulu doyan manjat pohon depan rumah Skrg liat ke asrama lt dasar aja ogah apalagi ganti lampu begini TTBaru pulang  mama said jgn kebanyakan mikir kamu ya mama takut uwa tiba tiba pembuluh darah otaknya pecah sblmnya tlp ibunya kepalanya sakit dan pas ditemuin lg kejang dikamar[USERNAME] Masa kecil yg pling diingat itu klo Barangkt sekolah itu mnta diantar ibuk trs karena takut kesekolah sendian dan harus dibelikan Permen dlu biar mau berngkat gt dech scra gue orang pendiem dan takut kpd teman #MasaKecilkuAsik [USERNAME] [USERNAME]Tetapi rasa takut itu kalah melawan rasa penasarannya Nada perlahan menunduk dengan menyalakan senter hp yang ia pegang dan mengarahkan ke bawah kolong kasur yang sangat gelap Bismillah semoga gak ada apaapa disana#OldMoneyGakNgerasain mau browsing aja harus pake paketan internet yang kuotanya 10 mb hari dengan sinyal maksimum Edge itu pun di hantui rasa khawatir kelewatan batas kuota nanti pulsa reguler takut kesedotUn sd gatakut samsek un smp mayan dah degdegan un sma panik panik ajaib Eh pas udah sampe tugas akhir tbtb kepikiran semuanya Ngeri ga luluslah daftar sidang kapanlah abis lulus kerja dimana lah YaamponSaat aku merasa seperti ada yang menarik rambutkujam 3 belum nongol jg eh sampe jam 4 ditelponin bilangnya bersiap ke tkp Kosan yg 2 lantai kamar super gede udah lengang bgt Nungguin waswas sms Pak ini saya jadi dijemput kanDibalik cewe yang memberikan kepercayaan kepada pasangannyaada keraguan dan takut kehilangan Karena mereka tau bahwa dirinya begitu banyak memiliki kekurangan dan diluar sana banyak yang lebih baik dari dirinyaKetika kamu merasa seperti kamu harus berhadapan dengan mimpi buruk yang tak kunjung berakhir 💤😰 #EndlessNightmare[USERNAME] [USERNAME] Tidak disemua tempat kita boleh melaksanakan sholat salah satunya di bangunan yang didirikan untuk kekafiran (salah satunya gereja) Aku berlindung kepada ALLAAH SWT dari godaan setan yang terkutuk [URL]Ngeri yaa lalulintas di sana  untung di Bali belum pernah ngerasain yang beginian sihJadi semalam gw rekap eh intinya yg gw usahain kerja ternyata zero samsek Presentasi jam 1600 ku baru grasak grusuk jam 1323 JiaaaaaaannMakin serem ya dunia ini ga seindah yg gue bayangkan waktu kecil terlalu banyak org jahat atau mungkin gue yg terlalu naif menganggap semua orang itu baikasli parno bgt kebangun ada bunyi2 deket telinga dan ada yg nonjol gtu di balik gordenSementara gue begitu ketakutan buat melanjutkan hubungan gue ke arah yang lebih serius dan malah memutuskan buat pisah dari lakilaki yang sayang banget sama gueKetika kamu merasa seperti kamu harus berjuang melawan rasa takut yang mengikat 👊😱 #BreakingFreeFromFearPikiranku penuh dengan ketidakpastian saat aku berjalan sendirian di jalan yang sepiKhawatir sih takut terjadi yang aneh2 ama dia Tapi aku tetap ngekeh ngga mau hubungi dia duluHari ini jadwal presentasi proker di LPPM karna ada praktikum jadinya pak ketua di temani sekretaris 1 Tapi selaku penanggung jawab ada di sekretaris 2 jadi deg deg ini Bismillah pak ketua (Btw pen Upload foto pak ketua tapi jangan dulu yaa)[askmf] aku maba aku trmasuk orang yg susah cari temen baru kmarin aku gabung sama grup fakultas pdhal grup itu udh ada sejak lama aku bingung gabisa ikut nimbrung ngobrol krn blm tau apa2 aku jd takut bsok gapunya temen aku hrs gimanaIni pas banget Gue habis baca buku ada bule PDKT bilang cariin rumah samamobil dicariin mobil sama rumah mewah si bule Ok dan niat kirim uang sekitar $100jt tp pake pos Bilang sama hadiah lain Tp gak masuk akal kirim yang sebanyak itu pake pos [URL]Hehe kak aku nih diajakin nonton sabrina aja ngeri setengah modyar Dibioskop cuma merem sambil tutup telingaNah td kebelulan setorannya ke bpd rumah sakit karna trauma kejadian di bpd cabang tp ternyata ketemunya itu satpam kurang ajar udh ngeper duluan takut ingin ku berlari saja rasanyaApa itu keposesifan gue sama sahabat gue takut diapa2in sama L/ Apa gue jealous karena gue lagi ga ada gebetan yang bisa diajak jalan/ Apa gue takut kehilangan sahabat/ Apa gue jealous karena E deket sama LDiri ini penakut contohnya nonton film horor balik2 gaberani sendirian ke wc ga bisa kalo ga ditemenin trs suka parno sendiri hm sungguhku tak sanggupLah masalahnya dia hatinya kayak pantat bayi sensitif bet Yamana w berani negur Bangunin dia aja w gaberani (haha sementara dia seenaknya motong jam tidurku) Sebenernya aku masi takut naik motor karena kemaren aja aku liat orang nyaris kecelakaan 3 kali didepan motorkuAku merasa seperti ada yang mengamati setiap gerakanku dari balik bayangbayangketika idung nyium bau bau gaenak lalu temen yg rumahnya lumayan jauh ngechat di wa kalian nyium bau gas ga  NJIRRR IYA INI BAU GAS INI BUKAN GAS BERACUN KAN HUH  KO JADI PARNO SIHMenunggu penjelasan dari yg bersangkutan dulu ndul Boleh di cc ndul daku takut men cc nanti kena semprot orang yg mengaku paling dekil seantero tuiterIngat Hepatitis berpotensi timbulkan dampak morbiditas dan mortalitas Termasuk penyakit kronis dan silent killer Serem kanMelihat Fotonya Saja Bikin Ngeri Apalagi Mengalami Sendiri Merinding Seolah kematian ada di depan mata[USERNAME] [USERNAME] [USERNAME] Ya kalau ada bukti kuat percobaan utk makar atau menggulingkan pemerintahan yg sah maka siapapun bisa di proses hukumMau nonton tp deg2an takut ga sama kaya imajinasi waktu baca iniYa Allah bukakanlah bagiku di bulan ini pintupintu menuju surga dan tutupkan bagiku pintupintu neraka Berikanlah kemampuan padaku untuk menelaah Al quran di bulan ini Wahai yang menurunkan ketenangan ke dalam hati orangorang mukminPria ini seram juga ya selain ekspresinya seram tutur kata yang keluar juga sangat menohok Ah baiklahbaiklah etto iie Juvia hanya memastikan kalau tidak salah orangMomen di mana perasaan takut merasuki pikiranmu dan mengusik ketenangan 🧘\\u200d♂️😰 #MindDisturbancesedihnya tuh ketika sedang seperti ini ga ada tempat sampah jadinya nyampah aja di twitter maaf ya followerku :( btw aku bingung deh tadi nimbang 436 trus pup 2x abis itu turun lagi jadi 42 ini timbangannya yg labil apa gimanaAku merinding ketika angin malam berhembus dinginJadi yeorobun kan biasanya gue kalo tidur lampunya dimatiin nah trus gua lagi buka twt tuh gelap2 TIBA2 ADA KECOA YEOROBUN JATOH DI SEBELAH GUE PANIK GUE LNGSNG BANGUNIN BOKAP GUE UNTUNG BLM TIDUR gue takut bgt sm kecoa gatau knp :( [USERNAME]Sy kira belum saatnya beliau perlu learning experience dulu lah biar betul matang Ya jadi bupati/wali kota gubernur baru capres/wapres apalagi usianya masih muda Indonesia tdk boleh jadi coba2 [URL]Sobatkenthel di Duren Sawit bilang bikin aja indomie sante bae tapi lalu saya dengan bodohnya scroll timeline dan menemukan foto pocong dan suzanna yang membuat saya takut ke dapur :(((((Yg pada nangis dimotor gitu emg gapada takut tbtb bawa motor jadi ga fokus dan malah jatoh atau tabrakan ya Gua pernah nangis dimotor tapi ga histeris dan malah kepikiran serem aja ntar tbtb gua ketabrak grgr ga fokus nyetir :) drama emg :( [URL]Jadi takut aku sering foto anak Tapi gak pakai flash / blits kok karena sadar bisa bahaya kalau kena cahaya langsung matanya Tapi mamah kurang2i aja fotonya ya nakKetika kamu merasa seperti kamu harus menghadapi semua ketakutanmu sekaligus 👊😰 #ConfrontingFearsitu tim kru [USERNAME] juga kena hal hal yg serem ih ngeri yah rajin rajin istighfar mba saran aja sih #Trans7RumahUya2507 #RumahUya2507tp jujur ya w cuma takut reaksi nya kaya apa pas tau gw dikit2 sedih dikit2 nangis Kaya apasi anjink goblox bgt takut ngecewain juga tbtb dia mikir ko w orangnya cengeng bgt si ko orangnya gini bgt si Ajg w ngamaukuat tidaknya iman seseorang itu (bisa) dilihat saat doi mulai jatuh cinta cinta tuh ngeri sampai sampai bisa bikin seseorang mengorbankan imannya demi cintaaa~Ya masamasa itu sudahlah terlewati Walaupun memang nggak sampai fanatik banget Tapi sekarang sudah risih lihatnya Sudah ndak tertarik lagi OkesipYa tau kalo rasa sakit hati memamg sulit tapi ada kala nya saat di jenjang rumah tangga jangan lah di publikan situasi saat inimedia itu jahat enggak menyelesaikan masalah dengan terlontarnya kata demi katapunya trauma minum air galon Mungkin gara2 itu air galon kepapr sinar matahari secara langsung sebelum kebeli sm ibu Mangkanya berubah rasa dan pas gue minumguenya langsung muntah[USERNAME] Aku gak salah bila mohon pd [USERNAME] segera Perintahkan MENKES utk menambah Ruangan Khusus Sakit Jiwa pd stiap Rmh Sakit Sbab tdk menutup kemungkinan USAI PILPRES stiap Rmh Sakit akan dibanjiri Pasien Sakit Jiwa Tanda2 kearah sanaBESOK UDAH MULAI KERJA YAAMPUN DAG DIG DUG TAKUT SUSAH BANGUN UDAH MULAI KERJA JAM 6 PAGI SAMPE BIKIN ALARM KAYA GINI TAKUT GA BISA BANGUN PFFFT [URL]Dilemma ku adalah jam segini ngerasa laper dan pgn food naspad duta minang jaya yg super enak itu tp takut gabisa tidur dan kesiangan bsk pagi huuMengistirhatkan badan itu penting tapi saat hendak istirahat teringat akan tugas yang tak kunjung kelar akhirnya bangun duduk depan laptop dengerin radio tinggal nulis nya aja mikir kemanamana ya begitulahJadi gue ga berani masuk dari gerbang rumah plz itu serem bgt diliatin ayam jago nya gede bgt[USERNAME] Bukaaan tapi aku punya kayak semacam trust issue gitu takut diomongin sama temen deket takut kalo ngomong nanti malah salah dan aku bukan tipe orang yg gampang ceritain semua masalahku ke orang lain alias susah terbuka[askMF] kalo lagi presentasi kalian yang maaf nih yang kurang suka sama bicara depan umum suka awkward gt ga sih dan takut salah ngmgKetika kamu merasa seperti kamu harus menavigasi jalan yang berlikuliku di tengah kegelapan 🛤️😱 #NavigatingDarkPathsMomen di mana perasaan takut melanda seperti bayangan yang mengikuti setiap langkahmu 👣😱 #HauntedByFear[USERNAME] Iyaaaa masih sekecil ini badan dia tp agak gendut sih emang Tapi khawatir aja Minggu2 lalu dia emang birahi sih Bawa cowonya dikenalin ke aku [URL]Momen di mana perasaan takut menguasai pikiranmu membuatmu merasa tak berdaya 🧠😱 #OverpoweredByFearLiat boneka susan aja sudah ampun Lha ini malah diajakin nonton film horror boneka sabrinaMomen di mana perasaan takut mengacaukan fokusmu dan mengganggu produktivitasmu 🧠😨 #DisturbingFocusSmg bsk ud ada pengumuman baik ya Allah amin lancarkanlah segalanya bener2 deh judulnya skrg tuh w dipenuhi ketidak pastian dan penantian huhuhu bener2 dr berbagai aspek bs tenang aja ga si ni idupudah gitu jurit malam umayan takut sih soalnya tempat yg dipake kemah itu dulunya hutan hanya skrg dijadikan taman khusus buat kemah gitu setelah jurit malam jam 4 subuh itu harus nyari Lencana yg bentuknya sangat kecil kayak uang koinKetika kamu merasa seperti kamu terjebak dalam kegelapan rasa takut yang tak kunjung berakhir 🌑😰 #EndlessDarknessKetika aku menyadari bahwa aku sendirian di rumah yang sunyi[USERNAME] [USERNAME] serem sendiri dulu mama ku yg semangat nyuruh behelan pas dikasih tau dokter gt mama langsung ga mau lagi takutnya ada efek gituuMomen di mana perasaan takut menghantui seperti bayangan yang tidak pernah pergi 🌆😨 #PersistentFearSerem kangkl sdh macetnya begitu Padahal tol semua yaaHoror itu mah[USERNAME] Aih serem n sayang amat Klau tetangga sy kecelakaan tunggal di daerah pulogebang katanya krn lelah gitu pas belokan jatuh situasi ad pasir n ad truk lukanya smp kelihatan dagingnya Trus dy ditolongin sm tmnnya yg jg bw motor Hti2[USERNAME] takut bangettakut bawa kabur soalx dulu pernah pengalaman dibawa kabur keluar kota untung ada bang ojek yg bisa bawa daku kabur waktu mereka pikir aq g bakalan lari hmmmm mereka g tau aq pux duit 30 ebong buat ngibrit[USERNAME] Anti bank bank club Gue jadi kepo infonya dah Risen lo ja makan duit riba tuh Salah satu rekan kita pria paling menawan sekampus ae berani memutuskan untuk risen biar ga makan duit riba ckckMau jalan kaki diluar kosan tapi takut kena jambret karena mau nenteng kamera dan handphone alhasil gabut dalem kamar sendirian dengan laptop dan kue basah pemberian kamar tetangga #baladaanakdaerahHUAAAA TAKUT BGT WOI GW PENAKUT AKUT KAGETAN PARAH TERIAK BISA PALING KENCENG KALI makasih ojan ibad haekal imam yg bikin w takut malem ini/rlt kalian yang cewe kalo sekelas sama pacar kalian trus lu lagi nyeri dapet pengen dihibur apa gmn Cewe gue tadi malah gue ajak main onet di hp dia mendem marah kali yaYa Allah ngeri bgt Td yg brusan sawa ukuran pipa pralon gt makanya w tutupin sela2 pintu tkt badannya elastis bs masuk sela2 [URL]Hubungan asrama Justin dan Selena membuktikan bahwa pacaran yang putus nyambung itu gak sehat Takut kebawa sampe setelah nikah makanya JB nikahin cewek lain HuhuMaha Dahsyah Allah yang menciptakan mimpi dengan begitu detailnya hinggal waktu dan tanggal terlihat detak jantung terasa hingga terbangun lalu merasa ketakutan yg berasal dari mimpi tersebut[USERNAME] Hihi itu kok nyeremin banget ya Juur sih aku ga percaya gitu gituan tapi jujur juga kalo sendiri gue ngrasa takut #Trans7RumahUya2507 #RumahUya2507Momen di mana perasaan takut membuatmu merasa seperti kamu terjebak dalam mimpi buruk 💤😰 #TrappedInNightmareBelom abis rasa parno gw nyokap malah bilang coba kamu cek a tikusnya udah mati atau belum ANJAY MAKIN HOROR :(Ketika kamu merasa seperti kamu harus berjuang melawan rasa takut yang menyergap 👊😱 #FightingAmbushSelalu menyimpan pemikiran/kekhawatiran hanya pada diri sendiri karena takut semua orang nampak baik2 saja hingga lupa rasanya berkawan itu melegakanKetika kamu merasa seperti kamu harus melawan bayanganbayangan rasa takut yang muncul di pikiranmu 👥😨 #FacingShadowsMomen di mana kamu merasa seperti kamu terjebak dalam labirin rasa takut yang tak memiliki jalan keluar 🔄😨 #TrappedInFearSiapapun besok tolong ingetin AA tommy yah Selasa 5 Juni 2018 Jam 1500 Tolong Sms/telp/wa Takut AA nya ketinggalan info dari travelo*a Deg deg nihh semoga dapet nonton piala dunia langsung *gak bakal bisa tidur nyenyak malam ini  nunggu pengumuman besok*Di kostan gue sering muncul gue sama temen gue slalu matiin tapi muncul lagi dan akhirnya yang terakhir kita bakar ampe skrg ga pernah muncul lagi Takut banget sama ini sumpahMomen di mana perasaan takut membuatmu merasa seperti kamu terjebak dalam pusaran kecemasan 🌀😨 #CaughtInAnxiety[USERNAME] demi apapun w takut ama ntu hewan trauma pernah digigit dan w abis itu ke rumah sakit gegara keracunan padahal digigit sama yang kecil masih anaknya gitu tapi buset dah w langsung pusing lemes jadi ampe sekarang kalau ngeliat ini hewan langsuIni udah hampir akhir semester satu kalo gasalah Disini temen temen deket gua gaada satu pun yang gua kasih tau Gua bener bener mendem itu semua sendiri karena takut bakal kesebarpusing qlo gini pilih yang mana qlo gini (at pt airmas asri)[USERNAME] [USERNAME] apakah hari ini nasib cash saya Rp 50000 akan pending seperti yang sudah sudah Mohon informasi nya [URL]Logika nya ketika rumahmu diminta untuk menampung orang yang belum kamu kenal selama 40 hari apa gak takut dan tidak nyaman Kalo saya sih takut dan tidak nyaman walaupun ada surat rekomendasijadi takut buat nikahbuat punya anaktakut kalo saya nikah saya ga bisa bahagiain pasangantakut kalo punya anak nanti saya banding bandinginSaat lampu mati tibatibaJembatan depan super indo dago merupakan jembatan dengan anak tangga tersempit dan terterjal serta pagar terpendek yang pernah gue naikin Kalo nyokap2 pake gamis takut ketinggian sya Allah turun2 kaki lemas dan gemetar [URL]Saat aku merasa seperti ada yang menarik selimutku saat aku tidurPagi ini Surabaya mendungnya rata banget jangan biarin rasa meger menguasai jiwa ampAda khabar kasus tuduhan chat mesum terhadap Imam Besar Habib Rizieq sdh dihentikan mohon bantu doa semoga benar adanya Semoga kesucian Ramadhan membuka mata hati bapak2 kita yg menyidikaminDegdegan sebenernya pertama lagi harus terjun ke kelas yang jenjangnya lebih tinggi dari sebelumnya Apalgi utk sekolah yg dulu smpt di takutin krn siswa2nyaaa takut Iya Tapi ga ada jalan kembaliSemoga nggak nongol ybs serem aing bisa salah tagBeeuughhh dari jaman duluuuu sudah sering parno ngebayangin ini Tiap liat tukang cukur bersihkan rambut laki2 pake pisau2 ituloh pasti langsung kebayang itu pisonya dipake rame2 Trus kalo berdarah Trus kena yg lain Sterilkah [URL]Gue melipir ke deket2 taxi kan takut dipaksa atau dijahatin gitu Gue liatin aja tu bapak Brunei eh ga balik2 dia si bapak Indo juga ngilang aja Gue cerita ke Nyokap jangan2 gue mau dihipnotis Kalo menurut kalian ini tu beneran orang bingung atau orang jahatDi masa depan Scot langsung nyari rumahnya dong Sambil ngerasa ada yg aneh dgn dunia ini Ada apa gerangan Begitu sampe rumah dia kaget dgn sesosok perempuan cantik nan putih umur 16 tahunan Siapa perempuan iniBahaya MERCURY Untung cepet tersadar dan stop buat pakai produk2 instan ya Sayangi kulit dan kesehatan anda Karna cantik itu tidak perlu putih paling utama sehat Drw aman dari mercury ples amanHari senin qerja lembur bagai quda Hati hati gaes bagi para pengendara motor cek dulu helm nya siapa tau ada serangga laba  laba atau pun kecoaJinhyuk menunduk menatap sepatunya Merasa takut untuk membalas permintaan sang puan Mmaaf saya tidak membawa alat lukis saat ini [URL]Rasa takut membeku di tempat ketika aku melihat figur gelap berjalan menuju arahkuTakut banget sama kecoa Amit amit tuh makhluk harus musnah dari bumi /woi satu sva pun tau saya takut kecoa heran 3) Saya gen 19 moroi pernah jadi press moroi Orang bilang saya nista orang bilang saya bullyable sampe pas kas hov di lempar ke atasKetika kamu merasa seperti kamu harus berhadapan dengan monster rasa takut yang menghantui 🦸\\u200d♂️😱 #FacingMonstersMembeli kolak untuk berbuka puasa Biasanya habis tp td tida Mau dibuang sayang mau dibesokin takut basi Teringat kt nyokap siapa tau berkahnya disuapan terkahir Akhirnya dg segenap jiwa raga kuhabiskan kolak tsbPerkembangn khidupn mmg sungguh dahsyat itu smua akibat dr hal yg dirasakn Di sisi lain ada pula yg memilih tdk beragama hanya dg mengedepankn nilai2 dasar kemanusiaan/kberadabn [URL]singkat cerita sikap die yang dulunya cool cuek cintad dark pendiem abis dan pemarah tb tb berubah jadi caper humble berwarna karismatik play boy gt malah kl menrut gua pribadi sikopatnya makin keliatan jelasTerlalu naif jika berbicara patah hati tp terlalu munafik jika tdk merasa terluka Pilihan utk menikah msh membuat bulu kuduk saya merinding Di pikiran saya laki2 msh bgtu menyeramkan  membuat hati merasa sesak Entahlah kepercayaan kesetiaan dan cinta seolah sudah matisumpah td gue ketiduran jam 610 dan barusan gue bangun garagara mimpi dikejar setan gue mimpi di kejar miss k gue ga ngerti awal nya gmn yg gue inget awalnya[USERNAME] [USERNAME] hahahahah anjir sama gue waktu itu sempet takut muka gue penuh dengan rambut rambut halus yg numbuh gara gara aloevera:(sayang janganlah kau waton seremTakut semester ini gak bakalan maksimal Belajar yang seharusnya 2 semester satu tahun jadi cuma 6 bulan Pulang sore berangkat pagi pkl 6 bulan Alamat setres dadakanWah parah banget sih sendiri tapi sumpah itu ngebayanginnya aja udah serem banget Kepikiran aku juga sampe sekarang temenmu langsung tanggap banget hebat Ga kaya aku cengo :(dilema banget anjir mau kentut tp takut yg keluar gakcuma gas mau boker tp gak mulesAq lebih takut ama manusia daripada ama setan Gk pernah ada setan kemanusiaan tapi kalo manusia kesetanan banyak bahkan seram abisAti2 sis [USERNAME] leptopku juga abis update trs restart malah jd black screen pointernya muter2 trs ga bisa log in Restore pun ga bisa krn ga sengaja kehapusApa hukumnya bermain musik stad jelas HAROOOOM hukumnya Berdosa kita memainkannya Begitulah kirakira percakapan yg terjadi antara penanya dan seorang ustad disebuah acara tv yg intronya pake musikAku merasa gemetar ketika melihat bayangan yang aneh di sudut ruanganTapi far ga ada yg aneh sih Ka malah byk yg support Justru lebih ngeri netizen di IG kayanya wkwk jgn dikunci sayang KaBaru persiapan doang udah gosong gimana waktu gw ospek nanti 6 hari dilatih militer coy Naik outbound aja gw nangis anjir gegara takut sama ketinggian Gimana pas diksarlin nanti omgaku dong malem ini checkup darah ok warning untuk tensi dan kolesterol terus kenapa pusingnya ya dok spertinya gejala maag oh gitu tp aku ngetik ini sambil nyruput kopi[askMF] pacar gue enggak tau ada masalah apa di rumah sampe gamau pulang dia bilang dia lagi keluyuran sama temennya gue khawatir takut dia kenapa kenapa mendingan gue bersikap gimana ya drtd gue cuman bisa bilang jangan lupa ngabarin ya hati hati kamuMomen di mana kamu merasa seperti segala sesuatu terasa menakutkan dan berbahaya 🔍😱 #EverythingIsScaryKetika kamu merasa seperti kamu harus berjuang melawan rasa takut yang mendalam 👊😰 #ConfrontingDeepFearTapi dari Sartre banyak hal yang membuat saya harus sadar Itu si dan hal tersebut menjadi PR besar dalam hidup saya Dan tidak dapat dipungkiri Sartre sedikit banyaknya juga mempengaruhi pikiran saya Tapi saya masih percaya Tuhan koqAku gasuka ada ribut2 sama cewe Nanti pasti update di Instagram quote2 yg nyinggung satu gengnya ikut benci sama aku lah nyebar kemana mana lah ceritanya kalo versi ekstrem nya nih sampe bisa nyindir2 kalo lewat Padahal aku ceweKetika kamu merasa seperti kamu harus melawan ketakutan yang merajalela di dalam dirimu 👊😰 #ConqueringInnerDemonsBaru ngerusuh di balai desa Terus pas mau pulang tadi bu lurah nanya Mba Ulfah itu temannya yang satu ke mana sih kok ndak kelihatan Hah Teman saya buk Oo Bu Lurah: Iya yang biasa bareng dari senin ndak berangkat lho WAIT DARI SENIN[USERNAME] [USERNAME] Mungkin sj tp secara formal PSI sdh lolos verifikasi KPU dan di syahkan sbg peserta Pemilu Jd sbg warga negara kita terima keputusan KPU meski kita tdk akan memilih PSI krn curiga ada rekayasa di dalamnyaMomen di mana perasaan takut merasuki mimpimimpi malammu meninggalkan kesan yang menakutkan 🌙💤 #NightmaresOfDread[USERNAME] Iyaa nci  kdg suka mikir klo hidup dh pngen yg Macam2 emg esok2 msh dikasih nafas sama Allah Mudahan kita sllu dilindungi aaamiiinnnsaking takut salah ngetik mo ngechat ke dosen wali gue ngetiknya di note dulu setelah itu perbaikiperbaikicopypaste ke roomchatcekcekcek lagideletebuka note lagiperbaikiperbaikibuka whatsappclosegajadi chat deh mules gue mo pup dulu aku lemahNgeri banget Gelombang dengan ketinggian hingga mencapai 7 meter menghantam wilayah pesisir pantai selatan Pulau Jawa[USERNAME] Paling parah sih gabisa sama skali liat yg bolong2 totol2() bintik2 polkadot2 semacam itu lah Bisa nangis sampe pusing karena terngiang2 terus di kepala dan geli aja takut pokoknya gamau liatdan dia ngebuntutin gue dong bangke bgt ga sih gue yg biasa lewat jalan A hrs muter ke jalan B yg lebih jauh pas gue udah ga liat dia dibelakang gue gara2 gue ngebut tbtb di lampu merah ketemu lagi lgsg tancap gas lah gila takut bgt bgt bgtBahkan sampe sekarangpun gue takut dan stress kalo ketemu orang Gatau kenapa Butuh momen nenangin diri lama untuk ketemu orang yg ga gue kenal atau bahkan yg gue kenal Butuh latihan bertahun2 biar bisa pura2 oke Ke dokterpun gue masih takutaku takut dngn smua bnda ap bkl trjadi ap tgh tjadi kat sekeliling aku aku takut dngn diri sndiri hate feeling wanna die rn fmlminum obat kamu jangan sampai sakit ye awas saja kalau besok tidakmasukSaking takutnya sakit yang macammacam selalu berusaha menghindari konflik dan mencari ketenangan Tapi sulit sekali ya Saya jadi takut[USERNAME] Kalo aku yg lbih ngeri itu Dompet ilangkalo yg lain mah pling ngerinya cm sesaatnah klo dompet ilang bs galau berkepanjangankrna didlm dompet bkn cm ada duittp Ktp Sim ATM klo ilang kan Gawat bang #semen[USERNAME] min mau nanya misal ada kesalahan buku pajak harusnya ppn tp trnyata pph minyak bumi spt gmbr brikut solusinya gmn [URL]Lu harus tau rasanya sedeket itu sm orang gila takut bgt gua tuh Trs temen gua ternyata denger dia bilang wah gede jg ya pahanya Yalord Aing teh cm mau piknik naha ada geginian Terus akhirnya w nelpon temen pake ngomong seakan akan dia bapak gua dan nyuruh jemput:(Saat aku mendengar suara langkah berjalan di luar jendelajangan lupa jaga kesehatan jangan keseringan begadang makan sayur kalo udah selesai kuliah/sekolah langsunh pulang jangan suka keluyuran ibu khawatir[askMF] Masa aku baru pacaran kemarin tp gaada saling kabarkabaran lg dimana atau mau kemana Chat nya jg random aja Trs aku mau ngabarin dia jg kaya mikir 2x takut dia nya keganggu Wajar ga sih[USERNAME] Takut dosa Serius sebenarnya aku tu ingin kaya temen aku yg menel2 sama pacar nya ini itu Tapi aku lebih takut akn dosa dosa aku aja pas sendiri gini banyak apalagi kalau punya doi yg g punya ikatan apa2Duh beberapa hari ini kok rasanya seneng ya kayak bakal terjadi sesuatu yg menyenangkan Ini kalo realitanya ntr malah kebalikan kan sediiiihhhhYg serem tuh pas ke dapur katanya mau masak Jd berusaha nyalain kompor Kan palaur Trs diajak duduk lg Akhirnya sekitar jam 12an mulai diem ga gratak tangannya Berkat drama india di antv Tapi masih blm nyambung kalo diajak ngomongSerem banget sih yg jualan yg nipunipu Gue bawa duit org dikit aja ga tenang banget ini kalo belum dapet kabar barangnya dapet kaga Ini sampe orderan customer ga di beliin :(Ketika perasaan takut begitu kuat hingga membuatmu merasa gemetar di dalam 💔🌬️ #TremblingFearHilma (temen adek) kmrn main k rumah  curhat mbak aku kok telat lama yaa pdhl kan ini udh mau lebaran kata tmnku kalo minum sangobion sama vitB nanti bisa langsung dapet ya Terus ku blg coba aja kali beruntung hil pdhl mbatin hmm aku kan jg telat bisa ini dicoba [askmf] guys gua mau upload twibbon univ di instagram tapi minder karna univnya swasta takut dipandang remeh dan gak layak buat dipajang diinstagram saltyin aja gpp kokSerem jg ya yg staf nya wanna1 nge dm fansite karena copyright infringement yg actually bener sih tp langsung mematikan fansite culture[USERNAME] huhu iyaaa ini mikir keras banget dan ku jg ga dapet hasil yg sreg di bab 4 tuh mana jumat tuh uprak studi islam dari pagi bisa bisaaa :[USERNAME] Aku gak salah bila mohon pd [USERNAME] segera Perintahkan MENKES utk menambah Ruangan Khusus Sakit Jiwa pd stiap Rmh Sakit Sbab tdk menutup kemungkinan USAI PILPRES stiap Rmh Sakit akan dibanjiri Pasien Sakit Jiwa Tanda2 kearah sanabanyak kendala ini itu  harus masuk semester baru lg keluar uang lagi bukannya nethink tp gue yakin kalo nantinya gue skripsi trs ada banyak hambatan gue bakal dapet pertanyaan2 kayak gt yg bikin ngedown takut bgt gue bakal ngelakuin hal yg sekarang ga pengen terjadiPenyakit hepatitis B 100x lebih infeksius dari HIV/AIDS Duhh serem Dan belum ada obatnyaCoba tanya [USERNAME] apakah market mampu memprediksi kondisi ekonomi kedepan dari kondisi politik saat itu Isu2 pasti sdh ada Entah siapapunkadang aku terasa sesuatu takut takut akan tidak memperoleh yang aku ingini takut akan kehilangan yang aku ada takut akan semuanya berubah sekelip matademi apapun baru aja ngalamin kejadian ini pas gue balik ujian siang2 lagi macet tiba2 ada org gila ini teriak2 disamping gue jelas bgt omongannya kaya cerita dibawah ini spot jantung gue takut bgt sumpahKetika kamu merasa seperti kamu harus melawan rasa takut yang mengganggu ketenangan 🧘\\u200d♂️😰 #RestoringPeaceTerlalu bodoh sekali bila mudah terpengaruh tipu daya setan Bila pun harus membenci cukup sifatnya bukan objeknya Takut kalau tibatiba Allah menyuruh Saya pulang sementara masih ada kebencian dalam hati Saya Saya lebih takut kehilangan Allah daripada apapun termasuk keluargaAku merasa gemetar ketika aku merasakan hembusan dingin di belakangkuBerlajar prosedur bedah sekalian makan sahur ah *buka youtube* *nonton proses bedah dentoalveolar* *ga sanggup makan* *nutup laptop* Udahlah makan aja dulu *makan sambil deg deg an*Peredaran hoax atau kabar bohong di media sosial bisa semakin parah jika dibiarkan Netizen harus ekstra hatihati dalam mengkonsumsi informasi dan menyebarkannya kembali [URL]Mengapa hidup ini ada yang mengatakan kejam Mungkin dia menganggap hidup ini sebagai pertarungan juga arena persaingan Kalau dia berfikir layaknya petani maka hidup ya seperti bercocok tanam ia akan merasa diantara harapan  ketakutanLiv jgn lupa ingetin gue ya kalo gue ngeluh mulu Liv jgn lupa ingetin gue ya kalo positive vibe gue di dunia nyata dah mulai jarang Apalagi yaSebelnya kalo udah anxiety tuh tbtb sakit perut mual panik takut ngerasa sendiri sedih Padahal yang gue hadepin bukan apa apa tapi selalu anxiety duluan knp sih Cape lhoYang harus kita takutkan adalah ketika kita istri dan anak kita nampak auratnya Dan bagaimana hukumnya memasang foto di Media Sosial   #nu #majelisnuruddin8642 #satrionkri #ngajiSetiap waktu bersamamu adalah hal yang paling berharga bagiku dan selalu ada rasa khawatir bagiku takkan lagi bisa seperti ini dimasa mendatang denganmuSetiap masuk lingkungan baru selalu serba salah Takut ga punya temen tapi takut juga kalau punya temen Takut mengecewakanTawuran suporter ini nih yg bikin penikmat bola awam macem takut nonton langsung di stadionBaca cerita [USERNAME] ini emang kacau Niat baca biar tidur malah jadi parno gabisa tidurPertama kali nya komen di ig yg org2 lagi pada debatgils sok iye bgt sih guee Ngeri di nyinyirin balik sama org aja nih woy Pegangan gue cuma #cmiiw ajalah udah (sama Allah juga deng)Deg degan tuh lgsng gua Gua lgsng wa cowo gua kan yagua ngabarin kalo sikring rumah gua kayak ada yg nurununtrs gua takut Eh ternyata cuman ceklis 1 doang Trs gua makin takut tuh ya lampu ga nyala2gada yg bisa gua hubunginnyeberang lewat pelican crossing yang ada di deket aja masih ngeri motor mobil susah ngalah degdegan karna bulan September penetapan calon dan Oktober dimulai kampanye :) oke akan banyak senggol bacok teman jadi musuh kawan jadi lawan makin banyak orang2 bermuka dua Dan akan berlangsung sampai April 2019  Oh Indonesiaku 7 bulan semoga aman aman saja :)saya dok enggan menikah karena lebih mengutamakan karir dan pendidikan terlalu takut dengan namanya rumah tangga takut broken lagiKetika kamu merasa seperti kamu harus melawan bayanganbayangan rasa takut yang mendalam 👤😰 #ChallengingShadows/rlt/ kenapa ya gue kalo ga sengaja kontak mata sama orang (cowo) asing yang ngeliatin gue mulu langsung gue sinisin muka jutek sebenarnya takut diliatin gitu gue di cap cewe sombong ga sih:([askmf] hai ada yang keterima um undip trs pas regist online gbs login gini gak tmn2 ku udh pd bisa login semua jd takutGimana caranya ngehadepin dosen yang dichat terus ngeread doang Padahal responnya penting banget buat gue Gue bingung mau ngapain takut salah langkahKemudian bayangkan ada sesuatu yang berdiri di sana mengamatimu Jelas ritual itulah yang membawa makhluk itu ke sini namun aku sama sekali tak mengerti apa yang terjadi saat itu Pikiranku terlalu dipenuhi oleh rasa bingung dan takutweh kamu memang saya penjahat apa harus di hati2in eh hana saya minta nomer kamu boleh kaga/rlt/ gua sangat amat takut untuk jd diri gua sendiri Bukan berati skrg gua jd org lain tapi lebih menahan diri gua pinginnya lakuin tp gua takut jd gua lakuin B Gua takut org org menjauh lagi hanya karna gua jd diri gua sendiri Gua hrs gimanaApa yang akan kamu lakukan jika ada singa masuk ke rumahmu nyuruh singanya makan kau biar mati kenak makan singa uh ngeri ya anonla h e h epin nanti kamu blan juni ikut tidakpertandingan bulutangkis khusus buat rw saja saya mau ikut tapi nanti saya pasti cewek sendiri :( ky duluArea Alor Gajah masjid tanah jalan nak g pengkalan balak etc tu kalau boleh mmg aku elakkan jalan malam malam Oh seramdan satu si yang pentiiiing banget bukan gue sok beragama baik ya tapi kalo modal bisnis udah dari riba mening jangan coba2 yakin dan pasti bakal abis bis tak bersisa gue udah ngalamin sendiri bener2 plek Allah kasih bukti sesuai firman dan sunnah RasulRasulullahSAW Dan para Sahabat kenapa ga Kaya Padahal AllahSWT bisa memberikan harta yg byk utk merekakarena pas saat mereka berkuasa Karena harta itu sebuah Cobaan bukan sesuatu kebaikan AllahualamAku merasa menahan napas ketika aku menyadari ada yang mencoba membuka pintu kamar[USERNAME] Amin Punten Pa ada issu miring terkait rencana pertemuan (buka bareng) dgn kuwukuwu serta Rt/Rw dikecamatan ciwaringin sore nanti bertempat dirumah bos buah depan RS SumberwarasMomen di mana perasaan takut mengganggu pikiranmu dan memicu kegelisahan 🧠😨 #TriggeringAnxiety[USERNAME] aku beneran nangis tadi pas pulang flo : untung ga sefakultas jadi tempat keluarnya beda terus aku pake kacamata biar dia gakenal gt :( beneran takutAstaghfirullah sepanjang jalur manggarai  jatinegara ternyata masih aja ada petjun2 berkeliaran di bulan puasa Sing sabar shayy sing tahan subhanallah dehh aku aja setop dulu cape di gembyor trs huftMba PPS: Tuh pasti ada apaapa mba Ulfa juga pasti ngerasa ini kok ga ada Sebentar sebentar DIA KENAPA LAGI SIH DARI SENIN GA BERANGKAT :( Bikin khawatir aja TTAgak aneh banget Semalem rokok burhan ketinggalan di dasbor motor trus ga aku apa apain aku taruh lagi trus kan sahur keluar iffa ke motekar eh balik2 gada rokoknya Aneh banget padahal las parkir dimotekar juga gada yg deketin motorMembeli kolak untuk berbuka puasa Biasanya habis tp td tida Mau dibuang sayang mau dibesokin takut basi Teringat kt nyokap siapa tau berkahnya disuapan terakhir Akhirnya dg segenap jiwa raga kuhabiskan kolak tsbJadi ceritanya tadi malem tuh gua dirumah lagi ber 2 doang kan ya sama ade gua Lingkungan rumah gua tuh sepi bngt parahserem deh pokoknya Nah tadi malem sekitar jam 12an tbtb sikring lampu gua tuh kayak ada yg nuruninlangsung mati semua kan tuh yagila takut banget gue kaget gitu gue sampe loncat larinya kaget bat hufh tapi abis diluar gue minta temenin satpam satpam nanya kenapa emang gue bilang pintunya ga bisa dikunci alesan doang gue takut kalo ngomogin langsung soalnya gais hufh ENDKetika kamu merasa seperti kamu harus berhadapan dengan segala hal yang menakutkan di sekitarmu 👁️😱 #FacingTheUnknown@4Y4NKZ [USERNAME] Itu syetan dan iblis aja sampe terbengong bengong baca tweet inimrk aja blm kepikiran goda manusia sampe segitu nya Mmg evolusi manusia ke syetan dan sebaliknya sangat cepat [USERNAME] aku dikasih tau katanya kalbis nanti kayak praktikum() nya kalo gak salah sih di luar negeri / tapi aku takut salah kalo mau coba tanya yang lainNiat awal mau belanja online tapi begitu tau ekspedisi lagi overload dan itu pasti bakalan lama bgt nyampenya mending batal dari pd tiap hari gegana nungguin paketanCoba cari terus siapa tahu ada yang kecebur jatuh  atau terperangkap didalam gua  karena guanya gelap  banjir jd licin bs ajach keplesetAku merasa takut akan bayangan yang tibatiba muncul di dinding kamarPikiranku dipenuhi dengan kegelapan dan rasa takut saat aku berada di ruangan tanpa cahaya[USERNAME] [USERNAME] Tidak disemua tempat kita boleh melaksanakan sholat salah satunya di bangunan yang didirikan untuk kekafiran (salah satunya gereja) Aku berlindung kepada ALLAAH SWT dari godaan setan yang terkutuk [URL]jadi acc aku belom dikasih nomer hp sedangkan temen aku pas mau ngasih nomer hpalah ke suspend permanen jadi aku hrs gmn takut juga jadinyaPikiranku penuh dengan bayangan yang menakutkan setiap kali aku berada di tempat yang gelapRokok itu candu bukan berarti tidak bisa berhenti karna nyatanya saya juga bisa berhenti dengan kesadaran penuh Tapi sulit Akan lebih mudah mencegah si calon perokok daripada menasehati si keras kepala yang terlanjur memuja dan menghamba pada asap rokokGempa di Lombok belum berhenti Setidaknya sudah dua ratusan lebih terjadi gempa susulan sejak pagi kemarin Trus aku bayangin gimana rasanya jadi rangorang yg ada di sana sekarang Pasti gak nyenyak tidurnya karna cemasKemaren pembagian nilai uts Takut bener gue ga bisa imbangin pas uas Kampus gue seremYa gue takut rasa yang dulu bakal balik lagi Bahkan takut kalo luka yang dulu Dadang beri bakal jadi tambah besar Gue gak mau Dadang sering ajak ketemu gue tolak Dadang sering izin pengen datang lagi ke rumah gue tolak Gue gak mau sakit kedua kalinya[Idm] gimana sih cara halusnya utk bilang ke teman bahwa dia itu toxic Aku takut dia sakit hati kalau aku kasarin #TeenChoice #ChoiceFandom #BTSARMY [USERNAME]Selalu takut kalo private chat ke dosen Takut kesalahan beberapa tahun lalu keulang Salah kirim selfi ke dosen niatnya buat gendakan q malah kekirim ke dosen: posenya gabanget pun mecucu mecucu minta dikasih nilai C bgt pokoknya[askmf] klen yg kulitnya normal skincarenya byk ga si :( aku pgn ngejaga kulit supaya bersih tp takut knp2 klo macem2 trs masi kecil jg wkwk :(Sulitnya menetapkan Calon Wapresnya Jokowi di Pilpres 2019 salah satunya disebabkan gemuknya partai koalisi yang mengusung petahana Sehingga sikap kehatihatian agar tidak ada yang terluka dari partai pengusung harus tetap dijaga #Pilpres2019 #Pilpres #Jokowi #ParpolPikiranku dipenuhi oleh perasaan takut akan apa yang mungkin terjadi[USERNAME] Laut juga Taukan gimana konconya hiu megalodon ternyata masih banyak yang idup dengan visualisasi yang lebih creepy daripada setan jenis apapun Merinding w liat gambarnya doang:(Aku merasa seperti ada yang mengintai di dalam lemari ketika aku membuka pintunyaNah ini dia Aku dari awal ngeliat step 424 juga udah heran Gelas aja kalo dicelup ke air panas sama air dingin bergantian bisa pecah gimana kulit wajah Udah ngeri duluan jadi aku gapernah nyoba 424 iniSaat angin berdesir kerasMomen di mana perasaan takut mengacaukan pikiranmu dan mengganggu kenyamanan 🧠😨 #DisturbingThoughts[USERNAME] Waktu sd bada isya pulang ngaji berlima sama tementemen dipertigaan tibatiba ada ibuibu pake baju putih panjang mukanya ketutupan rambut panjang dan lagi gendong bayi Mau disamperin pas udah setengah jalan kita balik lagi karena takut agKetika kamu merasa seperti kamu hanya bisa merenungkan tentang segala hal yang bisa salah terjadi 💭😱 #WorstCaseScenarioDr dulu kalo pny peliharaan dirumah selalu deg deg bangeeet kalo dia lg mls makan takut kenapa napa terus sakit gue nya jd ikutan stress kalo gn kanMas [USERNAME] mau nanya nih apakah dengan cara jatuh cinta lagi memulai lagi dari awal perkenalan dengan org baru akan membuat hati yang dulu sakit akan sembuh[Idm] My masa gua tadi ketemu tmn SD yg pas SD ngejar gua dan ngasih surat tiap minggunya asdfghjkl bgt gk tau knp ngerasa takut gua :v hadeuh jaman SD ngerti apa coba :v4 Takut Takut nanti kalo diputusin gimana Kalo diselingkuhin gimana Kalo diporotin gimana Kalo malah diajak ke KUA gimana Gimanaaa GIMANAA Ya pokok nya banyak lah ketakutan ketakutan lainnyaGua ngeri aja gitu pas berbela sungkawa niat hati mengirimkan emot sedih tapi yg dipencet malah emot ketawa terbahak bahakKalo ada yang menganggap big beauty terus kami mikir big awal mula berbagai penyakit Sahsah aja lah Kalo tersinggung janganjangan emang ga yakin sama kepercayaannya Mau setuju tapi udah terlanjurLebih takut ditinggal mati sama orang2 tersayang sihyaudah kalo emang belum berani potong rambut pendek ya nanti aja kalo emang udah yakin dan bisa nyaman Selamat beristirahat jangan lupa berdoa Tidur yg nyenyak  mimpi yg indah Good night citKenapa ya akhri akhir ini w lagi takut mati dan di tinggal matikabar terakhir dari si timi dia ga berani pulang dan tidur di serambi masjid trauma dengan diri yang tercampakan oleh sang pemilikLindungilah rakyat Ind dari penguasa yg dzalim ya Alloh penguasa semestakami yakin Engkau pasti akan menghancurkan org2 yg dzalim [URL]penularan secara vertikal ada 95% waduh serem banget yamakanya disarankan ibu hamil harus terus menjaga bayinya dan secara horizontal ada 5%[USERNAME] Aku gak salah bila mohon pd [USERNAME] segera Perintahkan MENKES utk menambah Ruangan Khusus Sakit Jiwa pd stiap Rmh Sakit Sbab tdk menutup kemungkinan USAI PILPRES stiap Rmh Sakit akan dibanjiri Pasien Sakit Jiwa Tanda2 kearah saSelain pocong aku seram juga dgn hantu merangkak/mengesot ni Selalu bayang tgh naik tangga tetiba natang ni kejar Setan betul [URL]Ke dokter kandungan aja beb kalau takut kenapa sebelum terlambat aja soalnya tiap orang beda penyebab nya ada yg karna hormon ada yg lainSebenernya bos yang suka nanya karyawannya udah punya pacar mbak sampe detail itu tuh tujuannya apa ya Deg degan w jawabnya takut ngaruh ke kerjaan w Dulu di kantor lama juga gitu bosnya Tapi ya gik percaya sama aku pasti kalo suami dan keluarga suami kita pemikiran nya beda sama kita pasti kita dianggep pemberontak Karna apa apa kan harus nurut suami[USERNAME] Anjay serem baca replyannya Dulu gue daftarnya Tekkim karena suka kimia tapi gk lolos Untung nyasar ke Farmasi fisikanya gak begitu banyakBiasa di negeri orang taat aturan Pulang ke indonesia sudah 3minggu masih kebingungan Kalau ga jahat bakal di jahatin orang disini mah Bener benerPANTES AJA SEMALEM PAS PULANG DAH BANYAK TNI DENGAN MUKA GERAM Gue jadi takut2 gitu pas jalan jalan cepet nyampe kosan lgsg parno nutup semua pintuKetika kamu merasa seperti kamu harus berjuang melawan rasa takut yang datang dari dalam 🌌😰 #FightingInnerFearsegede gitu bisa makan anjing segede gitu mungkin juga bisa makan anak2 kecil kita bisa bilang ularnya kasian karna kita ada ditempat aman coba kalo kita disana Ngeri jugaMomen di mana perasaan takut membuatmu merasa seperti kamu harus melawan kegelapan pikiranmu 🌑😰 #BattlingDarkThoughtsliat abang gua digituin jd gamau punya temen nanti pas kuliah : pdahal niatnya mau banyakin temen tp sekarang jadi takut banget bener2 takut :(gilasih bbrp hari yg lalu gue liat truk gede yg diisi sm 3 org Tmn gue blg kalo truk yg diisi sm 3 orang itu tengahnya mayat Asli merinding bgt mana itu pas maghrib dan gue sendirian coy serem abisJd inget gua dulu pernah di usir dr rumah sama emakgara gara ngilangin taperwer yg satu set kek sejenis rantang Semenjak itu gua ga mau lg deket deket sm taperwer mak gua ngeri di tuduh lg []Bodoh bgt emang gue telat sadar kalo menutup aurat itu ya gitu loh Bodo amat mau lo rumah lo sendiri krn bisa aja ada tamu non mahram dateng Atau tiba2 sepupu laki2 datengalergi apa coba Kok jd bintikbintik gini Kata uda karena makan ikan tuna Apa karena cuaca yg terlalu panas kali yaa uucchhh tersiksa kena garukankalo gua sih karna trauma gua sering digodain banci dijalan tangan gua pernah dipegang dia tytyd gua hampir dipegang pas distasiun lg anter mantan gua pulang dulu ada banci godain ngajak nganu dikosan wanjayWah saya gak ikuti 3 hari belakangan ini sy sibuk melayani umat (Hindu) Bagus jg Hindu sebagai agama gak usah dibawa2 ke politik Umatnya secara pribadi boleh aja main politik [URL]Hati saya berdegup kencang ketika saya mendengar suara aneh di tengah malamKalo ada luka terbuka jg lbh gede tuh peluang menularnya misal luka terbuka karena dicukur nah alat cukurnya kan gak pernah di steril  ekok serem yak #DeteksiDiniHepatitis [USERNAME][USERNAME] Tp karena pengalamanku yg minim takut orang2 udah ga percaya duluan Udah semester atas trus pas oprec kan biasanya yg wawancara udah anak 2016 angkata bawah Suka minder gt :( Waah ya udah sekalian mutualan yuu aku butuh positive people sepSaat aku merasa seperti ada hawa dingin melewati tubuhkubaru kmrn ngerasain namanya takut keluar malem pas mau jemput ira sampe ngomong sama diri sendiri mendingan ketemu hantu dah dan dijalan udah mau nangis aja knp bisa setakut itu krn tau daerah yg dilewatin lagi rawanMomen di mana perasaan takut membuatmu merasa seperti kamu berada di dunia yang penuh dengan ancaman 🌍😨 #WorldOfThreatsGua nonton azab yang di Indosiar tetiba gua jadi takut nikah Ya gila sih  asalnya tuh pemeran utama cowoknya shoolih banget tapi terus berubah jadi tukang maksiat :(([USERNAME] Pengen banget icip icip dikit soal pasar modal Tapi masih belum berani efek ilmunya blm banyak kali ya Takut malah jatohnya jadi donasi bukan investasi hahahaKalau di lihat kebelakang ternyata sudah 4 tahun terkhir kali benarbenar berjuang sampai titik akhir Dan sekarang untuk memulai lagi kyknya masih malas Atau emang blm bisa membuka pintu yg lama terkunci atau hanya takut saja Yaasudahlah jalani saja hidup iniKetika kamu merasa seperti kamu harus melawan rasa takut yang tumbuh semakin kuat 👊😰 #FightingGrowingFearKemarenan takut melawan monster  monster di kantor baru Tapi ternyata ada yang lebih menakutkan dari mereka dan paling susah untuk dilawan adalah ketakutan diri sendiri untuk mencobaPikiranku penuh dengan skenario buruk saat aku berjalan sendirian di jalanan sepiHonestly penumpang2 kapal manapun selalu nakutin buat aku Bahkan penumpang kapal yg di dpku Paling takut sama penumpang kapal itu sih makanya aku ogah main ke tag sana ehe HorrorKetika kamu merasa seperti kamu harus melawan rasa takut yang semakin membesar 👊😨 #ConqueringGrowingFearKetika kamu merasa seperti kamu harus menemukan cahaya di tengah gelapnya rasa takut 🕯️😱 #SeekingLightLah iya Mphi Serius kk takut liat taehyung jadi psikopat KK siksa suntik obat biar nggak kabur Krn di sana dia suka KK  tapi KK udah punya pacar[USERNAME] Liat lgs sit Gue smp teriakmana gue lg dikamar mandikalo diinget2 serem bet emg wk Trs pas gue tidur jg pernah malem2 ada genderuw* di depan kasur gue tuh gue smp nangis krn dia gamau pergi2masih ditemukan harimau jawa di kampung halaman saya (saksi terpercaya) dengan semakin menurunnya jumlah makanan (kijang yg banyak diburu juga kepemilikan senapan saya kuatir lambat laun akan bergesekan dengan manusia [USERNAME] [USERNAME]Lagian yaallah ini kuliah ditempat biasa aja bayaran pernah nunggak trs sampe jual mobil gatau deh buat apa mana rumahnya pindah2 jdkan w takutMomen di mana perasaan takut merasuki pikiranmu seperti virus yang tak terdeteksi 🧠😨 #UndetectedFearBanyak sebenarnya yg mau saya ceritain Tapi saya takut yg baca jadi tertarik ke sini Terutama perempuan kinda possessive bitch thingsCuman bedanya si emang adek gue suka gt sama bau2 kesehatan jd emang masih agak niat lah Lah gue emang asal aje daptar2 mana aja maklum lah pas itu masih takut kalau ga kuliah tp berasa si kuliah di tmpt yg bukan passion Kesan nya kayak budak nilaiKetika kamu merasa seperti kamu harus melawan gelombang ketakutan yang datang bergulir 🌊😰 #SurgingFear[USERNAME] sebaiknya baca doa terus karena kalo udh mimpi gitu katanya (((katanya))) itu jinnya suka sama kamu hehe serem ya aku jg takut wkwkPas ngerjain thesis hampir tiap hari tertekan Sampai sekarang masih suka gelisah gitu kalo malam2 sebelum tidur sama bangun tidur Kaya ada rasa takut gue lupa melakukan suatu hal atau kelewatan suatu hal Ampe pagi gini kadang jadi gak bisa tidurtapi ngeri sih ya emang akun gede dengan followers ribuan tuh kalo ngetweet yg jelek atau salah dikit yg hujat langsung banyak AKU TAKUT KALIAN UNFOLLOW AKU AJAEh tapi numbuhin brewok juga buat nyenengin diri sendiri sih compliment dari sesama cowok bonus lah Tapi ga dirawat dikit langsung tumbuh liar atau gatel bangetwas2 ketarketir deg2an karena: takut ditolak telat meeting kerjaan blm kelar lupa beli apaan pas disuruh emak beli sesuatutuhan izinkan aku bahagiakan orangtuaku sebelum akhirnya mereka tertidur di peristirahatanya yang terakhir : )Jam 9 malem sebioskop cuma berdua doank pas lampulampu mulai dimatiin eee ujukujuk teaser coming soonnya film horor Ketika Iblis Menjemput Laaahhh Ya jadi degdeg serrrGw jadi nyebayangin orang yg bangunin sahur dimasjid keceplosan  Shooowershower shower bapakbapak ibukibuk  [URL]Home visit pasien ternyata pasiennya sdh meninngal Tanda pasti kematian scra medis sdh diperiksa   Kalau udah begini baru inget inget klw kematian sedeket ituKalo aku sendiri waktu pertama kali sampe ke guest housenya emang agak takut Tapi kalo aku sih bukan ke arah karena bisa ngedeteksi ada apa2 cuma karena orangnya memang penakut wkwk Apalagi guest housenya dalam keadaan sepi dan kosongUntuk kesekian kalinya getaran itu terasa lagi walopun di tempat kami tidak terdampak gempa akan tetapi getaran2 iru cukup membuat panik semua masyarakat sehingga harus tidur di luar n tidur di lapanganabang gue takut tetiba ditelp sm pihak RS ato apa kali yak scr doctag gue cantumin nama  telp dia jd klo kenapa2 sm gue dia yg bakal di telpKetika kamu merasa seperti kamu terancam oleh rasa takut yang sulit dijelaskan 🔪😨 #UnexplainedThreatPisau bermata dua Bisa menikam orang lain dan diri sendiri Atau bahkan kedua2nya menikam diri sendiri bisa juga kedua2nya menikam orang lain[USERNAME] Itu menurutmu tapi menurutku ini menyeramkan kamu kalo terjadi apa apa disini karna ulah monster itu Gerutunya dengan kesal Ariel tidak mau melihat ke sekitarnya ia hanya nunduk melihat jalan bebatuan yang ada di depannya dia takut unHanya mampu retweet bagi peminat cerita seram tengok je lah Saya penakut Kalau tengok kat wayang ni dengar suara aku sorang je menjerit walaupun tutup mata[USERNAME] [USERNAME] Menurutku si karena lingkungan tempat tinggal juga Yg bully si adek emang anak preman yg bapak dan kakaknya hobi mabokan dan berantem Ngeri ya jadi takut nyekolahin anak di sekolah umumtrus udah tuh jalan kan soalnya diklaksonin mulu ama yg belakang wkwkwkwk pas udh ditempat yg sepi bapak yg kesenggol nungguin masa ya allah sumpah serem banget mukanya kan pertigaan tuh bapak yg kesenggol belok kiri yg nyenggol belok kanan trus teriak2 lgi dong orangnyaSaat aku berada di hutan yang gelapaku cantik loh pacarnya acong jangan ganggu ganggu yaMomen di mana perasaan takut mengacaukan tidurmu meninggalkan kesan yang tak menyenangkan 🌙💤 #NightmaresOfAnxietyDemi Gue ngerasa ga nyaman di kamar gue sendiri di depan pintu kaya ada yang bolak balik gitu :( mau nelp nyokap takut dikatain banci : help helpTakut kelewat magrib jam 5 nyiapin buka (masak beli atau cari tempat buka) pasca buka leyeh leyeh atau ngopi (sc1 punya vietnam kopi terenak imho) pulang jam 11 udah ngantukk bgt goler tapi tak tidur sosmed muter yt twitter 9gag pubg sampai jam 02 smpai bangun set 4Pernah dulu pas pulang ke Banyuwangi bisnya serem kayak gini dan asli nggak bisa merem sama sekali karna takut kalo sewaktuwaktu nabrak [URL][USERNAME] [USERNAME] Sama seperti Yazidi bila negara Yahudi tidak memperkuat dirinya pilihan itu  ganti agama  dibunuh diperbudak atau tersingkir Maka penting bagi Yahudi memperkuat dirinya Suka atau tidak ini survival bg mrk Tp mrk TDKPakdok [USERNAME] ada komentar mengenai efek MSG ke otak Seringkali denger celotehan kalo orang jadi sengklek garagara kakehan micin [URL][USERNAME] kalo gue blm punya apa2 padahal gue pengen bawa cewek gue ke jenjang yg lebih lanjut lebih serius jelas gue minder takut gabisa memenuhi kebutuhan dia secara materi inilah yg bikin gue takut buat menikah endingnyaIntisarinya: jangan main hp samsek digojek geng udah deket rumah tinggal ngesot Gila yah Astagfirullahaladzim orang jaman sekarang tuh ya apa juga dilakuin hikJujur gue takut banget mau ngejalanin ini lagi semakin dekat smkin takut mau nangis aja rasanya gak tau knpa setakut ini kek bertanya2 mulu gue bisa gak ya jalaninnya gue mampu gak yaa apa gue mundur aja apa ini jalan yg terbaik buat gueParno sendiri kalo buka video di twitter Kemarin malem ngelempar hape gegara awal video gambar nissa sabyan pas akhirnya malah hantu yg keluar hhhPatut x aq buka hati aq utk terima org lain Tp aq takut end dia berubah hati Angin x detup2jeng2 Were meant[USERNAME] oo gitu beda kali ya gue malah disuruh soalnya mensnya keluar ngegumpal trs gt jd takut jd kista pas minum pil kb jadi lancar jayaMana adaaaa eh ada ding tapi nggak ah takut disini daerah rawan Kalau keluar malem aja pulangnya dianterin rame2 saking rawannyaGak jamin deh Tapi gemana pak Police [USERNAME]  siap gak kerja tanpa pungli dan sejenisnya Korup pungli itu bagai addicted Sekali nyoba keenakan Nambah lagi deh #generasiantikorupsiIni bener2 bikin tereak balik kanan nangis jejeritan Waktu di rumah mbak di Trihanggo malem2 nyuci lanjut jemur di samping rumah Dan Kayak ada yg siul Padahal gelap Pas diamatin buset Sugus kain mori nya udah kusem mukaknya hitaTiap kali George ketip2 minta minum selalu keinget kejadian di Thailand [USERNAME]kami pake motor sana (bentuknya mirip honda new supra) dan gatau ini mo diisi bensin macem mana dan berapa duit seliternya jgn2 kita ngisinya minyak tanah kan berabe yaSemoga semakin paham dan semakin takut kepada ALLAAH SWT Aku berlindung kepada ALLAAH SWT dari godaan setan yang terkutuk [URL]Momen di mana perasaan takut merasuki mimpimimpi indahmu merusak ketenangan malammu 🌙💤 #NightlyDisturbanceKemarin habis sulam alis 6D dan hari ini terlihat masih ketebalan kaya sincan karna hasil lukanya mengering Biasanya peel setelah 7 hari ntar hasilnya kaya bulu alis alami Semoga ye gak siasia wa nahan sakit sama jauhjauh ke kelapa gading [URL]Dua teman sudah menikah dari dua temen tersebut mereka pindah agama semua Satu muslim ke Kristen dan Hindu ke muslim Semoga saya di beri jodoh yang seiman dan sejalanKemudian mulai nyalahin diri sendiri mulai overthinking mulai ketakutan sendiri mulai cemas stress degdegan parno kena penyakit Gitugitu aja siklus gueSadarlah kita bahwa kita bukan siapasiapa dari sekian banyak manusia yang telah sedang dan akan diciptakan oleh ALLAAH SWT Aku berlindung kepada ALLAAH SWT dari godaan setan yang terkutuk [URL]Melihat Fotonya Saja Bikin Ngeri Apalagi Mengalami Sendiri Merinding Seolah kematian ada di depan mataNah semenjak itu gw mulai ngerasa takut untuk menjalin hubungan lg Gw takut di boongin Sumpah Trauma banget[USERNAME] Nyata black campaign itu ada dan terjadi di negeri ini Miris sekaligus ngeri bila memperoleh jabatan hasil dari fitnah dan bohongHarus cepat2 capcus nicch [URL] Warga Jakarta diperkirakan mulai mudik ke arah Jawa dan Sumatera mulai Jumat 8 Juni 2018Jadi semacam motivasi gitu pengen mengawasi pemilu bener2 dengan jadi pengawas TPS Mengawal suara jangan sampe ada kecurangan Apalagi pilkada di tmarahang ini rawan banget Secara yah calon tunggal gituBaca ini aku jadi takut:( padahal pakaianku seharihari juga udah syari kerudung menutup dada dan selalu pakai rok/rlt/ im ready tomorrow aku cm takut bakal ada hal buruk besok hari aku jg gk punya sahabat yg brng seneng sedih aku jd ngejalanin hari makin takutMemang yang namanya yakin itu kadang bahaya kalo terlalu buruburu (Zarry Hendrik)  Tapi kadang terasa dilema Ibarat orang yang menikah lalu menghadapi KDRT tentu ada trauma besar ketika hendak memulai hubungan baru Begitu jg aku Aku menjadi rendah diri dan trauma mencari pekerjaan baru Mentalku sudah jatuh Aku hari ini tidak lbh dari loser/rlt/ apa perlu pacaran settingan biar ga digangguin mantan terus Asli ngeri aku dia masih upload foto berdua dp ga ganti tolong dong aku kudu gimana[USERNAME] Iya lagi banyak film action nih kemarin setelah Pengabdi Setan bnyk tuh film horror kesel tiap kali liat trailernya sblm film mulai bikin takut kan ku klo nonton sering malem jadi suka parnowkwkwkwkwkMendengar ada suara aneh disekitarnya Jek merinding tadi ada yg ngomong tidak yaatime aku tengok maya karin kat pontianak pon dh buat aku takut makan kat meja makan sbb ada hantu bawah tu munafik 2 [URL]Berat badanku 77kg aku minder aku takut di bully aku takut mereka yg bilang cantik itu langsing bukan C N K Aku juga takut dibilang Gapura Kecamatan #janganbullyaku [URL]Setiap kali aku melihat ke sudut gelap/rlt yang kuliah jurusan sastra inggris kasih tau dong di jurusan itu belajar apa aja Pengen masuk sastra inggris cuman takut ga sesuai sama kemampuan:([USERNAME] [USERNAME] masi bingung gue:(takut nanti ga dapet tiket:(((( kalo jastip takutt tambahannya gede trs takut kena tipu juga:(((Momen di mana perasaan takut membuatmu merasa seperti kamu harus berlari dari ancaman 🏃\\u200d♂️😨 #FleeingThreatPikiranku dipenuhi dengan rasa takut akan apa yang mungkin bersembunyi di dalam kegelapanAh jadi emo anjir ga berasa udah mau jadi mahasiswa aja masih agak cemas dan takut bayangin ke depannya kek gimana lingkungan yg bener2 baru dan orang2 dari berbagai daerah semoga gue bisa ngejalaninnya:(Terus Baca komen2nya pada bilang kalo musik itu haram Dan bla bla Nah disini aku tau Kalo fanatik kan emang gaboleh Tp kalau sekedar suka gitu gimanaAku merasa takut saat aku merasa seperti ada yang menarik kakiku dari bawah tempat tidurAku terlalu takut untuk pulang ke rumah dan memutuskan menghabiskan malam di supermarket itu hingga pagiIh Ngeri Beredar Foto Luna Maya Jadi Suzzanna Bikin Merinding [URL]Aku gak salah bila mohon pd [USERNAME] segera Perintahkan MENKES utk menambah Ruangan Khusus Sakit Jiwa pd stiap Rmh Sakit Sbab tdk menutup kemungkinan USAI PILPRES stiap Rmh Sakit akan dibanjiri Pasien Sakit Jiwa Tanda2 kearah sana itu sdh ada Saat ini banyak yg STRESSsejak kapan saya ngfolow dia dan semenjak kapan saya di folow ini anehKetika perasaan takut membuatmu merasa seperti kamu tenggelam dalam kegelapan yang menakutkan 🌑😱 #SinkingIntoFearAku cuma takut aku terbuat dia kecewa ini peluang terakhir knw him Bila dia rasa kecewa yg teramat dia takkan pandang belakang Dn dari sini pun dapat rasa kan yang aku mmg takut hilang diaMomen di mana perasaan takut mengganggu pikiranmu dan mengusik ketenangan 🧘\\u200d♂️😨 #DisturbingMind{MU} guys aku mau ngecat rambut tp sebelumnya aku blm pernah ngecat rambut mau minta saran warnanya apa ya Tp jangan yg heboh2 aku takut kagetbarusan w mau ke kamar mandi trs sampingnya kan kamar si mbah kan trs dia lagi nyanyi (nadanya doang gapake lirik) lagu jawa dong trs w tanya kan mbah knp belom tidur trs dia ngomong ora usah ndok ora usah ndok berkali kali sambil kek ngusir gitu w takut dong sampe gajadi pipisseru bgt jadi manusia bnyk berhubungan sm manusia yg lain seru sih seruuu tapi kadang2 ngebingungin jg atau jd gaenak atau malah atau atau ya tapi mo gimana kelebihan ngontrol ga baik lepas tangan ga bener sembunyi apalagi yaudahh dijalanin step time ajaLisa semoga aja kamu ga denger berita ini ya kalopun mendengar udah cukup kamu tau aja dan jangan sampai kamu ketemu yanglek bahkan ngeliat sedikit pun jangan Itu bakalan serem bangetEh asli ya gue udh nonton emang serem bgt sih aslinya tuh dia gamau ngebunuh org dia cuman lagi jatuh cinta aja tapi sampe akhir dia gatau kalo ketidaktahuannya dia itu berubah jadi malapetaka HOROR WOYbenar sekali terutama menyebrang di Jalan Margonda Dari kelapa dua  pertigaan Juanda mungkin hanya ada 35 zebra cross Motormobil semuanya ngebut sehingga jadi takut kalau nyebrang Sekalinya nyebrang malah jadi khawatir kendaraan ngerem mendadak[USERNAME] Trend Permintaan pasar begitu Diriku mau sih jadi influencer yang baik karen suka main game pengen influence orang orang untuk beli game original Tapi saya takut ngomong depan kamera :([USERNAME] yah berarti gua dosa dong masalahnya nyokap gua kl nyuruh guaa beli kopi ga ditanyain kmbaliannya yaudah gua inisiatif aja tabungin(:Saat aku mendengar suara pintu yang berderikderik sendiriberdesakanbejubelan di kRL adalah salah satu godaan dalam berpuasaapalagi dpn nya ada wanita cantik sambil ngunyah tahu gejrothehe[USERNAME] Wkwkwk laah aku yg masi menata hati dan menata diri stlh menjombs  uda nyaman jombs malah dikenalin ama masnya ku merasa blm pantas  takut pelarian lg entah pelarianku yg masi blm moveon dari mantan (cowo idamanku) entah pelariaSaat aku melihat bayangan bergerak di sudut matakuKetika kamu merasa seperti kamu harus menemukan cahaya di tengah hutan ketakutanmu 🔦😨 #SeekingLightInTheDarkKetika kamu merasa seperti kamu harus melawan perasaan takut yang terus menyerang 👊😨 #FightingRelentlessFearGue pernah baca review film nya dimana yaa pokoknya barengan sama review film nya dewi persik wkwkwk serem anjir gue bacanya gak mau nonton ak cupu [URL][USERNAME] Yess aku terlalu pemilih dan kriteriaku suka ketinggian gitu terlebih lagi aku bosenan takut aja gitu pas udah nikah tau tau bosen :(Kepastian libur krn ikut tanggalan Bank Indonesia Jd kalo BI libur yaa ikut libur Kalo dipaksain masuk nanti bingung sendiri kerjanya gimanaKetika kamu merasa seperti kamu harus berhadapan dengan monster rasa takut yang menghantui malammu 👾😨 #NightlyMonstersPas gempa jogja pernah ngerasain capek banget tapi gabisa tidur karena waswas gempa susulan yang kedengeran cuma suara ambulance sepanjang malam gak berhenti hujan deres petir kenceng sampek geter semua dikira gempadilema mau testing prod version (di prod environment) mesti downtime karena kalo kagak takut ganggu operasional aplikasi eksisting yg masih jalan selain itu juga bikin data kotorTapi eug takut kalo dia nanti merasa tdk mau ditemani trs menjauh trs nyindir trs ku tak enak lagi dan malas ngampus dan macammacam akibat[USERNAME] kyk gk mkin harga segitu omgw yakin di range 15jt an cuma gk lebih dr 20 habis liat reviewnya gadgetindan peminatnya mkin hanya sedikitlagian game2 mobile gk bnyak jg yg bagus masih bs dihitung jariorg normal mending beli PS4 atau buildDi pesentren ini juga w dapat experience dengan makhluk ghaib Bentukannya masih orang tapi matanya naujubillah serem pengliatan langsung kuning Kepala sakit berat Ternyata w ketindisan im interested horror moviegue yg pagi2 mau naroh baju ke cucian dan liat kepala bayi nongol dr pintu gudang (ini keknya gue ngelantur abisnya gue takut bgt waktu itu)Pikirkan bagaimana kondisi kita di akhirat nanti Perbanyak bekal untuk akhirat Atau kita lebih suka amalan kita dibalas di dunia Apakah kenikmatan dunia sudah menjadi tujuan utama[USERNAME] Ohh begitu  Takut ada masalah soalnya takut didenda yg dikarenakan rasa ketidak tauanhahahahasatu lagi untuk pph cabang tetap dilapor dgn NPWP cabang ya kan hanya PPN yg dipusatkan benar kan ya pph nya tetap lapor dgn NPWP cabPikiranku penuh dengan rasa takut akan suarasuara aneh di tengah malamIya mba netijen IG horor soalnya mainnya agak frontal ga cocok dikit bully Pokoknya ga sepaham sama mereka itu dosa bangetTgl 30 Juni kemaren udah degdegan aja pengumuman dospem ampe skrgpun masih ngawangpulang sudah ah jakarta keras men kalau sudah soreGapaham tiap ditempat umum terus sendirian kaya takut aja tiap ada cowocowo yg deketin padahal cuma nanya basabasi atau menyapa atau bilang assalamualaikum Aing degdegan setengah mati ya AllahDunia maya tadi liat di IG ngeri euy videonya mana yang ngedamprat ceweknya badannya gede gempal yg diseruduk g bisa ngelawanEh nganu kalau kita ditelpon orang yg mau nipu bisa gak sih kita laporin polisi berdasarkan nomor telpon dia Kan tiap nomor sekarang udah teregisterasi ya Terus bakal ditindaklanjuti gak ya Maksudnya tuh biar orgnya ditangkap dan gak makan korbanBuat teman teman yang kuliah di bidang kesehatan pernah ga sih kalian ngerasa insecure sama masa depan Contohnya gini: gue kadang ngerasa gitu apakah nanti dimasa depan gue akan menjadi dokter yg capableIya kalo kita belum lulus terus ada begituan ngeri anjir Apalagi ditanya soal kimia fisika matematikaKetika kamu merasa seperti kamu terperangkap dalam kegelapan pikiran yang dipenuhi rasa takut 🌑😰 #DarkThoughtsTungkai itu gemetaran bukan main Duduk hatihati jangan sampai peluh berjatuhan Berhadapan dengan atasan satu kelompok mafia buat dia hampir gilaJangan di Viralkan ntar OPOSISI yang biasa nyinyir kejang2 sakit jantung Kalau sakit Hatinya memang sdh Kronis sulit untuk disembuhkanKemarin udah jalan mau ngampus tiba2 sakit perut bulanan Pulang deh daripada galfok kan Ternyata udah penuh aja tapi sakitnya gak parah kayak biasa Gara2 itu mungkin hari ini masih agak nyeri aja plus serangan nervous untuk agenda besok Gatenang euy[USERNAME] Pasti mimpi kali item ya om Emang serem sih apalagi dipakein jaring Ga kebayang mahkluk apa yg tiba2 akan nongol karena tambah pekatTadi lagi asik ngobrol sama tementemen SMA terus terbersit di pikiran sendiri gimana ya aku nanti di alam kubur temantemanku ini kan hanya fana serem banget pikiranku iniItu serem bgt lho sampe berdarah takutnya extention km banyak bakteri Tp asli deh aku pake extention tuh emg gatel bgt jadinya matabener juga sih di tempat gw ada 3 gereja belum pernah gw lihat adain imunisasi utk anakanak mereka dan di kelenteng pun juga sama kagak ada juga Ngeri banget Depopulasi [URL]W blg ke bude w bahwa w sangat takut Lalu diusirlah kucing2 itu Dan di luar rumah sepupu w sdh siap menggendong si kucing W hanya bisa nganga dan membatin yaAllah semoga masa depanku tidak hrs berhubungan dgn kucingkok saya yg dipilih sihh takut memalukan univ walaupun 1 kampus terdiri dari 10 orang dan tdk sendiri tapi kan ini lawannya mahasiswa seluruh indonesia ya kalii borMomen di mana perasaan takut merasuki mimpimimpi malammu membawa ketidakpastian 🌙💤 #UncertainDreamsbangun tidur bgt cek handphone dapet pergantian schedule klo besok harus tugas terbang ke china langsung meleeekk huaaa kok baru ini gue takut mau tugas terbang[USERNAME] Gak pernah dan gak akan pernah percaya sama aplikasi macem itu Kayak yang baca artikel terus dapet duit juga Itu kita masukin data pribadi dan no rek juga kan Bahaya gak sih Jangan mudah tergiur sama halhal gini dehMomen di mana perasaan takut membuatmu merasa seperti kamu terjebak dalam labirin kegelapan 🔄😨 #LostInDarknessq takut nanti banding2ngin antara satu dengan yg laincz q tau gmn sifat masing2 org sna klau sampai itu terjadi jgn slhkan q klau tak bawa pergiliat vlive kemaren2 megang hp jae terus hari ini jae megang hp serem ga kalo screennya locked terus mereka bisa buka lock hp satu sama lain pake fingerprint serem lahDan pas di jalan tiap waktu aku nengok ke belakang Masih ada mobil mereka Pas udh nyampe surabaya tbtb mobil mereka udh ga keliatan :( aku takut bgt mereka kenapa2 :(Trauma penyakit almarhum kakak gue masih sangat besar di gue Paling gabisa ngeliat ada orang yang sakit di sekitar gue apalagi orang terdekat gue Rasanya mau meledak[USERNAME] [USERNAME] [USERNAME] [USERNAME] jadi kalau misalnya gagal di tinggi badan tetep bisa dialihin ke prodi lain mohon penjelasannya soalnya degdegan dari kemaren hahaKetika kamu merasa seperti kamu harus berhadapan dengan kegelapan ketakutan yang mendalam 🌑😰 #FacingDarknessKetika kamu merasa seperti kamu harus berhadapan dengan segala ketidakpastian yang menghantui ❓😰 #FacingUncertaintyHm Kadang kalau analisis takut kebablasan halu karena aku lelah menduga duga soal soonhoon padahal mah aslinya bisa aja hanya imajinasikuCelakanya kamar hotel dan tiket yang tak terjual tersebut mengandung fixed cost yang relatif sama Untuk airlines pesawat akan menghabiskan bahan bakar yang hampir sama baik kursi di pesawat tersebut kosong/ diisi penumpang #VIWIHotDealsForMiddleEastMomen di mana kamu merasa seperti kamu terperangkap dalam labirin kecemasan yang tak kunjung berakhir 🔄😰 #EndlessAnxietydi kantor baru ditantang bikin marketing plan dan harus bisa bikin cobranding sama bank biru takut ga bisa belum tau gimana strateginya dan gue udah kepalang resign di kantor sekarangMenurut Cak Nun orang yang tak percaya akhirat logisnya tak percaya Allah Secara syari dia kafir Tapi Cak Nun tak mau bilang Mega kafir tapi dia orang yang tak pahamSaat aku melihat bayangan yang aneh di lantaiLAGI TEGANG NONTON JURNALRISA TAU TAU ADA BUNYI GRASAK GRUSUK DARI JENDELA BIKIN PARNO AJAAnjrittt serem sendiri Td pas pulng kantor krna jarak kantor ke rumah naik motor kuranglebih 50menitan Dri pd ngantuk suka nya ngomong sendiri atau sok2an lg ngobrol sama siapa gtu (jng bilang saya gila obat ngantuk saat nyetir) Nah tema hari ini comeback ftislandgara2 pernah baca orang ditelp cuma ditanya benar ini dengan (sebut nama yg ditelp) dan si penerima jawab iya abis itu ditutup telpnya sekarang tiap angkat tlp dr nomor ga dikenal selalu balik nanya dr siapa perlu apa sebelum jawab nama gue bener yg dia sebut ngeri cuy[USERNAME] [USERNAME] [USERNAME] Gw lebih khawatir lg kalo Ahok jd jurkamnya Jokowi bro Nemo movement malah berbalik jd ikon punya Jokowi Persis kejadian 212 yg jd panggung JkwUdah dinasehatin suruh buka hati ke cowo Pelan pelan aja kata mereka Jangan cuek bgt Belom nemu yg cocok gimana dong Lagian aku lg seneng gini Liat yg pacaran emg pengen Tapi pas liat mereka berantem jd malesPIDATO RETAK sementara hanya kurang tujuh detik lampu merah sudah tak sabar ingin ku tebas rejeki baru sepanjang jogja dan jakarta tapi kesalahan selalu relovan jika bunyi tik tok somay berselisiban dengan truktruk pertamina[USERNAME] Iya soalnya dia sepolos ituuuu jadi kalo dia ada ngelive atau muncul di suatu acara atau apa aku yang degdegan sendiri takut dia salah di mata netijen :( abisnya netijen serem banget kalo udah ngehujat kasian dianya terlalu soft buat kejamnyaKetika kamu merasa seperti kamu harus berjuang melawan rasa takut yang tersembunyi 👊😰 #FightingHiddenFearTAMSIL ISLAM NUSANTARA Karena kau cuma tiang yang dipancang tergesagesa kemarin sore dan pangkalmu cuma dangkaldangkal saja ditanam maka engkau jadi takut setengah mati pada angin Bahkan semilir yang segar pun kau caci dan kau kutukiAku beberapa hari yang lalu habis isya ketiduran kan ya Bangunbangun kok nggak bisa gerak Ketindihan kalau kata orang Serem banget dehSelama mreka di dlem kmr ak suruh pacarku bwa tmennya yg bisa berurusan dgn hal ghaib jg tuh Selama di dlem kamar yg ak dgr itu cinta teriak2 ketawa2 kunti dan mengerang keras gt Itu berlangsung hampir sejaman #memetwitGa biasa bahkan gapernah naik ojol di salah satu st hampir aja bermasalah disamperin opang Untung gue dan si mas ojol (ganteng) masih dijaga sama Allah Ngeri banget sih[USERNAME] Lagi main di rumah temen tuh Pas pipis liat cd udah merah gitu Langsung izin pulang bilangnya mendadak sakit Pas sampe rumah bilang itukakak berdarah mah Takut Soalnya emang pas main jatuh Pas diliat dibilang mens Hue besoknya peBanyak hal yang membuat ku khawatir didunia ini tapi kamulah yang paling aku khawatirkanNgasih tehaer ke keponakan Baju dua biji celana sebiji koko sestel sama jaket sebiji udah lebih setengah juta Pesan: kalo lo belum sanggup secara finansial pikirin lagi punya anaknya#ygl aku takut perasaan ini semakin mendalam jika kita terus bersama terlebih semenjak aku tau ada hati lain yang menunggumu juga hyung Aku semakin takut [URL]Setiap orang pasti ada masalah Masalah nya berbeda beda asalkan kita mampu mengatasi masalah itu sendiri Tapi masalah yang aku hadapi sulit untuk diatasi sendiri Bingung resah [URL][USERNAME] Takut dikira fitnah tp emang bener adanya huhu yaudah lah ga mau macem macem di internet nanti aq diblacklist sama holcim asli:(ngeri banget banyak orang jahat di dunia semoga mbavan nanti gede ga jadi kayak gitu jahat terus ngga punya empati mudahmudahan jeleknya mbavan mentok sampe annoying aja jangan sampe jadi jahat amin[USERNAME] Sebenernya aku nggak masalah kalau memperlihatkan isi medsosku time time dgn catatan: apapun risikonya tanggung sendiri :) Tapi kalau tukeran username dan password ada kemungkinan pembajakan nanti aku malasIntelektual Muda baru aja nih ada kasus orang yang naik pesawat tapi dia becanda bawa bom sampe akhirnya bikin orangorang panik #FiestaMaksimum{mu} kalian mandang org yg jerawatan gimana sih aku abis bbrp kali tes univ selalu berakhir gk ngobrol sm siapa siapa soalnya aku takut mereka ga nyaman sama jerawatku aku mau punya tmn tp pikiranku selalu begini tlg sarannya yague pengen banget curhat ke sahabat gue Tapi gue selalu takut kalau suatu saat bakal di bocorin :( gue gak pernah percaya kalau mau curhat rahasia ke sahabat atau orang terdekatKetika lo punya trust issues berlebihan terhadap sesuatu yg berbau cinta dan akhirnya cinta life lo gapernah berjalan mulus karena hanya penuh dengan ketidak percayaanLu gatau anjir rasanya takut sampe gemeteran paralyzed gabisa mikir Gila sih Gua jg ga ngeexpect gua bakal kaya gitu Trs gua sm temen temen gua cm bisa panik barenganGue tipe orang yg penakut banget Kadang kalo di kos sendiri padahal ga ada apa2 tapi gue parno gitu takut dan ngerasa kaya ada seseorang Menurut kalian nih gue harus ngelakuin atau apa nih biar ga jd orang penakut ( Minta di ruqiyah kalo gitu [URL]Itulah knp tiap2 mau nulis inggris selalu cek dulu ke kamus Tp meskipun dah dicek seringnya ku hapus lagi masih takut salah grammarjadi sehari sendirian dirumah lagi dengerin lagu pake speaker eh tbtb mati sendiri pdhl dipake smbil di charge dan biasanya klo low jg ada tandanya gt kan ya serem deh abistu keinget film sabrina itu:))))))))) lalu ada yg blg gini [URL]#ERRORMomen di mana perasaan takut mengacaukan tidurmu merusak kualitas istirahat 🌙💤 #SleepDisruptedmembuka bisnis sendiri apalagi sdh banyak contoh teman2nya yg jatuh tsb Mr B jg ngeri mendengar cerita teman2nya yg sering bertengkar dan cekcok dg istrinya perihal keuangan keluarga apalagi kondisi skrg ini Itu membuatnya semakin ngeri utk resign Itulah bujuk rayu setanBukannya bersimpati aku liat akun kayak gitu malah jadi serem malah jadi takut soalnya videonya dia menghancurkan dengan cara brutal dengan cara pake kampak terus di posting gitu Sedih kali loh liatnya[askmf] guys temenku ada yg nyilet tangannya sendiri Aku takut dia lg depresi atau semacamnya Aku sebagai temennya hrs gimana ya Tapi kita beda kota skrg Apa aku kasih tau ortunya Tapi gaenak juga huhu/rlt guys aku mau nanya Aku bingung aku ketrima upn vj sama un air Aku suka jurusan yg di u pn tp aku anak daerah agak takut di jkt Dan yg un air uda dibayar Mohon sarannyaKetika kamu merasa seperti kamu harus melawan rasa takut yang menghantui dirimu 👊😨 #ConfrontingYourFearKetika kamu merasa seperti kamu harus melawan perasaan takut yang mendalam dalam dirimu 👊😱 #ConqueringInnerFearKetika kamu merasa seperti kamu terjebak dalam jerat rasa takut yang tibatiba muncul 🕷️😰 #CaughtInFearMaaf prof bukan cuman takut ditelanjangi jauhi korupsi kerna ITU DOSA bagi yg masih punya iman takutlah kepada Allah Yang Maha MengetahuiAkhirnya kita langsung pada bingung saling tataptatapan muka gitu Merinding dan pastinya takut bangeeeeeettt Akhirnya ga pikir panjang lariiiiiiii dah kita semuaDri pgi ngerasain sakit perut kirain mau haid udh beli kiranti pas di cek malah kaga ada plis atulah haid skrg aja biar bisa ikut solat iedBu [USERNAME] Pak [USERNAME] Ini tdk ada seri kelihatan photo copyan dipotongiNilainya sih kcl tp potensi pendapatan daerah hilang [URL]Hidup adalah petualangan yang penuh misteri itu sebabnya semua manusia memiliki rasa takut dan kuatir saat menjalaninya hanya bersama Yesus segala ketakutan menjadi hilangMomen di mana kamu merasa seperti kamu harus melawan monstermonster dalam pikiranmu sendiri 👹😰 #FightingInnerDemonsSama kaaakpas liat ibu bumn auranya agak bedaa jd takut ke depannya gmn semoga yg jahat segera lenyap dan banyak muncul tokoh2 yg bener2 berjuang buat negaraSaat kita lagi euphoria gitu si bapak bilang Kalian ini tukang bikin masalah pake nada bapak2 yg habis marahin anaknya krn minta jajan tp tetep dibeliin Kebapakan banget pokoknya Kita cuma ketawa gugup Lalu temen sempet keceplosan maaf bapak kita sebenernya takutKetika kamu merasa seperti kamu harus menavigasi loronglorong kegelapan rasa takut 🌑😱 #NavigatingDarknessEntah kenapa gue ngeri gitu sama laut lepas yg ditengah gitu terhampar luas banget aer doang ngeri abiiiss dah Ga ngerti itu phobia atau bukan tapi gue ga pernah ada trauma sama laut lepas Aneh tapi ngeri asliLagi tiduran sambil main hp tiba2 kasur kok goyang Karna malam ini tidur sendiri di kamar yg blm beradaptasi sama penghuni kamarnya jadinya aku ngerasa takut dan berdoa dan baca ayat2 Kirain ada makhluk mau gangguin tidurkuKetika kamu merasa seperti kamu harus melawan rasa takut yang terus menerus menghantui 👊😰 #FightingPersistentFearTAPI ITU TAKUT WOY sumpah beneran sampe paralyzed Gemeteran Gabisa ngapa ngapain dan gabisa mikir Temen temen gua pada bilang kenapa lu galari Lari anjir malah diem disitu gua kl jadi lu udh lari dah well said thing you Tp lu gatau rasanya[USERNAME] Sukses Tim Ombudsman RI dalam segala hal dan mohon kebenaran fakta ditindak lanjuti dengan serius dalam Tempo sesingkat2nya serta tidak menjadikan banyaknya permasalahan membuat menunggu lama sehingga seolah2 mirip dengan penundaan berlaruIni karena deket2 masa pengenalan kampus kan rame grup gue terus gue jadi takut sendiri denger notif grup atau geter masuk pesan Ga tau kenapa huhugue yg dulu bingung knp org bisa trauma berkepanjangan skrg baru sadar setelah ngerasain sendiri kita ga speak kdg krn takut dibilang lebay lah boong lah bla bla ngatasin traumanya aja udh susah tmbh lg di judge org lain jd mending diemOoh Allah  Kami hanyalah manusia yang dangkal pemikiran fakir terhadap ilmu sehingga merasa sok tau Ampuni sikap kami atas setiap kehendak mu sehingga [URL]Ketika kamu merasa seperti kamu harus berusaha keras untuk menyingkirkan semua ketakutan yang mengganggu 👊😰 #BanishingFearsKadang alasanku jadi penyimak abadi di grup chat ya cuma takut terabaikan karna diabaikan kamu seorang saja sudah sakit apalagi diabaikan sama semua orang yang ada di grup ituApa aku tak merepotkanmu sensei tanyanya khawatir Hifumi pun mengambil sandal lalu memakainya masih sedikit kebesaran tapi tak apa Toh hanya sandal rumahMomen di mana perasaan takut mengganggu kenyamananmu membuatmu terjaga di tengah malam 🌃😨 #DisturbingFearSejak saat itu kamar ku nggak ku kasih kursi (biar si doi ngga duduk dikursi belajarku) Kalo tidur lampu harus nyala karena ya gitu takut kalo tiba2 si doi muncul pas remang2 gituDi logika aja gini sblm2nya gua dan temen2 gua ga pernah deket2 kamar itu ga sampe ini setan nongol anjir Gara2 si abang jadi nongol itu setan gua takut[USERNAME] libur tapi ini tugas dikumpulin senin aq takut kalo tida selesai ps sekali lagi ngirim foto yoongi yang macem gituan AQ BLOCK pss ENERGY PICT DJKDDJDLDL [URL]Udah dibilang kan semakin kesini makin pd khawatir sama votenya trainees udh semakin bagus jd pd bingung mau vote siapa kecuali yg dr awal emg udh jd fans trainee tsb Ngga bisa ketebak yg bakal debut siapaGatau sejak kapan tiap dengerin kucing ngeong sama anjing melolong malem2 selalu ngebayangin ada sesuatu di luar  dan bikin gaberani bangunSaat sendiri hanya saya yang tau dan mungkin barubaru ini saya rasakan yg sebenarnya saya alami disana Tertekan ya saya tertekan disana Malu takut merasa bodoh[USERNAME] Tapi emang jadi keeengganan utk memulai interaksi yg baru ataupun kembali berinteraksi dgn yg sobat lama Yg baru nanti takut dia ngecounter semua Yg lama takutnya udah berubah  jd counter total dari yg dulu :((guys aku lagi deg degan parah takut ga bisa ambil 24sks smt ini udah tinggal 1 matkul lg yg mau keluar tapi aku ga yakin soalnya ngerasa zonk bgt dosen sm uasnya biar ga takut gimana ya kepikiran trs ga enakAkutu pengen ngeluh tapi takut gitu karena ya takut dikatain ga bersyukur ampe sempet dinyinyirin kerjaanku cuma curhat sama marah2 tp gmn yahidup banyak banget persimpangannya bingung harus ke arah mana di satu sisi pengen hidup yang bebas tapi di sisi lain kepikiran kalo selamanya cuma mau bebas bisa jadi orang gakBaru sekali2nya komen pendapat di di akun kpop2 gitu yg ada btsnya terus langsung diserang netizen2 yg tiba2 menyeramkan Wagelaseh wkwkw netizen emang menyeramkan ternyata wkwkwKetika kamu merasa seperti kamu harus berhadapan dengan segala ketidakpastian yang mengintai ❓😱 #ConfrontingUncertaintyKetika saat ada seorang cowok mulai sering menelponmu atau bahkan datang kerumah untuk menemuimu papa akan memasang wajah paling cool sedunia Papa sesekali menguping atau mengintip saat kamu sedang ngobrol berdua diruang tamuaku takut acc ke suspend atuh lah jangan sampe kek ini acc pernah ke suspend kl ke suspend lagi masuk ke kategori suspend permanen[USERNAME] mlm pak td di sekitaran flyover tanjung barat arah ragunan ad segerombolan anak muda sepertinya mau SOTR pak mohon di tindak pak terimakasihMomen di mana perasaan takut membentuk bayangan mengerikan yang sulit untuk dihilangkan 👤😨 #SinisterShadowsMomen di mana perasaan takut mengganggu kedamaian batinmu merusak ketenangan 🧘\\u200d♀️😨 #InnerDisturbanceMomen di mana perasaan takut mengacaukan ketenangan batinmu meninggalkan kekacauan 🧘\\u200d♂️😨 #InnerTurmoilTapi kalo ditelisik lagiya anjir harus siap ini itu bebet bobot bibit apanyalah kan sulit Lulus kuliah aje belomanmikirin gituanterlalu visioner bungPikiranku penuh dengan rasa takut akan apa yang mungkin muncul di balik setiap sudutSetiap langkahku terasa berat karena rasa takut memenuhi hatikuBaca2 tentang vaksin di akun ini kok serem kali yaa Ayuka vaksin terus sesuai jadwal padahal Tapi kalo kandungan vaksin semenyeramkan yg dijabarkan di akun ini kok jg Tega kali orang2 di belakang [URL][USERNAME] jujur iya aku takut soalnya aku takut keciduk pas naik/turun dari mobil di suatu tempat :))) om aku driver ojol takutnya beliau liat :)))Ketika kamu merasa seperti kamu harus berhadapan dengan monster rasa takut yang tak terlihat 🦄😨 #InvisibleMonstersKetika sudah pukul 2350 kami sudah capek dan ingin pulang karena sudah mulai ada rasa takut di hati kami masingmasing[AskMF] jadi aku ini punya ganglion ditangan deket banget urat nadi:( awalnya aku kira tulang kegeser eh pas cari tau digugel itu tumor ganglion Aku jadi takut Ada yg pernah kek gini ga Mau tanya dong:(Kok banyak yaa di kabupaten w anak muda yg mendaftar caleg apa mereka bisa mewakili aspirasi rakyat padahal tempat nongkrongnya di cafe/restoran mewah bukan warung di tengah kampungAku merasa seperti matamata tak terlihat selalu mengawasi setiap langkahkudek saya cuma takut perasaan saya akan melebihi batas sebagai kakak kelas berhenti ya sekalipun alasan kamu mengabari saya adalah karena bosanMomen di mana perasaan takut membuatmu merasa seperti kamu harus menavigasi jalan yang tidak jelas 🌄😰 #NavigatingUncertaintyNjirrr kl udh memasuki daerah rumah ada motor dibelakang lgsg ngebut gabrani liat spion Kecepatan menjadi sangat kencang fly heart explode bcz degdegankejadian malam ini pulang jam 0025 langsung ganti baju terus mau cuci muka pas baru selesai cuci muka di kmd pas lagi handukin muka tbtb ada suara tolong dibelakang aku persis ini udah terjadi beberapa kali sesring itu kirakira ada apa ya serem bgt lamalama keganggu jugaTrs pas udh ampe staisun nya lg nih beliau marah2 dong krn gue pake gopay Yha gmn yak suka2 w atuhlah ya maw payment apa Krn w takut w lgsg kabur aja Msk ke stasiun nyajadi inget dulu pernah lg naik mobil mama yg nyetir gue duduk di sampingnya terus lewat jalan kecil gitu kan sempit ya terus gue buka kaca gitu soalnya di kiri ada mas2 lagi berdiri namanya jalan kecil ya gua takut dia keserempet dongTidak disemua tempat kita boleh melaksanakan sholat salah satunya di bangunan yang didirikan untuk kekafiran (salah satunya gereja) Aku berlindung kepada ALLAAH SWT dari godaan setan yang terkutukKenapa ya lg parnoan Aku udh gede Masih aja halu halu takut sitin gitu Kebayang bayang Td beraniin ke kmrn mandi dlm keadaan w lg halangan sambil bayangin si serem Ada bunyi gue asli lemes sampe merinding bgt pdhl bukan yg aneh aneh n lngsng ngibrit[askmf] abis baca menfess ini aku sbg calon anak rantau ngerasa takut minder kalo temen2 disana diam2 ngerasa kesal dengan logat aku/ karena aku masih sering nyampur bahasa :( [URL]salah ga sih gue yang abis bayar poltekkes trus yg gue masukin yang sbm gue takut dihujat macem lu ga kesian apa ama adek kelas lo  dsb tapikan ini demi masa depan kan gue punya hak:( takut anjirTapi lebi goblo lagi pas Egi meninggal pas masuk kelas mau pamit tementemen taunya yang gaada Mbak Sisil uda pada syok keknya ku yang mimbikmimbik tapi pengen ngekek juga ini aku yang goblo si[USERNAME] [USERNAME] Terkadang aku ingin menjemput waktuwaktu yang sudah begitu jauh tertinggal Kembali memelukmu seperti saat kita terlalu takut pada perpisahanAku merasa cemas ketika aku merasakan sentuhan lembut di pipiku[USERNAME] Pernyataan sandi ini mulai waras mas Gun Persoalan radikalisme jauh lbh besar dibanding persoalan elektion Selama ini aku bnykn mo muntah denger statemen Sandi Kali ini oke Tp [USERNAME] jgn hny pintar bikin statement tp jg hrs aksi Dia eksekemarin mau sholat dzuhur diatas genteng berisik bgt suara burung kedasi/uncuing serius ini banyak gak tau 2/3 burung suaranya kenceng bgt sampe ngebangunin aku lg tidur siang terus sore td mamah ngabarin kalo anaknya tetangga ternyata meninggal ya Allah takut bangetLagi hamil dan ikut tantangan feelings gerakan Cherly Juno bikin ngeri Dengan perutnya yang sudah membesar begini goyangan Cherly [URL]Ketika kamu merasa seperti kamu harus melawan perasaan takut yang mendalam di dalam dirimu 👊😰 #FightingInnerDread[USERNAME] sender gabisa bantu dia lapor ke komisi perlindungan anak atau polisi gitu  sumpah menurut w udah diluar batas dan w khawatir banget sama temenmu udah dibawa ke rumah sakit Pikiranku dipenuhi dengan ketakutan akan suarasuara aneh di malam hariMomen di mana kamu merasa seperti kamu berjalan di atas tepi jurang ketidakpastian dikejar oleh rasa takut 🚶\\u200d♂️😰 #EdgeOfFearAku akan jadi takut bila hati aku dah mula sayang someone Takut ditinggalkan Takut berharap Takut berubah Takut hadapi realita bila bad happen Pendek kata TAKUT pada benda yang ke arah aku dan dia tak bersama :(Beli makeup sekali kalo ga cocok malah bikin beruntusan dan jerawatan Terus pengobatan nya berharihari Yagitu yang bikin pemilih bgt sm makeup :) trauma aja punya muka sensitif beginiMenurut ferry julianto foto2 spt ini menjadikan Jokowi was2Foto ini malah memalukan masa iya petinggi dan ketua partai jadi jongos ormaskalo nyokap lagi overwhelmed gt banyak urusan dan bawaannya sensi mulu atmosphere di rumah kaya gimana gitu Jadi serba salah Mau diem dibawah tkt dimarahin mau ngehindarin juga tkt dimarahin Hm[USERNAME] [USERNAME] Deg degan mana sama kalau tbtb mamah bilang kak tutup taperwer mamah kemana ya Tadi bukan nya kamu yg abis pakai  jeng jengggg :(((((((Ya allah semoga kue bikinan bunda kali ini dengan resep dari google berhasil Kasianin aku ya allah kan soleh mau ultah Masa gagal maning gagal maningMomen di mana perasaan takut mengancam keamanan emosionalmu merusak ketenangan 🧘\\u200d♀️😨 #DisturbingPeace[USERNAME] Gw deg2an sepanjang baca ini Tp gw setuju soal jgn keliatan takut tp berani Besok2 cepet2 ke petugas keamanan di sekitar kalian yaudah hampir maghrib si bapak supir cerita klo feeling ngga enak bgt setelah aku carter mimpi kecelakaan gitu2 dan bener2 takut kejadian intinya aku ngga dijemput repotin klg jg malu masa pesen travel aja ga pinterUntung ada aa2 berdua ngebantuin itu posisi di tengah2 gelap sendiri bener2 gaada siapa2 sampe nyalain senter hp takut ada org dan sejenis nyaaaHmm Thailand boleh juga tuh Kebetulan saya suka wisata kuliner sih tapi ngeri disana banyak yg gak halal nanti malah gak makan apa2Tapiiiiiiiiiii Entah kenapa akhir akhir ini ada rasa takut banget takut karna abis lulus ini bisa ga sih berjuang sendiri nyari kerja sendiri mulai benahin diri sendiri dengan ngurangin minta ini itu ke ortuSuami gak dukung lahiran normal Dari awal nyuruh sesar ajaa Takut akunya gak kuat ngelahirin 2 anak Aku jadi takut juga bawaannya Tp kalo denger testi orang yg sc gak ada yg bilang lebih enak dari normal[USERNAME] Jadi tuh jalanannya kaya jalanan mati gitu sepi terusan sering banyak orang mabuk Ngeri kan kalau berhadapan sama orang yang kena pengaruh alkohol gitu Kemarin minggu ada yang habis dibegal padahal deket banget sama kantor polisi[USERNAME] [USERNAME] Takut ulat juga Ternyata ku tyda sendiri :( Aku padahal di kelas ada ulet di tas aku nangis malah diceramahin guru besok kalo jadi ibu mau gitu juga Ya kan orang namanya takut ya sebelll bgt dehKayaknya habis ini mataku harus dimandiin pake abu biar suci deh karena baru melihat adegan yg tidak senonoh di McD yg tidak lain adalah adegan orang yg saling bermesrahan didepan mata huhuuTengah baca thread seram tetiba nmpk benda hitam gerak dekat tepi kepala Dah la dalam thread tu cerita dah sampai dekat bayang hitam Cuak wehhh  Tengok sebelah nasib baik sarung bantal je bergerak saking terlalu banyak mikir terlalu jauh pikiran gue trs jd takut sakit hati end gue yg nyakitin diri gue sendiri[BB] maap oot kmrn malem di chat aku berantem sm pacar trs aku bilang udahan aja sambil maki2 gitu trs dia balesnya doang sampe skrg dia ga ngechat aku jg engga menurut kalian udh putus belom sih makasiJadi aku suka baca komen pembaca dlm setiap kisah seram lagi terhibur  Antaranya kata xboleh tidor terpikirpikir xberani pergi tandas punye takut kalau duk hostel kwan cerita hantu memang tidor peluk member Nak kencing pun tahan sampai subuh Ini level ketakutan kitaKalo dipikir pikir gua punya temen homo banyak:( tapi gapunya temen lesbi entah kenapa bkn nya ga respect sama yg lesbi tapi gua waswas aja jangankan sama yg blak2an lesbi sama cewek yg jomblo seumur hidupnya aja gua takut dia sukanya sama cewek[USERNAME] [USERNAME] [USERNAME] Anda benar Tidak disemua tempat kita boleh melaksanakan sholat salah satunya di bangunan yang didirikan untuk kekafiran (salah satunya gereja) Aku berlindung kepada ALLAAH SWT dari godaan setan yang terkuMomen di mana perasaan takut mengacaukan kedamaian batinmu membuatmu merasa gelisah 🧘\\u200d♀️😨 #InnerRestlessnessini gimana sih ngerasanya kosong gt tombol ekspresi ntah dimana dkit lg kalo ada yg tiba2 nemu trus kepencet kayaknya aku langsung meledak ini mah bahayaJdi ada thr tapi dri APBD Yang punya kuasa takut kalau kalau di garis bawahi sama kpk Dan jadilah mereka ggl dpt thr tahun ini Kok bisa gitu ya Buk mentri bilang aman Yang lain ketakutanMomen di mana perasaan takut merasuki mimpimimpi indahmu merusak ketenangan 🌙💤 #BeautifulNightmaresIni mba Skrg org lagi hobi bongkar2 twitt lama :( Gw kadang sampe takut speakup cmn karena kepikiran Adakah twitt gw dulu2 2009/2010/brppun itu ada yg smpt nyinggung orgMomen di mana perasaan takut membuatmu merasa seperti kamu harus melarikan diri dari dirimu sendiri 🏃\\u200d♀️😨 #FleeingFromSelfkeesokan paginya aku tanya sama bapak dan emak apa tadi malam nyalain TV eh ternyata nggak ada yg tau siapa yg nyalain tuh TV iihhh aku jadi kepikiran yg nggaknggak aku berfikir kalo itu pasti genderuwo yang nyalain tuh TV iihhhseremMain artificial neural network emang ngeri2 sedap 3 hari stressfull karena akurasi pengujian dibawah 50% Ubah berbagai parameter masih tetep jelek Sempat ngira bakal fail karna datanya rusak ternyata hidden layer nya kurang banyakKetika kamu merasa seperti kamu terancam oleh rasa takut yang mencekam dari segala arah 🔍😱 #OminousThreatTermenung seekor rusa karna sejuta keraguan menghampirinya ada rasa bimbang dan gundah dalam diri yang di iringi rasa takut akan kecewa satu sisi ia merasa ingin kembali padanya dengan segumpal kepercayaan satu sisi lagi ia takut untuk kembali dan hanya merasa kecewa ya tuhan[idm] Army aku baru keterima di jurusan Ilmu dan Teknologi Pangan Adakah yang kuliah di jurusan itu Bantu aku tenangin diri soalnya takut dengan masamasa perkuliahanAku gatau tp knp akhir2 ini bnyk akun aneh yg ngefollow Serem2 lagi Aku harus apa Haruskah ganti uname Delete acc trus buat baruApakah ini berarti takfiri Ya Allah cukuplah Engkau sebagai Rabb kami Tempat bersandar dan meminta pertolongan Kami berlepas diri dari orangorang yang mempersekutukanMu dengan apapun [URL]Setuju bgt sama ko ernest Karena setelah beberapa bulan baca story di ignya @/catwomanizer ternyata banyak bgt perempuan sama laki2 yg gaberani ngomong kalo mereka dilecehkan dan jatohnya jadi trauma seumur hidup lho Ternyata ini nyata bukan rekayasa Serem bayanginnyaAku merasa cemas ketika aku melihat bayangan bergerak di dinding yang tidak memiliki sumber cahaya[USERNAME] Saya mau tanya apa bener UN tahun 2018 untuk jenjang SMA sederajat akan di adakan ulang  Banyak berita di luar sana bahwa akan ada remidial UN pada bulan juli mendatang  Mohon kejelasan nya  Terima kasih [USERNAME] #FaktaAtauHoax[USERNAME] aku takut masalah ke otak *sumpah aku ngeri sendiri dulu denger2 kalo sampe rapet oksigen nya bisa gak sampe ke otak atau gmn () Itu aku jd bimbang sendiri :((Terlepas dr agama ttp aja gamau oplas banyak zonknya Hasilnya kdang ga bagus dan kelihatan ga natural gitu soalnya ga cocok sm bagian wajah yg ga dioplas Jadinya takut nyesel Nanti jatohnya kecanduan dan ngerombak semua Jd plastic monster dong[USERNAME] [USERNAME] Bcs doi w anak pelayaran tp emg beneran sih ditinggal 5 bulan gt ketemu cm 3 hari dri 5 bulan itu Parahnya atasannya yg udh beristri main cewek gtu kan ngeri :(mau nanya dong mengingatkan seseorang yg punya hutang secara berulang ulang itu baik gak sih  terus setiap di tagih jawabanya gk ada terus kira2 neraka berapa yg pantas buat diasangat tidak mudah mjd keluarga korban pencabulan beberapa keluarga yg memilih menutup buku kasus karena takut aib akan tersebar lebih milih kyk gitu trauma anak jd nomor 2Ini hanya hal persepsi dlm mendidik Dan smoga sy bukan termasuk dlm ortu yang mendidik dg memukul anak di depan org banyak Tak akan pernah semogaKetika kamu merasa seperti kamu terperangkap dalam kegelapan ketakutan yang membutakan 🌑😨 #BlindedByFearKetika kamu merasa seperti kamu harus berjuang melawan ketidakpastian yang menyerang 👊😰 #FightingUncertaintyPerginya diantar sama teman gak bawa HP Udah janjian biar dijemput jam setengah 2 Krna sayanya ketiduran dan yg jemput gak nongol2 bingung mau gmna Akhirnya jalan kaki 2 km siang bolong Ngeri kali lahh~~ vanashh syekaleh vemirsyahh#ct caratss aku takut deh gaada temen pas masuk kuliah soalnya tadi pas aku wawancara kayak yg lain itu udah sama temennya aku coba nanya dan ngobrol tapi mereka nya gitu Aku harus gimana dong carats:(Aku gak salah bila mohon pd [USERNAME] segera Perintahkan MENKES utk menambah Ruangan Khusus Sakit Jiwa pd stiap Rmh Sakit Sbab tdk menutup kemungkinan USAI PILPRES stiap Rmh Sakit akan dibanjiri Pasien Sakit Jiwa Tanda2 kearah sana itu sdh ada Saat ini banyak yg STRESS [URL]Ketika rasa takut merasuki pikiranmu dan sulit untuk mengusirnya 🧠😨 #IntrusiveFearNgeri banget Nenek ini mendengar ada suara di dalam lantainya dan waktu dibuka benerbener bikin kaget nenek dan petugas yang membukanya [URL]Klo kemaren2 sih aku emng gk pernh ngeplay video karena ya itu Takut gk bisa tiduryg terakhir Btw Semoga kita gk slh pilih jawaban aja buat voting selanjutnyaKetika perasaan takut membentuk bayanganbayangan yang menakutkan di relung pikiranmu 👤😨 #HauntingShadowsSi Dera aja akun alter yang suka flashing boobs while bilang dia merinding ngeliat siksaan demi siksaan yg gua alami ahahaha [URL]Aku takut tulisan ini terbaca di saat kamu nggak ngerti apa yang aku rasain Aku takut tulisan ini terbaca dan kamu marahin aku Aku takut[USERNAME] [USERNAME] [USERNAME] Tidak disemua tempat kita boleh melaksanakan sholat salah satunya di bangunan yang didirikan untuk kekafiran (salah satunya gereja) Aku berlindung kepada ALLAAH SWT dari godaan setan yang terkutuk [URL]Heran si orang stres begitu masih berkeliarab salemba 2minggu yg lalu juga abis pukul anak cowok juga kaya gitu mana ada yg mau betah Salemba Tp emang si RT RW lebih cepet nanggepin keluhan warganyaPertanyaan yg bakal ditanya nanti pas lebaran itu pasti begini galuh udah selesai   Alhamdulillah udah bisa jawab  sekarang kerja dimana   Alhamdulillah udah bisa jawab  kapan nikahnya   Alhamdulillah eumituanueh ((JEDERRRRRRR))Aku bisa ngerasain kok ekspresi kamu waktu aku mau beli toner Kamu takut wajah aku tambah parah ya Padahal aku udah ngerasa mendingan banget sejak pake skincareWah ngeri juga kali yah pemilik [USERNAME] mobil diam aja akinya bisa jatuh dan mobil langsung terbakarwaduh terios mertua musti dicheck juga nih kalau ginitakut terrbakar pas diparkir diamhuh siap tanggal ulumsunguh menyeramkan kenapa tidaklangsung naik kelas saja sih ribet amat mesti ada ulum [USERNAME] apakah hari ini nasib cash saya Rp 50000 akan pending seperti yang sudah sudah Mohon informasi nya [URL]Maka yang dilakukan papa adalah dudum diruang tamu dan menunggumu pulang dengan hati yang sangat khawatir Dan setelah perasaab khawatir itu berlarutlarut Ketika melihat putri kecilnya pulang larut malah hati papa akan mengeras dan papa memarahimuMomen di mana perasaan takut mengganggu pikiranmu dan mengaburkan kenyataan 🧠😨 #DistortingRealitySaat aku mendengar suara langkah di atas tangga di malam hariSedang santap sahur sambil menyimak ceramah di tv Tibatiba muncul bunyi: Hatihati Yon *** itu syiah Seketika itt sahur jadi hilang seleraAku merasa cemas saat aku melihat bayangan yang tidak biasa di jendelaMomen di mana kamu merasa seperti kamu tenggelam dalam rasa takut yang begitu dalam 🌊😨 #DrowningInFearIseng iseng ngetes semua perangkat elektromagnetik dirumah dan ternyata radiasi komputer laptop tv hp itu tinggi ya Mendadak jadi parno karena tau bahaya radiasi itu besar tapi gimana lagi kitaaku tuh ceritanya gak pernah pake skincare soalnya masih takut gitu mau pakenya juga takutnya jadi rusak nah ada saran gak buat muka mulus tanpa skincareNah Yg saya takutkan itu mas Nanti di tumpangi politik dibalut agama Itu yg bahaya soale masyarakat kita sedang sensitif dgn hal tersebutAku gak salah bila mohon pd [USERNAME] segera Perintahkan MENKES utk menambah Ruangan Khusus Sakit Jiwa pd stiap Rmh Sakit Sbab tdk menutup kemungkinan USAI PILPRES stiap Rmh Sakit akan dibanjiri Pasien Sakit Jiwa Tanda2 kearah sana itu sdh ada Saat ini banyak yg STRESS [URL]jd kmrn dpt tmpt ujian di smp 5 trus pas survey ruangan keinget pernah baca artikel horror (lol) krena emg tmptnya bnr2 serem baru masuk udah merinding iseng habis ujian cek lagi artikelnya dan baca2 komen alumni di sekolah2 yg ditulis angkerKemaren di belakang kampus juga ada anak kambing asal nyebrang Eh kambing nya b ajha yang nyebrang w yang histeris takut mereka ketabrak :((Tapi sekarang ini ntah sejak kapan pemikiran gue berubah Kalo gue kepikiran untuk share hal yg gila gue akan pikir 1000x untuk tulis di twitter/IG Kenapa Jempol netizen tak bisa dikalahkanJam 2 malam nonton video video penampakan di yutup takut sih mana lampu rumah gue matiin semuabtw ya beneran ngeri sih olx sekarang ladang penipu barusan pajang barang dan lgsng ada 2 orang tanya yang 1 minta cod tp maksa banget yang 1 minta mandiri ecashMbak bulan oh mbak bulan datangnya skrng aja ya jangan tgl 9 seperti biasanya kalo kamu datang sperti biasanya nanti kemungkinan ikut sholat iednya 50:50 mbak bulKetika kamu merasa seperti kamu terancam oleh rasa takut yang mencekam di setiap sudut 🔍😨 #CorneredByFearkalo sifat buruk mungkin bisa dirubah dengan bertambahnya umur atau berubahnya keadaan kalo kebiasaan buruk mungkin sulit ya karena semacam udah jadi hobi gitu ga sihKata siapa hidup ini tidak ada gunanya  Ingat kita diciptakan ini punya tujuan Semua milik kita adalah barang titipan dan harus dikembalikan Agama adalah tuntunan untuk membantu kita mencapai tujuan #Ramadan [URL][USERNAME] Semangatt chingudeulll Emang udh bnyk bgt nan Kelas gue malah baru 2 org yg sidang:( Gue tuh gaberani sidang nan ampe dimarahin temen2 gue h4h4h4h4 ya abisan beneran takut yg ampe nangis cupu wSekarang gue kerjaannya cari info cara ibu yg baru melahirkan buat refreshing Karna kalo ga refreshing tubuh ga bisa bohong ga sih Takutnya drop dan malah ngaruh ke si bayiSaat aku melihat bayangan aneh di cerminTapi kemudian ada yg ragu2 karena perawatannya kecatet di riwayat bpjs Takut pas dibaca sebagai tidak sehat mentalWkwk lul dasar dinda aku td liat chatnya astaghfirullah kalo aku pas mau buka udah degdegan waswas ngapain pagi2 kirim chat sebanyak ituAku merasa seperti ada kehadiran jahat di kamar ini[AskMF] kenapa ya gua takut banget kalo mau ngmg atau muncul di grup gituuuu Bener2 panik gituu kalo harus muncul di grup Gimana cara ngehilangin nya yaSaat aku mendengar bisikan pelan di telingakuProf [USERNAME] mohon kiranya dishare cerita lengkap soal foto ibu yg saya jepret saat salat maghrib di gereja ayam pniel kmrn biar gak ada informasi yg sepotongsepotong Trims ProfAwalnya ge ga percaya ama istilah indigo tapi punya temen deket indigo dan selalu tau kalo gw udah ada planning apa ja itu bikin gw heran kaget dan agak takut[USERNAME] Wah bagus deh itu yg mau duet juga yg udah legend Btw mereka ada ngomong mau dueg itu dimana dan kapan Iya sihcuma takut suara dia jadi rusak/berubah gitu karena salah teknik[USERNAME] [USERNAME] [USERNAME] [USERNAME] [USERNAME] Ngeriiiih bang takut selepet dri belakang Doi kan type2 ya lekong pilipin[askmf] kamu kalo pergi ke psikolog pertamanya ngomong apaan Kan aku mau jelasin terus dia tibatiba motong ucapanku Tapi dia tau masalahku lewat tes gitu Cuman aku takut nggak diperhatikan bgt gitu()Harap diperjelas Pak Ketua [USERNAME] agar masyarakat paham mana atau apa kriteria gratifikasi lebaran yg dilarang itu  dimasyarakatkan kriteria ituKayaknya habis ini mataku harus dimandiin pake abu biar suci karena habis melihat adegan yg tidak senonoh di McD yg tidak lain adalah adegan orang yg saling bermesrahan didepan mata huhuuuKondisi paling sulit itu Saat kita mendiaminya saja kita takut dimusuhinya dan bila kita berkatakata kita takut menyinggung perasaanyaMesti nnton ne tengah malam nti dlm selimut  Habis nonton Eng ing eng Bunyi detak jarum jam dinding pun jd takut Terpaksa jam di cabut batre nya biar gk takut Wkwkwkwkwk Always~Aku memutuskan untuk pergi sendirian karena aku takut tergoyah hatiku dan aku takut teman temanku akan sedih tentunya maka aku memilih untuk sendirian Akan kurindukan Edinburgh Castle Old Town Princess Castle Calton Hill dan yang lainnyaLagi ada suntik campak gitu Awalnya gak tau pas banget mau pipis Pas mau balik ke kelas gak sengaja liat orang bawa kotak2 gitu Gue pikir pasti suntik karena takut Yaudah taunya gue lari duluan Sambil teriak SUNTIK SUNTIKGue mau cerita kalo dia ini bisa akrab juga sama susin yg cuma 2 bulanan aja kerja Kayaknya itu udh akrab bgt kayak temen sekolah aja Dan saat itu gue tahu gimana kpribadian susin sbnernya Si ini kalo gue perhtiin ngeri juga ya klo diajak ngobrol[USERNAME] Gue liat mb2 spj yg bajunya ngetat dan diatas lutut aja kaya bersyukur yg pakeannya terbuka gitu aja masih ngejalanin kewajiban masa gue lewat sih semacam tercourage gituPernah baca katanya emang ada oknuum yang bikin kebakaran Terus kalau pemadam kebakarannya dateng malah dihalanghalangin Seremserem ibukota serem :((Momen di mana perasaan takut membentuk hantuhantu di pikiranmu yang sulit untuk diusir 👻😨 #HauntedThoughts{mu} gaes aku td hbs pergi cuma pake bedak lipstik doang sih nah bersihin muka nya pake mc viva mw pixy doang trus hbs tu pake toner viva Gapapa kan ya klo gak cuci muka pake fw Takut ke kmr mandi jam segini :(Saya pun sedang belajar untuk menjadi kuat Memang tidak mudah sekali Apalagi kedua hal itu (halanganamp[USERNAME] Seperti itulah Awalnya ngobrol baik Seolah olah dia emang rp yang baik Lebih serem yang terselubung dari pada yang terang teranganMomen di mana perasaan takut membuatmu terjebak dalam siklus pikiran negatif yang tak terkendali 🔄😰 #CycleOfFear[USERNAME] [USERNAME] [USERNAME] [USERNAME] Duh kalau lihat AF suka deg2an takut teriak tangkaptangkap gitu hati2 bicaranyacara jawab curhatan orang depresi gimana yaa aku takut omongan aku salah aku gatau musti gimana tapi kalo aku diem aja dikira ga ngasi solusi apa apaa aku bener2 gmarahti harus jawab apaa ini cuma bisa kasian dia tertekan banget'"
      ]
     },
     "execution_count": 117,
     "metadata": {},
     "output_type": "execute_result"
    }
   ],
   "source": [
    "fear_docx"
   ]
  },
  {
   "cell_type": "code",
   "execution_count": 118,
   "metadata": {},
   "outputs": [],
   "source": [
    "#Extract Keyword\n",
    "keyword_fear = extract_keywords(fear_docx)"
   ]
  },
  {
   "cell_type": "code",
   "execution_count": 119,
   "metadata": {},
   "outputs": [
    {
     "data": {
      "text/plain": [
       "{'takut': 316,\n",
       " 'di': 270,\n",
       " 'yang': 222,\n",
       " 'yg': 213,\n",
       " 'aku': 191,\n",
       " 'dan': 176,\n",
       " 'gue': 152,\n",
       " 'ada': 148,\n",
       " 'kamu': 123,\n",
       " 'ini': 119,\n",
       " 'itu': 115,\n",
       " 'ga': 113,\n",
       " 'kalo': 101,\n",
       " 'ya': 89,\n",
       " 'sama': 87,\n",
       " 'aja': 86,\n",
       " 'merasa': 85,\n",
       " 'ke': 84,\n",
       " 'mau': 82,\n",
       " 'dia': 75,\n",
       " 'seperti': 75,\n",
       " 'jadi': 74,\n",
       " 'bisa': 74,\n",
       " 'harus': 68,\n",
       " 'gitu': 66,\n",
       " 'tapi': 61,\n",
       " 'pas': 59,\n",
       " '[USERNAME]': 59,\n",
       " 'dari': 58,\n",
       " 'gua': 58,\n",
       " 'dengan': 56,\n",
       " 'lagi': 56,\n",
       " 'udah': 55,\n",
       " 'juga': 55,\n",
       " 'gak': 55,\n",
       " 'orang': 55,\n",
       " 'sih': 53,\n",
       " 'kita': 53,\n",
       " 'mana': 53,\n",
       " 'rasa': 52,\n",
       " 'sendiri': 51,\n",
       " 'banget': 49,\n",
       " 'saya': 48,\n",
       " 'apa': 46,\n",
       " 'akan': 46,\n",
       " 'karena': 46,\n",
       " 'atau': 45,\n",
       " 'nya': 43,\n",
       " 'kan': 43,\n",
       " 'bgt': 43}"
      ]
     },
     "execution_count": 119,
     "metadata": {},
     "output_type": "execute_result"
    }
   ],
   "source": [
    "keyword_fear"
   ]
  },
  {
   "cell_type": "markdown",
   "metadata": {},
   "source": [
    "### Machine Learning"
   ]
  },
  {
   "cell_type": "code",
   "execution_count": null,
   "metadata": {},
   "outputs": [],
   "source": []
  },
  {
   "cell_type": "code",
   "execution_count": 120,
   "metadata": {},
   "outputs": [
    {
     "data": {
      "text/plain": [
       "label\n",
       "sadness    1122\n",
       "joy        1002\n",
       "anger       875\n",
       "fear        654\n",
       "love        498\n",
       "Name: count, dtype: int64"
      ]
     },
     "execution_count": 120,
     "metadata": {},
     "output_type": "execute_result"
    }
   ],
   "source": [
    "#Banyak label emoticon\n",
    "dataset_berisi[\"label\"].value_counts()"
   ]
  },
  {
   "cell_type": "code",
   "execution_count": 121,
   "metadata": {},
   "outputs": [
    {
     "name": "stderr",
     "output_type": "stream",
     "text": [
      "c:\\Users\\rifqi\\AppData\\Local\\Programs\\Python\\Python311\\Lib\\site-packages\\seaborn\\_oldcore.py:1498: FutureWarning: is_categorical_dtype is deprecated and will be removed in a future version. Use isinstance(dtype, CategoricalDtype) instead\n",
      "  if pd.api.types.is_categorical_dtype(vector):\n",
      "c:\\Users\\rifqi\\AppData\\Local\\Programs\\Python\\Python311\\Lib\\site-packages\\seaborn\\_oldcore.py:1498: FutureWarning: is_categorical_dtype is deprecated and will be removed in a future version. Use isinstance(dtype, CategoricalDtype) instead\n",
      "  if pd.api.types.is_categorical_dtype(vector):\n",
      "c:\\Users\\rifqi\\AppData\\Local\\Programs\\Python\\Python311\\Lib\\site-packages\\seaborn\\_oldcore.py:1498: FutureWarning: is_categorical_dtype is deprecated and will be removed in a future version. Use isinstance(dtype, CategoricalDtype) instead\n",
      "  if pd.api.types.is_categorical_dtype(vector):\n"
     ]
    },
    {
     "data": {
      "image/png": "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",
      "text/plain": [
       "<Figure size 1600x800 with 1 Axes>"
      ]
     },
     "metadata": {},
     "output_type": "display_data"
    }
   ],
   "source": [
    "#Grafik bar dari banyaknya label emoticon\n",
    "plt.figure(figsize=(16,8))\n",
    "sns.countplot(x=\"label\", data=dataset_berisi)\n",
    "plt.show()"
   ]
  },
  {
   "cell_type": "code",
   "execution_count": 122,
   "metadata": {},
   "outputs": [],
   "source": [
    "# Analisis Sentimen\n",
    "from textblob import TextBlob as tb"
   ]
  },
  {
   "cell_type": "code",
   "execution_count": 123,
   "metadata": {},
   "outputs": [],
   "source": [
    "def sentimen(text):\n",
    "    blob = tb(text)\n",
    "    blob = blob.translate(from_lang='in', to='en')\n",
    "    sentimen = blob.sentiment.polarity\n",
    "    if sentimen > 0:\n",
    "        return \"Positif\"\n",
    "    elif sentimen < 0:\n",
    "        return \"Negatif\"\n",
    "    else:\n",
    "        return \"Netral\""
   ]
  },
  {
   "cell_type": "code",
   "execution_count": 124,
   "metadata": {},
   "outputs": [
    {
      "cell_type": "code",
      "execution_count": 54,
      "metadata": {},
      "outputs": [
        {
          "name": "stderr",
          "output_type": "stream",
          "text": [
            "C:\\Users\\Reihan\\AppData\\Local\\Temp/ipykernel_18500/3665882694.py:9: FutureWarning: The default value of regex will change from True to False in a future version.\n",
            "  dataset_prediksi[\"teks_bersih\"] = dataset_prediksi['teks_bersih'].str.replace(r\"\\[USERNAME]\", \"\")\n"
          ]
        },
        {
          "data": {
            "text/html": [
              "<div>\n",
              "<style scoped>\n",
              "    .dataframe tbody tr th:only-of-type {\n",
              "        vertical-align: middle;\n",
              "    }\n",
              "\n",
              "    .dataframe tbody tr th {\n",
              "        vertical-align: top;\n",
              "    }\n",
              "\n",
              "    .dataframe thead th {\n",
              "        text-align: right;\n",
              "    }\n",
              "</style>\n",
              "<table border=\"1\" class=\"dataframe\">\n",
              "  <thead>\n",
              "    <tr style=\"text-align: right;\">\n",
              "      <th></th>\n",
              "      <th>label</th>\n",
              "      <th>tweet</th>\n",
              "      <th>teks_bersih</th>\n",
              "    </tr>\n",
              "  </thead>\n",
              "  <tbody>\n",
              "    <tr>\n",
              "      <th>0</th>\n",
              "      <td>NaN</td>\n",
              "      <td>Saya taKan raguKan besarNya kasih sayang Tuhan...</td>\n",
              "      <td>Saya taKan raguKan besarNya kasih sayang Tuhan...</td>\n",
              "    </tr>\n",
              "    <tr>\n",
              "      <th>1</th>\n",
              "      <td>NaN</td>\n",
              "      <td>Cc in ke cebong2 dungu... Maksd hati pengen ca...</td>\n",
              "      <td>Cc ke cebong2 dungu Maksd hati pengen cari kes...</td>\n",
              "    </tr>\n",
              "    <tr>\n",
              "      <th>2</th>\n",
              "      <td>NaN</td>\n",
              "      <td>Nah, yg keterlaluan adl kalo ada pjbt eselon y...</td>\n",
              "      <td>Nah yg keterlaluan adl kalo ada pjbt eselon yg...</td>\n",
              "    </tr>\n",
              "    <tr>\n",
              "      <th>3</th>\n",
              "      <td>NaN</td>\n",
              "      <td>Melody masih membatasi diri ala member ya? Yan...</td>\n",
              "      <td>Melody masih membatasi diri ala member ya Yang...</td>\n",
              "    </tr>\n",
              "    <tr>\n",
              "      <th>4</th>\n",
              "      <td>NaN</td>\n",
              "      <td>Rasa amarah ini membuatku merasa seperti aku a...</td>\n",
              "      <td>Rasa amarah ini membuatku merasa seperti aku a...</td>\n",
              "    </tr>\n",
              "    <tr>\n",
              "      <th>...</th>\n",
              "      <td>...</td>\n",
              "      <td>...</td>\n",
              "      <td>...</td>\n",
              "    </tr>\n",
              "    <tr>\n",
              "      <th>995</th>\n",
              "      <td>NaN</td>\n",
              "      <td>Aku termasuk orang yang tidak habis pikir deng...</td>\n",
              "      <td>Aku termasuk orang yang tidak habis pikir deng...</td>\n",
              "    </tr>\n",
              "    <tr>\n",
              "      <th>996</th>\n",
              "      <td>NaN</td>\n",
              "      <td>Melawan sibuk Selasamu, jangan patah semangat ...</td>\n",
              "      <td>Melawan sibuk Selasamu jangan patah semangat yah</td>\n",
              "    </tr>\n",
              "    <tr>\n",
              "      <th>997</th>\n",
              "      <td>NaN</td>\n",
              "      <td>Momen di mana kamu merasa begitu mendalam terh...</td>\n",
              "      <td>Momen di mana kamu merasa begitu mendalam terh...</td>\n",
              "    </tr>\n",
              "    <tr>\n",
              "      <th>998</th>\n",
              "      <td>NaN</td>\n",
              "      <td>Tapi tentunya secara ini Bekasi ada hal-hal yg...</td>\n",
              "      <td>Tapi tentunya secara ini Bekasi ada halhal yg ...</td>\n",
              "    </tr>\n",
              "    <tr>\n",
              "      <th>999</th>\n",
              "      <td>NaN</td>\n",
              "      <td>Happy Mensive My Love makasih udh nemenin sela...</td>\n",
              "      <td>Happy Mensive Love makasih udh nemenin selama ...</td>\n",
              "    </tr>\n",
              "  </tbody>\n",
              "</table>\n",
              "<p>1000 rows × 3 columns</p>\n",
              "</div>"
            ],
            "text/plain": [
              "    label                                              tweet  \\\n",
              "0     NaN  Saya taKan raguKan besarNya kasih sayang Tuhan...   \n",
              "1     NaN  Cc in ke cebong2 dungu... Maksd hati pengen ca...   \n",
              "2     NaN  Nah, yg keterlaluan adl kalo ada pjbt eselon y...   \n",
              "3     NaN  Melody masih membatasi diri ala member ya? Yan...   \n",
              "4     NaN  Rasa amarah ini membuatku merasa seperti aku a...   \n",
              "..    ...                                                ...   \n",
              "995   NaN  Aku termasuk orang yang tidak habis pikir deng...   \n",
              "996   NaN  Melawan sibuk Selasamu, jangan patah semangat ...   \n",
              "997   NaN  Momen di mana kamu merasa begitu mendalam terh...   \n",
              "998   NaN  Tapi tentunya secara ini Bekasi ada hal-hal yg...   \n",
              "999   NaN  Happy Mensive My Love makasih udh nemenin sela...   \n",
              "\n",
              "                                           teks_bersih  \n",
              "0    Saya taKan raguKan besarNya kasih sayang Tuhan...  \n",
              "1    Cc ke cebong2 dungu Maksd hati pengen cari kes...  \n",
              "2    Nah yg keterlaluan adl kalo ada pjbt eselon yg...  \n",
              "3    Melody masih membatasi diri ala member ya Yang...  \n",
              "4    Rasa amarah ini membuatku merasa seperti aku a...  \n",
              "..                                                 ...  \n",
              "995  Aku termasuk orang yang tidak habis pikir deng...  \n",
              "996   Melawan sibuk Selasamu jangan patah semangat yah  \n",
              "997  Momen di mana kamu merasa begitu mendalam terh...  \n",
              "998  Tapi tentunya secara ini Bekasi ada halhal yg ...  \n",
              "999  Happy Mensive Love makasih udh nemenin selama ...  \n",
              "\n",
              "[1000 rows x 3 columns]"
            ]
          },
          "execution_count": 54,
          "metadata": {},
          "output_type": "execute_result"
        }
      ],
      "source": [
        "# Data Cleaning Column \"tweet\" dari dataset_prediksi\n",
        "dataset_prediksi.dropna(subset = [\"tweet\"], inplace = True)\n",
        "dataset_prediksi.reset_index(drop=True, inplace=True)\n",
        "\n",
        "# Stopwords (Menghapus Kata Tidak Penting, seperti a, the, dll)\n",
        "dataset_prediksi[\"teks_bersih\"] = dataset_prediksi[\"tweet\"].apply(nfx.remove_stopwords)\n",
        "\n",
        "# Menghapus Kata [USERNAME]\n",
        "dataset_prediksi[\"teks_bersih\"] = dataset_prediksi['teks_bersih'].str.replace(r\"\\[USERNAME]\", \"\")\n",
        "\n",
        "# Menghapus koma, titik, dan lain lain\n",
        "dataset_prediksi[\"teks_bersih\"] = dataset_prediksi[\"teks_bersih\"].apply(nfx.remove_punctuations)\n",
        "dataset_prediksi"
      ]
     },
     "execution_count": 124,
     "metadata": {},
     "output_type": "execute_result"
    }
   ],
   "source": [
    "# Contoh dari sentimen\n",
    "sentimen(\"Saya cinta dengan koding\")"
   ]
  }
 ],
 "metadata": {
  "kernelspec": {
   "display_name": "Python 3",
   "language": "python",
   "name": "python3"
  },
  "language_info": {
   "codemirror_mode": {
    "name": "ipython",
    "version": 3
   },
   "file_extension": ".py",
   "mimetype": "text/x-python",
   "name": "python",
   "nbconvert_exporter": "python",
   "pygments_lexer": "ipython3",
   "version": "3.11.5"
  },
  "orig_nbformat": 4
 },
 "nbformat": 4,
 "nbformat_minor": 2
}
