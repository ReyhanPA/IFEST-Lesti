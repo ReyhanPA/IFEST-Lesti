{
 "cells": [
  {
   "cell_type": "markdown",
   "metadata": {},
   "source": [
    "### Persiapan Data"
   ]
  },
  {
   "cell_type": "code",
   "execution_count": 4,
   "metadata": {},
   "outputs": [],
   "source": [
    "# EDA\n",
    "import pandas as pd\n",
    "import numpy as np\n",
    "\n",
    "# Data Visualization\n",
    "import matplotlib.pyplot as plt\n",
    "import seaborn as sns\n",
    "\n",
    "# Text Cleaning\n",
    "import neattext.functions as nfx\n",
    "\n",
    "# Machine Learning\n",
    "# Estimators\n",
    "from sklearn.linear_model import LogisticRegression\n",
    "from sklearn.naive_bayes import MultinomialNB\n",
    "\n",
    "# Transformers\n",
    "from sklearn.feature_extraction.text import CountVectorizer\n",
    "from sklearn.model_selection import train_test_split\n",
    "from sklearn.metrics import accuracy_score,classification_report,confusion_matrix"
   ]
  },
  {
   "cell_type": "markdown",
   "metadata": {},
   "source": [
    "### Data Cleaning"
   ]
  },
  {
   "cell_type": "markdown",
   "metadata": {},
   "source": [
    "### Machine Learning"
   ]
  },
  {
   "cell_type": "code",
   "execution_count": 5,
   "metadata": {},
   "outputs": [
    {
     "data": {
      "text/html": [
       "<div>\n",
       "<style scoped>\n",
       "    .dataframe tbody tr th:only-of-type {\n",
       "        vertical-align: middle;\n",
       "    }\n",
       "\n",
       "    .dataframe tbody tr th {\n",
       "        vertical-align: top;\n",
       "    }\n",
       "\n",
       "    .dataframe thead th {\n",
       "        text-align: right;\n",
       "    }\n",
       "</style>\n",
       "<table border=\"1\" class=\"dataframe\">\n",
       "  <thead>\n",
       "    <tr style=\"text-align: right;\">\n",
       "      <th></th>\n",
       "      <th>label</th>\n",
       "      <th>tweet</th>\n",
       "    </tr>\n",
       "  </thead>\n",
       "  <tbody>\n",
       "    <tr>\n",
       "      <th>0</th>\n",
       "      <td>fear</td>\n",
       "      <td>Lebih menyeramkan kalo punya grup WA keluarga ...</td>\n",
       "    </tr>\n",
       "    <tr>\n",
       "      <th>1</th>\n",
       "      <td>joy</td>\n",
       "      <td>Hepibesdey canteeeekk [USERNAME] panjang umur,...</td>\n",
       "    </tr>\n",
       "    <tr>\n",
       "      <th>2</th>\n",
       "      <td>joy</td>\n",
       "      <td>Jumat lalu nonton inih! Selain tertarik settin...</td>\n",
       "    </tr>\n",
       "    <tr>\n",
       "      <th>3</th>\n",
       "      <td>joy</td>\n",
       "      <td>Nyante dulu.. Sruput kopi biar tambah bijak...</td>\n",
       "    </tr>\n",
       "    <tr>\n",
       "      <th>4</th>\n",
       "      <td>love</td>\n",
       "      <td>Happy annyversarry yg pertama kalinya .. Trsra...</td>\n",
       "    </tr>\n",
       "    <tr>\n",
       "      <th>...</th>\n",
       "      <td>...</td>\n",
       "      <td>...</td>\n",
       "    </tr>\n",
       "    <tr>\n",
       "      <th>5148</th>\n",
       "      <td>NaN</td>\n",
       "      <td>Aku termasuk orang yang tidak habis pikir deng...</td>\n",
       "    </tr>\n",
       "    <tr>\n",
       "      <th>5149</th>\n",
       "      <td>NaN</td>\n",
       "      <td>Melawan sibuk Selasamu, jangan patah semangat ...</td>\n",
       "    </tr>\n",
       "    <tr>\n",
       "      <th>5150</th>\n",
       "      <td>NaN</td>\n",
       "      <td>Momen di mana kamu merasa begitu mendalam terh...</td>\n",
       "    </tr>\n",
       "    <tr>\n",
       "      <th>5151</th>\n",
       "      <td>NaN</td>\n",
       "      <td>Tapi tentunya secara ini Bekasi ada hal-hal yg...</td>\n",
       "    </tr>\n",
       "    <tr>\n",
       "      <th>5152</th>\n",
       "      <td>NaN</td>\n",
       "      <td>Happy Mensive My Love makasih udh nemenin sela...</td>\n",
       "    </tr>\n",
       "  </tbody>\n",
       "</table>\n",
       "<p>5153 rows × 2 columns</p>\n",
       "</div>"
      ],
      "text/plain": [
       "     label                                              tweet\n",
       "0     fear  Lebih menyeramkan kalo punya grup WA keluarga ...\n",
       "1      joy  Hepibesdey canteeeekk [USERNAME] panjang umur,...\n",
       "2      joy  Jumat lalu nonton inih! Selain tertarik settin...\n",
       "3      joy     Nyante dulu.. Sruput kopi biar tambah bijak...\n",
       "4     love  Happy annyversarry yg pertama kalinya .. Trsra...\n",
       "...    ...                                                ...\n",
       "5148   NaN  Aku termasuk orang yang tidak habis pikir deng...\n",
       "5149   NaN  Melawan sibuk Selasamu, jangan patah semangat ...\n",
       "5150   NaN  Momen di mana kamu merasa begitu mendalam terh...\n",
       "5151   NaN  Tapi tentunya secara ini Bekasi ada hal-hal yg...\n",
       "5152   NaN  Happy Mensive My Love makasih udh nemenin sela...\n",
       "\n",
       "[5153 rows x 2 columns]"
      ]
     },
     "execution_count": 5,
     "metadata": {},
     "output_type": "execute_result"
    }
   ],
   "source": [
    "# Membaca File\n",
    "data_emotion = pd.read_csv(\"Dataset Babak Penyisihan.csv\")\n",
    "data_emotion"
   ]
  },
  {
   "cell_type": "code",
   "execution_count": 15,
   "metadata": {},
   "outputs": [
    {
     "data": {
      "text/plain": [
       "label    1000\n",
       "tweet       2\n",
       "dtype: int64"
      ]
     },
     "execution_count": 15,
     "metadata": {},
     "output_type": "execute_result"
    }
   ],
   "source": [
    "# Memisahkan Data Mentah dan Predict\n",
    "# data_emotion.dropna(subset = \"label\")\n",
    "for i in data_emotion.index :\n",
    "    if (data_emotion.loc[i,\"label\"] is None) :\n",
    "        data_emotion.drop(i, index = True)\n",
    "        print(\"oke\")\n",
    "cek_notKosong = data_emotion.isnull().sum()\n",
    "cek_notKosong"
   ]
  },
  {
   "cell_type": "code",
   "execution_count": null,
   "metadata": {},
   "outputs": [],
   "source": []
  }
 ],
 "metadata": {
  "kernelspec": {
   "display_name": "Python 3",
   "language": "python",
   "name": "python3"
  },
  "language_info": {
   "codemirror_mode": {
    "name": "ipython",
    "version": 3
   },
   "file_extension": ".py",
   "mimetype": "text/x-python",
   "name": "python",
   "nbconvert_exporter": "python",
   "pygments_lexer": "ipython3",
   "version": "3.9.6"
  },
  "orig_nbformat": 4
 },
 "nbformat": 4,
 "nbformat_minor": 2
}
