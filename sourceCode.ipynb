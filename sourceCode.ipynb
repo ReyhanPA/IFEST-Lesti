{
 "cells": [
  {
   "cell_type": "markdown",
   "metadata": {},
   "source": [
    "### Persiapan Data"
   ]
  },
  {
   "cell_type": "markdown",
   "metadata": {},
   "source": [
    "#### 01. Import Library"
   ]
  },
  {
   "cell_type": "code",
   "execution_count": 146,
   "metadata": {},
   "outputs": [],
   "source": [
    "# EDA\n",
    "import pandas as pd\n",
    "import numpy as np"
   ]
  },
  {
   "cell_type": "code",
   "execution_count": 147,
   "metadata": {},
   "outputs": [],
   "source": [
    "# Data Visualization\n",
    "import matplotlib.pyplot as plt\n",
    "import seaborn as sns"
   ]
  },
  {
   "cell_type": "code",
   "execution_count": 148,
   "metadata": {},
   "outputs": [],
   "source": [
    "# Text Cleaning\n",
    "import neattext.functions as nfx"
   ]
  },
  {
   "cell_type": "code",
   "execution_count": 149,
   "metadata": {},
   "outputs": [],
   "source": [
    "# Machine Learning\n",
    "# Estimators\n",
    "from sklearn.linear_model import LogisticRegression\n",
    "from sklearn.naive_bayes import MultinomialNB\n",
    "\n",
    "# Transformers\n",
    "from sklearn.feature_extraction.text import CountVectorizer\n",
    "from sklearn.model_selection import train_test_split\n",
    "from sklearn.metrics import accuracy_score,classification_report,confusion_matrix"
   ]
  },
  {
   "cell_type": "markdown",
   "metadata": {},
   "source": [
    "#### 02. Load Data"
   ]
  },
  {
   "cell_type": "code",
   "execution_count": 150,
   "metadata": {},
   "outputs": [
    {
     "data": {
      "text/html": [
       "<div>\n",
       "<style scoped>\n",
       "    .dataframe tbody tr th:only-of-type {\n",
       "        vertical-align: middle;\n",
       "    }\n",
       "\n",
       "    .dataframe tbody tr th {\n",
       "        vertical-align: top;\n",
       "    }\n",
       "\n",
       "    .dataframe thead th {\n",
       "        text-align: right;\n",
       "    }\n",
       "</style>\n",
       "<table border=\"1\" class=\"dataframe\">\n",
       "  <thead>\n",
       "    <tr style=\"text-align: right;\">\n",
       "      <th></th>\n",
       "      <th>label</th>\n",
       "      <th>tweet</th>\n",
       "    </tr>\n",
       "  </thead>\n",
       "  <tbody>\n",
       "    <tr>\n",
       "      <th>0</th>\n",
       "      <td>fear</td>\n",
       "      <td>Lebih menyeramkan kalo punya grup WA keluarga ...</td>\n",
       "    </tr>\n",
       "    <tr>\n",
       "      <th>1</th>\n",
       "      <td>joy</td>\n",
       "      <td>Hepibesdey canteeeekk [USERNAME] panjang umur,...</td>\n",
       "    </tr>\n",
       "    <tr>\n",
       "      <th>2</th>\n",
       "      <td>joy</td>\n",
       "      <td>Jumat lalu nonton inih! Selain tertarik settin...</td>\n",
       "    </tr>\n",
       "    <tr>\n",
       "      <th>3</th>\n",
       "      <td>joy</td>\n",
       "      <td>Nyante dulu.. Sruput kopi biar tambah bijak...</td>\n",
       "    </tr>\n",
       "    <tr>\n",
       "      <th>4</th>\n",
       "      <td>love</td>\n",
       "      <td>Happy annyversarry yg pertama kalinya .. Trsra...</td>\n",
       "    </tr>\n",
       "    <tr>\n",
       "      <th>...</th>\n",
       "      <td>...</td>\n",
       "      <td>...</td>\n",
       "    </tr>\n",
       "    <tr>\n",
       "      <th>5148</th>\n",
       "      <td>NaN</td>\n",
       "      <td>Aku termasuk orang yang tidak habis pikir deng...</td>\n",
       "    </tr>\n",
       "    <tr>\n",
       "      <th>5149</th>\n",
       "      <td>NaN</td>\n",
       "      <td>Melawan sibuk Selasamu, jangan patah semangat ...</td>\n",
       "    </tr>\n",
       "    <tr>\n",
       "      <th>5150</th>\n",
       "      <td>NaN</td>\n",
       "      <td>Momen di mana kamu merasa begitu mendalam terh...</td>\n",
       "    </tr>\n",
       "    <tr>\n",
       "      <th>5151</th>\n",
       "      <td>NaN</td>\n",
       "      <td>Tapi tentunya secara ini Bekasi ada hal-hal yg...</td>\n",
       "    </tr>\n",
       "    <tr>\n",
       "      <th>5152</th>\n",
       "      <td>NaN</td>\n",
       "      <td>Happy Mensive My Love makasih udh nemenin sela...</td>\n",
       "    </tr>\n",
       "  </tbody>\n",
       "</table>\n",
       "<p>5153 rows × 2 columns</p>\n",
       "</div>"
      ],
      "text/plain": [
       "     label                                              tweet\n",
       "0     fear  Lebih menyeramkan kalo punya grup WA keluarga ...\n",
       "1      joy  Hepibesdey canteeeekk [USERNAME] panjang umur,...\n",
       "2      joy  Jumat lalu nonton inih! Selain tertarik settin...\n",
       "3      joy     Nyante dulu.. Sruput kopi biar tambah bijak...\n",
       "4     love  Happy annyversarry yg pertama kalinya .. Trsra...\n",
       "...    ...                                                ...\n",
       "5148   NaN  Aku termasuk orang yang tidak habis pikir deng...\n",
       "5149   NaN  Melawan sibuk Selasamu, jangan patah semangat ...\n",
       "5150   NaN  Momen di mana kamu merasa begitu mendalam terh...\n",
       "5151   NaN  Tapi tentunya secara ini Bekasi ada hal-hal yg...\n",
       "5152   NaN  Happy Mensive My Love makasih udh nemenin sela...\n",
       "\n",
       "[5153 rows x 2 columns]"
      ]
     },
     "execution_count": 150,
     "metadata": {},
     "output_type": "execute_result"
    }
   ],
   "source": [
    "# Membaca Dataset Berisi\n",
    "dataset = pd.read_csv(\"Dataset Babak Penyisihan.csv\")\n",
    "dataset"
   ]
  },
  {
   "cell_type": "code",
   "execution_count": 151,
   "metadata": {},
   "outputs": [],
   "source": [
    "# Membuat Dataset Berisi dan Prediksi Terpisah\n",
    "dataset_berisi = dataset.dropna(how = \"any\").reset_index(drop = True)\n",
    "dataset_prediksi = dataset[dataset.isnull().any(axis = 1)].reset_index(drop = True)"
   ]
  },
  {
   "cell_type": "markdown",
   "metadata": {},
   "source": [
    "#### 03. Data Cleaning"
   ]
  },
  {
   "cell_type": "code",
   "execution_count": 152,
   "metadata": {},
   "outputs": [
    {
     "data": {
      "text/html": [
       "<div>\n",
       "<style scoped>\n",
       "    .dataframe tbody tr th:only-of-type {\n",
       "        vertical-align: middle;\n",
       "    }\n",
       "\n",
       "    .dataframe tbody tr th {\n",
       "        vertical-align: top;\n",
       "    }\n",
       "\n",
       "    .dataframe thead th {\n",
       "        text-align: right;\n",
       "    }\n",
       "</style>\n",
       "<table border=\"1\" class=\"dataframe\">\n",
       "  <thead>\n",
       "    <tr style=\"text-align: right;\">\n",
       "      <th></th>\n",
       "      <th>label</th>\n",
       "      <th>tweet</th>\n",
       "    </tr>\n",
       "  </thead>\n",
       "  <tbody>\n",
       "    <tr>\n",
       "      <th>0</th>\n",
       "      <td>NaN</td>\n",
       "      <td>Saya taKan raguKan besarNya kasih sayang Tuhan...</td>\n",
       "    </tr>\n",
       "    <tr>\n",
       "      <th>1</th>\n",
       "      <td>NaN</td>\n",
       "      <td>Cc in ke cebong2 dungu... Maksd hati pengen ca...</td>\n",
       "    </tr>\n",
       "    <tr>\n",
       "      <th>2</th>\n",
       "      <td>NaN</td>\n",
       "      <td>Nah, yg keterlaluan adl kalo ada pjbt eselon y...</td>\n",
       "    </tr>\n",
       "    <tr>\n",
       "      <th>3</th>\n",
       "      <td>NaN</td>\n",
       "      <td>Melody masih membatasi diri ala member ya? Yan...</td>\n",
       "    </tr>\n",
       "    <tr>\n",
       "      <th>4</th>\n",
       "      <td>NaN</td>\n",
       "      <td>Rasa amarah ini membuatku merasa seperti aku a...</td>\n",
       "    </tr>\n",
       "    <tr>\n",
       "      <th>...</th>\n",
       "      <td>...</td>\n",
       "      <td>...</td>\n",
       "    </tr>\n",
       "    <tr>\n",
       "      <th>995</th>\n",
       "      <td>NaN</td>\n",
       "      <td>Aku termasuk orang yang tidak habis pikir deng...</td>\n",
       "    </tr>\n",
       "    <tr>\n",
       "      <th>996</th>\n",
       "      <td>NaN</td>\n",
       "      <td>Melawan sibuk Selasamu, jangan patah semangat ...</td>\n",
       "    </tr>\n",
       "    <tr>\n",
       "      <th>997</th>\n",
       "      <td>NaN</td>\n",
       "      <td>Momen di mana kamu merasa begitu mendalam terh...</td>\n",
       "    </tr>\n",
       "    <tr>\n",
       "      <th>998</th>\n",
       "      <td>NaN</td>\n",
       "      <td>Tapi tentunya secara ini Bekasi ada hal-hal yg...</td>\n",
       "    </tr>\n",
       "    <tr>\n",
       "      <th>999</th>\n",
       "      <td>NaN</td>\n",
       "      <td>Happy Mensive My Love makasih udh nemenin sela...</td>\n",
       "    </tr>\n",
       "  </tbody>\n",
       "</table>\n",
       "<p>1000 rows × 2 columns</p>\n",
       "</div>"
      ],
      "text/plain": [
       "    label                                              tweet\n",
       "0     NaN  Saya taKan raguKan besarNya kasih sayang Tuhan...\n",
       "1     NaN  Cc in ke cebong2 dungu... Maksd hati pengen ca...\n",
       "2     NaN  Nah, yg keterlaluan adl kalo ada pjbt eselon y...\n",
       "3     NaN  Melody masih membatasi diri ala member ya? Yan...\n",
       "4     NaN  Rasa amarah ini membuatku merasa seperti aku a...\n",
       "..    ...                                                ...\n",
       "995   NaN  Aku termasuk orang yang tidak habis pikir deng...\n",
       "996   NaN  Melawan sibuk Selasamu, jangan patah semangat ...\n",
       "997   NaN  Momen di mana kamu merasa begitu mendalam terh...\n",
       "998   NaN  Tapi tentunya secara ini Bekasi ada hal-hal yg...\n",
       "999   NaN  Happy Mensive My Love makasih udh nemenin sela...\n",
       "\n",
       "[1000 rows x 2 columns]"
      ]
     },
     "execution_count": 152,
     "metadata": {},
     "output_type": "execute_result"
    }
   ],
   "source": [
    "# Data Cleaning Column \"tweet\" dari dataset_prediksi\n",
    "dataset_prediksi.dropna(subset = [\"tweet\"], inplace = True)\n",
    "dataset_prediksi.reset_index(drop=True, inplace=True)\n",
    "dataset_prediksi"
   ]
  },
  {
   "cell_type": "code",
   "execution_count": 153,
   "metadata": {},
   "outputs": [
    {
     "ename": "SyntaxError",
     "evalue": "invalid non-printable character U+00A0 (Temp/ipykernel_12312/1543990807.py, line 4)",
     "output_type": "error",
     "traceback": [
      "\u001b[1;36m  File \u001b[1;32m\"C:\\Users\\Reihan\\AppData\\Local\\Temp/ipykernel_12312/1543990807.py\"\u001b[1;36m, line \u001b[1;32m4\u001b[0m\n\u001b[1;33m    dataset_berisi = dataset_berisi[~dataset_berisi['Column1'].str.contains('[USERNAME]', case=False, na=False)]\u001b[0m\n\u001b[1;37m                                                                                                     ^\u001b[0m\n\u001b[1;31mSyntaxError\u001b[0m\u001b[1;31m:\u001b[0m invalid non-printable character U+00A0\n"
     ]
    }
   ],
   "source": [
    "# Data Cleaning Column \"tweet\" dari dataset_berisi\n",
    "# Stopwords\n",
    "dataset_berisi[\"teks_bersih\"] = dataset_berisi[\"tweet\"].apply(nfx.remove_stopwords)\n",
    "dataset_berisi = dataset_berisi[~dataset_berisi['Column1'].str.contains(r'\\[USERNAME]', case=False, na=False)]\n"
   ]
  },
  {
   "cell_type": "markdown",
   "metadata": {},
   "source": [
    "### Pemrosesan Data"
   ]
  },
  {
   "cell_type": "markdown",
   "metadata": {},
   "source": [
    "### Machine Learning"
   ]
  },
  {
   "cell_type": "code",
   "execution_count": null,
   "metadata": {},
   "outputs": [],
   "source": []
  }
 ],
 "metadata": {
  "kernelspec": {
   "display_name": "Python 3",
   "language": "python",
   "name": "python3"
  },
  "language_info": {
   "codemirror_mode": {
    "name": "ipython",
    "version": 3
   },
   "file_extension": ".py",
   "mimetype": "text/x-python",
   "name": "python",
   "nbconvert_exporter": "python",
   "pygments_lexer": "ipython3",
   "version": "3.9.6"
  },
  "orig_nbformat": 4
 },
 "nbformat": 4,
 "nbformat_minor": 2
}
