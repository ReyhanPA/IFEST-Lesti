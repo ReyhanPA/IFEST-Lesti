{
 "cells": [
  {
   "cell_type": "markdown",
   "metadata": {},
   "source": [
    "### Persiapan Data"
   ]
  },
  {
   "cell_type": "markdown",
   "metadata": {},
   "source": [
    "#### 01. Import Library"
   ]
  },
  {
   "cell_type": "code",
   "execution_count": 21,
   "metadata": {},
   "outputs": [],
   "source": [
    "# EDA\n",
    "import pandas as pd\n",
    "import numpy as np"
   ]
  },
  {
   "cell_type": "code",
   "execution_count": 22,
   "metadata": {},
   "outputs": [],
   "source": [
    "# Data Visualization\n",
    "import matplotlib.pyplot as plt\n",
    "import seaborn as sns"
   ]
  },
  {
   "cell_type": "code",
   "execution_count": 23,
   "metadata": {},
   "outputs": [],
   "source": [
    "# Text Cleaning\n",
    "import neattext.functions as nfx"
   ]
  },
  {
   "cell_type": "code",
   "execution_count": 24,
   "metadata": {},
   "outputs": [],
   "source": [
    "# Machine Learning\n",
    "# Estimators\n",
    "from sklearn.linear_model import LogisticRegression\n",
    "from sklearn.naive_bayes import MultinomialNB\n",
    "\n",
    "# Transformers\n",
    "from sklearn.feature_extraction.text import CountVectorizer\n",
    "from sklearn.model_selection import train_test_split\n",
    "from sklearn.metrics import accuracy_score,classification_report,confusion_matrix"
   ]
  },
  {
   "cell_type": "code",
   "execution_count": 25,
   "metadata": {},
   "outputs": [],
   "source": [
    "from textblob import TextBlob as tb"
   ]
  },
  {
   "cell_type": "markdown",
   "metadata": {},
   "source": [
    "#### 02. Load Data"
   ]
  },
  {
   "cell_type": "code",
   "execution_count": 26,
   "metadata": {},
   "outputs": [
    {
     "data": {
      "text/html": [
       "<div>\n",
       "<style scoped>\n",
       "    .dataframe tbody tr th:only-of-type {\n",
       "        vertical-align: middle;\n",
       "    }\n",
       "\n",
       "    .dataframe tbody tr th {\n",
       "        vertical-align: top;\n",
       "    }\n",
       "\n",
       "    .dataframe thead th {\n",
       "        text-align: right;\n",
       "    }\n",
       "</style>\n",
       "<table border=\"1\" class=\"dataframe\">\n",
       "  <thead>\n",
       "    <tr style=\"text-align: right;\">\n",
       "      <th></th>\n",
       "      <th>label</th>\n",
       "      <th>tweet</th>\n",
       "    </tr>\n",
       "  </thead>\n",
       "  <tbody>\n",
       "    <tr>\n",
       "      <th>0</th>\n",
       "      <td>fear</td>\n",
       "      <td>Lebih menyeramkan kalo punya grup WA keluarga ...</td>\n",
       "    </tr>\n",
       "    <tr>\n",
       "      <th>1</th>\n",
       "      <td>joy</td>\n",
       "      <td>Hepibesdey canteeeekk [USERNAME] panjang umur,...</td>\n",
       "    </tr>\n",
       "    <tr>\n",
       "      <th>2</th>\n",
       "      <td>joy</td>\n",
       "      <td>Jumat lalu nonton inih! Selain tertarik settin...</td>\n",
       "    </tr>\n",
       "    <tr>\n",
       "      <th>3</th>\n",
       "      <td>joy</td>\n",
       "      <td>Nyante dulu.. Sruput kopi biar tambah bijak...</td>\n",
       "    </tr>\n",
       "    <tr>\n",
       "      <th>4</th>\n",
       "      <td>love</td>\n",
       "      <td>Happy annyversarry yg pertama kalinya .. Trsra...</td>\n",
       "    </tr>\n",
       "    <tr>\n",
       "      <th>...</th>\n",
       "      <td>...</td>\n",
       "      <td>...</td>\n",
       "    </tr>\n",
       "    <tr>\n",
       "      <th>5148</th>\n",
       "      <td>NaN</td>\n",
       "      <td>Aku termasuk orang yang tidak habis pikir deng...</td>\n",
       "    </tr>\n",
       "    <tr>\n",
       "      <th>5149</th>\n",
       "      <td>NaN</td>\n",
       "      <td>Melawan sibuk Selasamu, jangan patah semangat ...</td>\n",
       "    </tr>\n",
       "    <tr>\n",
       "      <th>5150</th>\n",
       "      <td>NaN</td>\n",
       "      <td>Momen di mana kamu merasa begitu mendalam terh...</td>\n",
       "    </tr>\n",
       "    <tr>\n",
       "      <th>5151</th>\n",
       "      <td>NaN</td>\n",
       "      <td>Tapi tentunya secara ini Bekasi ada hal-hal yg...</td>\n",
       "    </tr>\n",
       "    <tr>\n",
       "      <th>5152</th>\n",
       "      <td>NaN</td>\n",
       "      <td>Happy Mensive My Love makasih udh nemenin sela...</td>\n",
       "    </tr>\n",
       "  </tbody>\n",
       "</table>\n",
       "<p>5153 rows × 2 columns</p>\n",
       "</div>"
      ],
      "text/plain": [
       "     label                                              tweet\n",
       "0     fear  Lebih menyeramkan kalo punya grup WA keluarga ...\n",
       "1      joy  Hepibesdey canteeeekk [USERNAME] panjang umur,...\n",
       "2      joy  Jumat lalu nonton inih! Selain tertarik settin...\n",
       "3      joy     Nyante dulu.. Sruput kopi biar tambah bijak...\n",
       "4     love  Happy annyversarry yg pertama kalinya .. Trsra...\n",
       "...    ...                                                ...\n",
       "5148   NaN  Aku termasuk orang yang tidak habis pikir deng...\n",
       "5149   NaN  Melawan sibuk Selasamu, jangan patah semangat ...\n",
       "5150   NaN  Momen di mana kamu merasa begitu mendalam terh...\n",
       "5151   NaN  Tapi tentunya secara ini Bekasi ada hal-hal yg...\n",
       "5152   NaN  Happy Mensive My Love makasih udh nemenin sela...\n",
       "\n",
       "[5153 rows x 2 columns]"
      ]
     },
     "execution_count": 26,
     "metadata": {},
     "output_type": "execute_result"
    }
   ],
   "source": [
    "# Membaca Dataset Berisi\n",
    "dataset = pd.read_csv(\"Dataset Babak Penyisihan.csv\")\n",
    "dataset"
   ]
  },
  {
   "cell_type": "code",
   "execution_count": 27,
   "metadata": {},
   "outputs": [],
   "source": [
    "# Membuat Dataset Berisi dan Prediksi Terpisah\n",
    "dataset_berisi = dataset.dropna(how = \"any\").reset_index(drop = True)\n",
    "dataset_prediksi = dataset[dataset.isnull().any(axis = 1)].reset_index(drop = True)"
   ]
  },
  {
   "cell_type": "markdown",
   "metadata": {},
   "source": [
    "#### 03. Data Cleaning"
   ]
  },
  {
   "cell_type": "code",
   "execution_count": 28,
   "metadata": {},
   "outputs": [
    {
     "data": {
      "text/html": [
       "<div>\n",
       "<style scoped>\n",
       "    .dataframe tbody tr th:only-of-type {\n",
       "        vertical-align: middle;\n",
       "    }\n",
       "\n",
       "    .dataframe tbody tr th {\n",
       "        vertical-align: top;\n",
       "    }\n",
       "\n",
       "    .dataframe thead th {\n",
       "        text-align: right;\n",
       "    }\n",
       "</style>\n",
       "<table border=\"1\" class=\"dataframe\">\n",
       "  <thead>\n",
       "    <tr style=\"text-align: right;\">\n",
       "      <th></th>\n",
       "      <th>label</th>\n",
       "      <th>tweet</th>\n",
       "      <th>teks_bersih</th>\n",
       "    </tr>\n",
       "  </thead>\n",
       "  <tbody>\n",
       "    <tr>\n",
       "      <th>0</th>\n",
       "      <td>NaN</td>\n",
       "      <td>Saya taKan raguKan besarNya kasih sayang Tuhan...</td>\n",
       "      <td>Saya taKan raguKan besarNya kasih sayang Tuhan...</td>\n",
       "    </tr>\n",
       "    <tr>\n",
       "      <th>1</th>\n",
       "      <td>NaN</td>\n",
       "      <td>Cc in ke cebong2 dungu... Maksd hati pengen ca...</td>\n",
       "      <td>Cc ke cebong2 dungu Maksd hati pengen cari kes...</td>\n",
       "    </tr>\n",
       "    <tr>\n",
       "      <th>2</th>\n",
       "      <td>NaN</td>\n",
       "      <td>Nah, yg keterlaluan adl kalo ada pjbt eselon y...</td>\n",
       "      <td>Nah yg keterlaluan adl kalo ada pjbt eselon yg...</td>\n",
       "    </tr>\n",
       "    <tr>\n",
       "      <th>3</th>\n",
       "      <td>NaN</td>\n",
       "      <td>Melody masih membatasi diri ala member ya? Yan...</td>\n",
       "      <td>Melody masih membatasi diri ala member ya Yang...</td>\n",
       "    </tr>\n",
       "    <tr>\n",
       "      <th>4</th>\n",
       "      <td>NaN</td>\n",
       "      <td>Rasa amarah ini membuatku merasa seperti aku a...</td>\n",
       "      <td>Rasa amarah ini membuatku merasa seperti aku a...</td>\n",
       "    </tr>\n",
       "    <tr>\n",
       "      <th>...</th>\n",
       "      <td>...</td>\n",
       "      <td>...</td>\n",
       "      <td>...</td>\n",
       "    </tr>\n",
       "    <tr>\n",
       "      <th>995</th>\n",
       "      <td>NaN</td>\n",
       "      <td>Aku termasuk orang yang tidak habis pikir deng...</td>\n",
       "      <td>Aku termasuk orang yang tidak habis pikir deng...</td>\n",
       "    </tr>\n",
       "    <tr>\n",
       "      <th>996</th>\n",
       "      <td>NaN</td>\n",
       "      <td>Melawan sibuk Selasamu, jangan patah semangat ...</td>\n",
       "      <td>Melawan sibuk Selasamu jangan patah semangat yah</td>\n",
       "    </tr>\n",
       "    <tr>\n",
       "      <th>997</th>\n",
       "      <td>NaN</td>\n",
       "      <td>Momen di mana kamu merasa begitu mendalam terh...</td>\n",
       "      <td>Momen di mana kamu merasa begitu mendalam terh...</td>\n",
       "    </tr>\n",
       "    <tr>\n",
       "      <th>998</th>\n",
       "      <td>NaN</td>\n",
       "      <td>Tapi tentunya secara ini Bekasi ada hal-hal yg...</td>\n",
       "      <td>Tapi tentunya secara ini Bekasi ada halhal yg ...</td>\n",
       "    </tr>\n",
       "    <tr>\n",
       "      <th>999</th>\n",
       "      <td>NaN</td>\n",
       "      <td>Happy Mensive My Love makasih udh nemenin sela...</td>\n",
       "      <td>Happy Mensive Love makasih udh nemenin selama ...</td>\n",
       "    </tr>\n",
       "  </tbody>\n",
       "</table>\n",
       "<p>1000 rows × 3 columns</p>\n",
       "</div>"
      ],
      "text/plain": [
       "    label                                              tweet  \\\n",
       "0     NaN  Saya taKan raguKan besarNya kasih sayang Tuhan...   \n",
       "1     NaN  Cc in ke cebong2 dungu... Maksd hati pengen ca...   \n",
       "2     NaN  Nah, yg keterlaluan adl kalo ada pjbt eselon y...   \n",
       "3     NaN  Melody masih membatasi diri ala member ya? Yan...   \n",
       "4     NaN  Rasa amarah ini membuatku merasa seperti aku a...   \n",
       "..    ...                                                ...   \n",
       "995   NaN  Aku termasuk orang yang tidak habis pikir deng...   \n",
       "996   NaN  Melawan sibuk Selasamu, jangan patah semangat ...   \n",
       "997   NaN  Momen di mana kamu merasa begitu mendalam terh...   \n",
       "998   NaN  Tapi tentunya secara ini Bekasi ada hal-hal yg...   \n",
       "999   NaN  Happy Mensive My Love makasih udh nemenin sela...   \n",
       "\n",
       "                                           teks_bersih  \n",
       "0    Saya taKan raguKan besarNya kasih sayang Tuhan...  \n",
       "1    Cc ke cebong2 dungu Maksd hati pengen cari kes...  \n",
       "2    Nah yg keterlaluan adl kalo ada pjbt eselon yg...  \n",
       "3    Melody masih membatasi diri ala member ya Yang...  \n",
       "4    Rasa amarah ini membuatku merasa seperti aku a...  \n",
       "..                                                 ...  \n",
       "995  Aku termasuk orang yang tidak habis pikir deng...  \n",
       "996   Melawan sibuk Selasamu jangan patah semangat yah  \n",
       "997  Momen di mana kamu merasa begitu mendalam terh...  \n",
       "998  Tapi tentunya secara ini Bekasi ada halhal yg ...  \n",
       "999  Happy Mensive Love makasih udh nemenin selama ...  \n",
       "\n",
       "[1000 rows x 3 columns]"
      ]
     },
     "execution_count": 28,
     "metadata": {},
     "output_type": "execute_result"
    }
   ],
   "source": [
    "# Data Cleaning Column \"tweet\" dari dataset_prediksi\n",
    "dataset_prediksi.dropna(subset = [\"tweet\"], inplace = True)\n",
    "dataset_prediksi.reset_index(drop=True, inplace=True)\n",
    "\n",
    "# Stopwords (Menghapus Kata Tidak Penting, seperti a, the, dll)\n",
    "dataset_prediksi[\"teks_bersih\"] = dataset_prediksi[\"tweet\"].apply(nfx.remove_stopwords)\n",
    "\n",
    "# Menghapus Kata [USERNAME]\n",
    "dataset_prediksi[\"teks_bersih\"] = dataset_prediksi['teks_bersih'].str.replace(r\"\\[USERNAME]\", \"\")\n",
    "\n",
    "# Menghapus koma, titik, dan lain lain\n",
    "dataset_prediksi[\"teks_bersih\"] = dataset_prediksi[\"teks_bersih\"].apply(nfx.remove_punctuations)\n",
    "dataset_prediksi"
   ]
  },
  {
   "cell_type": "code",
   "execution_count": 29,
   "metadata": {},
   "outputs": [
    {
     "data": {
      "text/html": [
       "<div>\n",
       "<style scoped>\n",
       "    .dataframe tbody tr th:only-of-type {\n",
       "        vertical-align: middle;\n",
       "    }\n",
       "\n",
       "    .dataframe tbody tr th {\n",
       "        vertical-align: top;\n",
       "    }\n",
       "\n",
       "    .dataframe thead th {\n",
       "        text-align: right;\n",
       "    }\n",
       "</style>\n",
       "<table border=\"1\" class=\"dataframe\">\n",
       "  <thead>\n",
       "    <tr style=\"text-align: right;\">\n",
       "      <th></th>\n",
       "      <th>label</th>\n",
       "      <th>tweet</th>\n",
       "      <th>teks_bersih</th>\n",
       "    </tr>\n",
       "  </thead>\n",
       "  <tbody>\n",
       "    <tr>\n",
       "      <th>0</th>\n",
       "      <td>fear</td>\n",
       "      <td>Lebih menyeramkan kalo punya grup WA keluarga ...</td>\n",
       "      <td>Lebih menyeramkan kalo punya grup WA keluarga ...</td>\n",
       "    </tr>\n",
       "    <tr>\n",
       "      <th>1</th>\n",
       "      <td>joy</td>\n",
       "      <td>Hepibesdey canteeeekk [USERNAME] panjang umur,...</td>\n",
       "      <td>Hepibesdey canteeeekk  panjang umur jadi priba...</td>\n",
       "    </tr>\n",
       "    <tr>\n",
       "      <th>2</th>\n",
       "      <td>joy</td>\n",
       "      <td>Jumat lalu nonton inih! Selain tertarik settin...</td>\n",
       "      <td>Jumat lalu nonton inih Selain tertarik setting...</td>\n",
       "    </tr>\n",
       "    <tr>\n",
       "      <th>3</th>\n",
       "      <td>joy</td>\n",
       "      <td>Nyante dulu.. Sruput kopi biar tambah bijak...</td>\n",
       "      <td>Nyante dulu Sruput kopi biar tambah bijak</td>\n",
       "    </tr>\n",
       "    <tr>\n",
       "      <th>4</th>\n",
       "      <td>love</td>\n",
       "      <td>Happy annyversarry yg pertama kalinya .. Trsra...</td>\n",
       "      <td>Happy annyversarry yg pertama kalinya  Trsrah ...</td>\n",
       "    </tr>\n",
       "    <tr>\n",
       "      <th>...</th>\n",
       "      <td>...</td>\n",
       "      <td>...</td>\n",
       "      <td>...</td>\n",
       "    </tr>\n",
       "    <tr>\n",
       "      <th>4146</th>\n",
       "      <td>anger</td>\n",
       "      <td>sini berobat sama saya ini ngantri dokter saja...</td>\n",
       "      <td>sini berobat sama saya ini ngantri dokter saja...</td>\n",
       "    </tr>\n",
       "    <tr>\n",
       "      <th>4147</th>\n",
       "      <td>joy</td>\n",
       "      <td>Selamat pagi generasi Tik Tok yang kadang kepa...</td>\n",
       "      <td>Selamat pagi generasi Tik Tok yang kadang kepa...</td>\n",
       "    </tr>\n",
       "    <tr>\n",
       "      <th>4148</th>\n",
       "      <td>love</td>\n",
       "      <td>Salah satu sahabat terbaik! Teman, kakak, insp...</td>\n",
       "      <td>Salah satu sahabat terbaik Teman kakak inspira...</td>\n",
       "    </tr>\n",
       "    <tr>\n",
       "      <th>4149</th>\n",
       "      <td>anger</td>\n",
       "      <td>[USERNAME] Gila kok ada ya perempuan pikiranny...</td>\n",
       "      <td>Gila kok ada ya perempuan pikirannya malah ny...</td>\n",
       "    </tr>\n",
       "    <tr>\n",
       "      <th>4150</th>\n",
       "      <td>anger</td>\n",
       "      <td>[USERNAME] saya coba hubungi yg di cakung dan ...</td>\n",
       "      <td>saya coba hubungi yg di cakung dan minta di w...</td>\n",
       "    </tr>\n",
       "  </tbody>\n",
       "</table>\n",
       "<p>4151 rows × 3 columns</p>\n",
       "</div>"
      ],
      "text/plain": [
       "      label                                              tweet  \\\n",
       "0      fear  Lebih menyeramkan kalo punya grup WA keluarga ...   \n",
       "1       joy  Hepibesdey canteeeekk [USERNAME] panjang umur,...   \n",
       "2       joy  Jumat lalu nonton inih! Selain tertarik settin...   \n",
       "3       joy     Nyante dulu.. Sruput kopi biar tambah bijak...   \n",
       "4      love  Happy annyversarry yg pertama kalinya .. Trsra...   \n",
       "...     ...                                                ...   \n",
       "4146  anger  sini berobat sama saya ini ngantri dokter saja...   \n",
       "4147    joy  Selamat pagi generasi Tik Tok yang kadang kepa...   \n",
       "4148   love  Salah satu sahabat terbaik! Teman, kakak, insp...   \n",
       "4149  anger  [USERNAME] Gila kok ada ya perempuan pikiranny...   \n",
       "4150  anger  [USERNAME] saya coba hubungi yg di cakung dan ...   \n",
       "\n",
       "                                            teks_bersih  \n",
       "0     Lebih menyeramkan kalo punya grup WA keluarga ...  \n",
       "1     Hepibesdey canteeeekk  panjang umur jadi priba...  \n",
       "2     Jumat lalu nonton inih Selain tertarik setting...  \n",
       "3             Nyante dulu Sruput kopi biar tambah bijak  \n",
       "4     Happy annyversarry yg pertama kalinya  Trsrah ...  \n",
       "...                                                 ...  \n",
       "4146  sini berobat sama saya ini ngantri dokter saja...  \n",
       "4147  Selamat pagi generasi Tik Tok yang kadang kepa...  \n",
       "4148  Salah satu sahabat terbaik Teman kakak inspira...  \n",
       "4149   Gila kok ada ya perempuan pikirannya malah ny...  \n",
       "4150   saya coba hubungi yg di cakung dan minta di w...  \n",
       "\n",
       "[4151 rows x 3 columns]"
      ]
     },
     "execution_count": 29,
     "metadata": {},
     "output_type": "execute_result"
    }
   ],
   "source": [
    "# Data Cleaning Column \"tweet\" dari dataset_berisi\n",
    "# Stopwords (Menghapus Kata Tidak Penting, seperti a, the, dll)\n",
    "dataset_berisi[\"teks_bersih\"] = dataset_berisi[\"tweet\"].apply(nfx.remove_stopwords)\n",
    "\n",
    "# Menghapus Kata [USERNAME]\n",
    "dataset_berisi[\"teks_bersih\"] = dataset_berisi['teks_bersih'].str.replace(r\"[USERNAME]\", \"\")\n",
    "\n",
    "# Menghapus koma, titik, dan lain lain\n",
    "dataset_berisi[\"teks_bersih\"] = dataset_berisi[\"teks_bersih\"].apply(nfx.remove_punctuations)\n",
    "\n",
    "dataset_berisi\n"
   ]
  },
  {
   "cell_type": "markdown",
   "metadata": {},
   "source": [
    "### Pemrosesan Data"
   ]
  },
  {
   "cell_type": "code",
   "execution_count": 30,
   "metadata": {},
   "outputs": [
    {
     "data": {
      "text/plain": [
       "label\n",
       "sadness    1122\n",
       "joy        1002\n",
       "anger       875\n",
       "fear        654\n",
       "love        498\n",
       "Name: count, dtype: int64"
      ]
     },
     "execution_count": 30,
     "metadata": {},
     "output_type": "execute_result"
    }
   ],
   "source": [
    "#Banyak label emoticon\n",
    "dataset_berisi[\"label\"].value_counts()"
   ]
  },
  {
   "cell_type": "code",
   "execution_count": 31,
   "metadata": {},
   "outputs": [
    {
     "name": "stderr",
     "output_type": "stream",
     "text": [
      "C:\\Users\\user\\AppData\\Roaming\\Python\\Python310\\site-packages\\seaborn\\_oldcore.py:1498: FutureWarning: is_categorical_dtype is deprecated and will be removed in a future version. Use isinstance(dtype, CategoricalDtype) instead\n",
      "  if pd.api.types.is_categorical_dtype(vector):\n",
      "C:\\Users\\user\\AppData\\Roaming\\Python\\Python310\\site-packages\\seaborn\\_oldcore.py:1498: FutureWarning: is_categorical_dtype is deprecated and will be removed in a future version. Use isinstance(dtype, CategoricalDtype) instead\n",
      "  if pd.api.types.is_categorical_dtype(vector):\n",
      "C:\\Users\\user\\AppData\\Roaming\\Python\\Python310\\site-packages\\seaborn\\_oldcore.py:1498: FutureWarning: is_categorical_dtype is deprecated and will be removed in a future version. Use isinstance(dtype, CategoricalDtype) instead\n",
      "  if pd.api.types.is_categorical_dtype(vector):\n"
     ]
    },
    {
     "data": {
      "image/png": "[encoded data removed]",
      "text/plain": [
       "<Figure size 1152x576 with 1 Axes>"
      ]
     },
     "metadata": {
      "needs_background": "light"
     },
     "output_type": "display_data"
    }
   ],
   "source": [
    "#Grafik bar dari banyaknya label emoticon\n",
    "plt.figure(figsize=(16,8))\n",
    "sns.countplot(x=\"label\", data=dataset_berisi)\n",
    "plt.show()"
   ]
  },
  {
   "cell_type": "code",
   "execution_count": 32,
   "metadata": {},
   "outputs": [],
   "source": [
    "# Analisis sentimen\n",
    "def sentimen(text):\n",
    "    blob = tb(text)\n",
    "    blob = blob.translate(from_lang='in', to='en')\n",
    "    sentimen = blob.sentiment.polarity\n",
    "    if sentimen > 0:\n",
    "        return \"Positif\"\n",
    "    elif sentimen < 0:\n",
    "        return \"Negatif\"\n",
    "    else:\n",
    "        return \"Netral\""
   ]
  },
  {
   "cell_type": "code",
   "execution_count": 34,
   "metadata": {},
   "outputs": [
    {
     "data": {
      "text/plain": [
       "['BTC_ADDRESS_REGEX',\n",
       " 'CURRENCY_REGEX',\n",
       " 'CURRENCY_SYMB_REGEX',\n",
       " 'Counter',\n",
       " 'DATE_REGEX',\n",
       " 'EMAIL_REGEX',\n",
       " 'EMOJI_REGEX',\n",
       " 'HASTAG_REGEX',\n",
       " 'MASTERCard_REGEX',\n",
       " 'MD5_SHA_REGEX',\n",
       " 'MOST_COMMON_PUNCT_REGEX',\n",
       " 'NUMBERS_REGEX',\n",
       " 'PHONE_REGEX',\n",
       " 'PoBOX_REGEX',\n",
       " 'SPECIAL_CHARACTERS_REGEX',\n",
       " 'STOPWORDS',\n",
       " 'STOPWORDS_de',\n",
       " 'STOPWORDS_en',\n",
       " 'STOPWORDS_es',\n",
       " 'STOPWORDS_fr',\n",
       " 'STOPWORDS_ru',\n",
       " 'STOPWORDS_yo',\n",
       " 'STREET_ADDRESS_REGEX',\n",
       " 'TextFrame',\n",
       " 'URL_PATTERN',\n",
       " 'USER_HANDLES_REGEX',\n",
       " 'VISACard_REGEX',\n",
       " '__builtins__',\n",
       " '__cached__',\n",
       " '__doc__',\n",
       " '__file__',\n",
       " '__generate_text',\n",
       " '__loader__',\n",
       " '__name__',\n",
       " '__numbers_dict',\n",
       " '__package__',\n",
       " '__spec__',\n",
       " '_lex_richness_herdan',\n",
       " '_lex_richness_maas_ttr',\n",
       " 'clean_text',\n",
       " 'defaultdict',\n",
       " 'digit2words',\n",
       " 'extract_btc_address',\n",
       " 'extract_currencies',\n",
       " 'extract_currency_symbols',\n",
       " 'extract_dates',\n",
       " 'extract_emails',\n",
       " 'extract_emojis',\n",
       " 'extract_hashtags',\n",
       " 'extract_html_tags',\n",
       " 'extract_mastercard_addr',\n",
       " 'extract_md5sha',\n",
       " 'extract_numbers',\n",
       " 'extract_pattern',\n",
       " 'extract_phone_numbers',\n",
       " 'extract_postoffice_box',\n",
       " 'extract_shortwords',\n",
       " 'extract_special_characters',\n",
       " 'extract_stopwords',\n",
       " 'extract_street_address',\n",
       " 'extract_terms_in_bracket',\n",
       " 'extract_urls',\n",
       " 'extract_userhandles',\n",
       " 'extract_visacard_addr',\n",
       " 'fix_contractions',\n",
       " 'generate_sentence',\n",
       " 'hamming_distance',\n",
       " 'inverse_df',\n",
       " 'lexical_richness',\n",
       " 'markov_chain',\n",
       " 'math',\n",
       " 'nlargest',\n",
       " 'normalize',\n",
       " 'num2words',\n",
       " 'random',\n",
       " 're',\n",
       " 'read_txt',\n",
       " 'remove_accents',\n",
       " 'remove_bad_quotes',\n",
       " 'remove_btc_address',\n",
       " 'remove_currencies',\n",
       " 'remove_currency_symbols',\n",
       " 'remove_custom_pattern',\n",
       " 'remove_custom_words',\n",
       " 'remove_dates',\n",
       " 'remove_emails',\n",
       " 'remove_emojis',\n",
       " 'remove_hashtags',\n",
       " 'remove_html_tags',\n",
       " 'remove_mastercard_addr',\n",
       " 'remove_md5sha',\n",
       " 'remove_multiple_spaces',\n",
       " 'remove_non_ascii',\n",
       " 'remove_numbers',\n",
       " 'remove_phone_numbers',\n",
       " 'remove_postoffice_box',\n",
       " 'remove_puncts',\n",
       " 'remove_punctuations',\n",
       " 'remove_shortwords',\n",
       " 'remove_special_characters',\n",
       " 'remove_stopwords',\n",
       " 'remove_street_address',\n",
       " 'remove_terms_in_bracket',\n",
       " 'remove_urls',\n",
       " 'remove_userhandles',\n",
       " 'remove_visacard_addr',\n",
       " 'replace_bad_quotes',\n",
       " 'replace_currencies',\n",
       " 'replace_currency_symbols',\n",
       " 'replace_dates',\n",
       " 'replace_emails',\n",
       " 'replace_emojis',\n",
       " 'replace_numbers',\n",
       " 'replace_phone_numbers',\n",
       " 'replace_special_characters',\n",
       " 'replace_term',\n",
       " 'replace_urls',\n",
       " 'string',\n",
       " 'term_freq',\n",
       " 'to_txt',\n",
       " 'unicodedata',\n",
       " 'word_freq',\n",
       " 'word_length_freq']"
      ]
     },
     "execution_count": 34,
     "metadata": {},
     "output_type": "execute_result"
    }
   ],
   "source": [
    "dir(nfx)"
   ]
  },
  {
   "cell_type": "code",
   "execution_count": 35,
   "metadata": {},
   "outputs": [],
   "source": [
    "dataset_berisi[\"teks_bersih\"] = dataset_berisi[\"teks_bersih\"].apply(nfx.remove_stopwords)\n",
    "dataset_berisi[\"teks_bersih\"] = dataset_berisi[\"teks_bersih\"].apply(nfx.remove_userhandles)\n",
    "dataset_berisi[\"teks_bersih\"] = dataset_berisi[\"teks_bersih\"].apply(nfx.remove_punctuations)\n",
    "dataset_berisi[\"teks_bersih\"] = dataset_berisi[\"teks_bersih\"].apply(nfx.remove_special_characters)\n",
    "dataset_berisi[\"teks_bersih\"] = dataset_berisi[\"teks_bersih\"].apply(nfx.remove_emojis)\n",
    "dataset_berisi[\"teks_bersih\"] = dataset_berisi[\"teks_bersih\"].apply(nfx.remove_non_ascii)"
   ]
  },
  {
   "cell_type": "code",
   "execution_count": 36,
   "metadata": {},
   "outputs": [
    {
     "data": {
      "text/html": [
       "<div>\n",
       "<style scoped>\n",
       "    .dataframe tbody tr th:only-of-type {\n",
       "        vertical-align: middle;\n",
       "    }\n",
       "\n",
       "    .dataframe tbody tr th {\n",
       "        vertical-align: top;\n",
       "    }\n",
       "\n",
       "    .dataframe thead th {\n",
       "        text-align: right;\n",
       "    }\n",
       "</style>\n",
       "<table border=\"1\" class=\"dataframe\">\n",
       "  <thead>\n",
       "    <tr style=\"text-align: right;\">\n",
       "      <th></th>\n",
       "      <th>label</th>\n",
       "      <th>tweet</th>\n",
       "      <th>teks_bersih</th>\n",
       "    </tr>\n",
       "  </thead>\n",
       "  <tbody>\n",
       "    <tr>\n",
       "      <th>0</th>\n",
       "      <td>fear</td>\n",
       "      <td>Lebih menyeramkan kalo punya grup WA keluarga ...</td>\n",
       "      <td>Lebih menyeramkan kalo punya grup WA keluarga ...</td>\n",
       "    </tr>\n",
       "    <tr>\n",
       "      <th>1</th>\n",
       "      <td>joy</td>\n",
       "      <td>Hepibesdey canteeeekk [USERNAME] panjang umur,...</td>\n",
       "      <td>Hepibesdey canteeeekk panjang umur jadi pribad...</td>\n",
       "    </tr>\n",
       "    <tr>\n",
       "      <th>2</th>\n",
       "      <td>joy</td>\n",
       "      <td>Jumat lalu nonton inih! Selain tertarik settin...</td>\n",
       "      <td>Jumat lalu nonton inih Selain tertarik setting...</td>\n",
       "    </tr>\n",
       "    <tr>\n",
       "      <th>3</th>\n",
       "      <td>joy</td>\n",
       "      <td>Nyante dulu.. Sruput kopi biar tambah bijak...</td>\n",
       "      <td>Nyante dulu Sruput kopi biar tambah bijak</td>\n",
       "    </tr>\n",
       "    <tr>\n",
       "      <th>4</th>\n",
       "      <td>love</td>\n",
       "      <td>Happy annyversarry yg pertama kalinya .. Trsra...</td>\n",
       "      <td>Happy annyversarry yg pertama kalinya Trsrah o...</td>\n",
       "    </tr>\n",
       "    <tr>\n",
       "      <th>...</th>\n",
       "      <td>...</td>\n",
       "      <td>...</td>\n",
       "      <td>...</td>\n",
       "    </tr>\n",
       "    <tr>\n",
       "      <th>4146</th>\n",
       "      <td>anger</td>\n",
       "      <td>sini berobat sama saya ini ngantri dokter saja...</td>\n",
       "      <td>sini berobat sama saya ini ngantri dokter saja...</td>\n",
       "    </tr>\n",
       "    <tr>\n",
       "      <th>4147</th>\n",
       "      <td>joy</td>\n",
       "      <td>Selamat pagi generasi Tik Tok yang kadang kepa...</td>\n",
       "      <td>Selamat pagi generasi Tik Tok yang kadang kepa...</td>\n",
       "    </tr>\n",
       "    <tr>\n",
       "      <th>4148</th>\n",
       "      <td>love</td>\n",
       "      <td>Salah satu sahabat terbaik! Teman, kakak, insp...</td>\n",
       "      <td>Salah satu sahabat terbaik Teman kakak inspira...</td>\n",
       "    </tr>\n",
       "    <tr>\n",
       "      <th>4149</th>\n",
       "      <td>anger</td>\n",
       "      <td>[USERNAME] Gila kok ada ya perempuan pikiranny...</td>\n",
       "      <td>Gila kok ada ya perempuan pikirannya malah nyi...</td>\n",
       "    </tr>\n",
       "    <tr>\n",
       "      <th>4150</th>\n",
       "      <td>anger</td>\n",
       "      <td>[USERNAME] saya coba hubungi yg di cakung dan ...</td>\n",
       "      <td>saya coba hubungi yg di cakung dan minta di wa...</td>\n",
       "    </tr>\n",
       "  </tbody>\n",
       "</table>\n",
       "<p>4151 rows × 3 columns</p>\n",
       "</div>"
      ],
      "text/plain": [
       "      label                                              tweet  \\\n",
       "0      fear  Lebih menyeramkan kalo punya grup WA keluarga ...   \n",
       "1       joy  Hepibesdey canteeeekk [USERNAME] panjang umur,...   \n",
       "2       joy  Jumat lalu nonton inih! Selain tertarik settin...   \n",
       "3       joy     Nyante dulu.. Sruput kopi biar tambah bijak...   \n",
       "4      love  Happy annyversarry yg pertama kalinya .. Trsra...   \n",
       "...     ...                                                ...   \n",
       "4146  anger  sini berobat sama saya ini ngantri dokter saja...   \n",
       "4147    joy  Selamat pagi generasi Tik Tok yang kadang kepa...   \n",
       "4148   love  Salah satu sahabat terbaik! Teman, kakak, insp...   \n",
       "4149  anger  [USERNAME] Gila kok ada ya perempuan pikiranny...   \n",
       "4150  anger  [USERNAME] saya coba hubungi yg di cakung dan ...   \n",
       "\n",
       "                                            teks_bersih  \n",
       "0     Lebih menyeramkan kalo punya grup WA keluarga ...  \n",
       "1     Hepibesdey canteeeekk panjang umur jadi pribad...  \n",
       "2     Jumat lalu nonton inih Selain tertarik setting...  \n",
       "3             Nyante dulu Sruput kopi biar tambah bijak  \n",
       "4     Happy annyversarry yg pertama kalinya Trsrah o...  \n",
       "...                                                 ...  \n",
       "4146  sini berobat sama saya ini ngantri dokter saja...  \n",
       "4147  Selamat pagi generasi Tik Tok yang kadang kepa...  \n",
       "4148  Salah satu sahabat terbaik Teman kakak inspira...  \n",
       "4149  Gila kok ada ya perempuan pikirannya malah nyi...  \n",
       "4150  saya coba hubungi yg di cakung dan minta di wa...  \n",
       "\n",
       "[4151 rows x 3 columns]"
      ]
     },
     "execution_count": 36,
     "metadata": {},
     "output_type": "execute_result"
    }
   ],
   "source": [
    "dataset_berisi"
   ]
  },
  {
   "cell_type": "code",
   "execution_count": 37,
   "metadata": {},
   "outputs": [
    {
     "data": {
      "text/plain": [
       "label\n",
       "sadness    1122\n",
       "joy        1002\n",
       "anger       875\n",
       "fear        654\n",
       "love        498\n",
       "Name: count, dtype: int64"
      ]
     },
     "execution_count": 37,
     "metadata": {},
     "output_type": "execute_result"
    }
   ],
   "source": [
    "dataset_berisi[\"label\"].value_counts()"
   ]
  },
  {
   "cell_type": "code",
   "execution_count": 38,
   "metadata": {},
   "outputs": [],
   "source": [
    "from collections import Counter"
   ]
  },
  {
   "cell_type": "code",
   "execution_count": 58,
   "metadata": {},
   "outputs": [],
   "source": [
    "def ekstrak_keyword(text, n = 50):\n",
    "    token = [ token for token in text.split()]\n",
    "    token_umum = Counter(token).most_common(n)\n",
    "    return dict(token_umum)\n"
   ]
  },
  {
   "cell_type": "code",
   "execution_count": 40,
   "metadata": {},
   "outputs": [
    {
     "data": {
      "text/plain": [
       "['fear', 'joy', 'love', 'sadness', 'anger']"
      ]
     },
     "execution_count": 40,
     "metadata": {},
     "output_type": "execute_result"
    }
   ],
   "source": [
    "label_list = dataset_berisi['label'].unique().tolist()\n",
    "label_list"
   ]
  },
  {
   "cell_type": "code",
   "execution_count": 47,
   "metadata": {},
   "outputs": [],
   "source": [
    "fear_list = dataset_berisi[dataset_berisi['label'] == label_list[0]]['teks_bersih'].tolist()"
   ]
  },
  {
   "cell_type": "code",
   "execution_count": 49,
   "metadata": {},
   "outputs": [],
   "source": [
    "fear_doc = ''.join(fear_list)"
   ]
  },
  {
   "cell_type": "code",
   "execution_count": 59,
   "metadata": {},
   "outputs": [],
   "source": [
    "keyword_fear = ekstrak_keyword(fear_doc)"
   ]
  },
  {
   "cell_type": "code",
   "execution_count": 60,
   "metadata": {},
   "outputs": [
    {
     "data": {
      "text/plain": [
       "{'takut': 316,\n",
       " 'di': 271,\n",
       " 'yang': 222,\n",
       " 'yg': 213,\n",
       " 'aku': 189,\n",
       " 'dan': 176,\n",
       " 'gue': 152,\n",
       " 'ada': 148,\n",
       " 'kamu': 123,\n",
       " 'ini': 120,\n",
       " 'itu': 116,\n",
       " 'ga': 114,\n",
       " 'kalo': 100,\n",
       " 'ya': 89,\n",
       " 'sama': 88,\n",
       " 'aja': 86,\n",
       " 'merasa': 85,\n",
       " 'ke': 84,\n",
       " 'mau': 83,\n",
       " 'dia': 75,\n",
       " 'seperti': 75,\n",
       " 'bisa': 75,\n",
       " 'jadi': 73,\n",
       " 'harus': 68,\n",
       " 'gitu': 66,\n",
       " 'tapi': 61,\n",
       " 'pas': 59,\n",
       " 'dari': 58,\n",
       " 'gua': 58,\n",
       " 'gak': 56,\n",
       " 'dengan': 56,\n",
       " 'lagi': 56,\n",
       " 'udah': 55,\n",
       " 'juga': 55,\n",
       " 'orang': 55,\n",
       " 'sih': 53,\n",
       " 'kita': 53,\n",
       " 'mana': 53,\n",
       " 'rasa': 52,\n",
       " 'sendiri': 51,\n",
       " 'saya': 49,\n",
       " 'banget': 49,\n",
       " 'karena': 47,\n",
       " 'apa': 46,\n",
       " 'akan': 46,\n",
       " 'atau': 45,\n",
       " 'nya': 43,\n",
       " 'kan': 43,\n",
       " 'bgt': 43,\n",
       " 'untuk': 42}"
      ]
     },
     "execution_count": 60,
     "metadata": {},
     "output_type": "execute_result"
    }
   ],
   "source": [
    "keyword_fear"
   ]
  },
  {
   "cell_type": "markdown",
   "metadata": {},
   "source": [
    "### Machine Learning"
   ]
  }
 ],
 "metadata": {
  "kernelspec": {
   "display_name": "Python 3",
   "language": "python",
   "name": "python3"
  },
  "language_info": {
   "codemirror_mode": {
    "name": "ipython",
    "version": 3
   },
   "file_extension": ".py",
   "mimetype": "text/x-python",
   "name": "python",
   "nbconvert_exporter": "python",
   "pygments_lexer": "ipython3",
   "version": "3.10.0"
  },
  "orig_nbformat": 4
 },
 "nbformat": 4,
 "nbformat_minor": 2
}
